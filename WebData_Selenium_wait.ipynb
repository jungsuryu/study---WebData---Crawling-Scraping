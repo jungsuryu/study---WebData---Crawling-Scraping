{
 "cells": [
  {
   "cell_type": "markdown",
   "id": "f217ab0e",
   "metadata": {},
   "source": [
    "### wait\n",
    "- time.sleep(5): 물리적으로 5초 동안 멈추고 기다림\n",
    "- implicitly_wait(10)\n",
    "    - 전체 페이지 로딩을 최대 10초 간 기다리고, 10초 안에 페이지 로딩이 완료되면 다음 코드 실행\n",
    "    - 한 번만 실행하면, 전역(global)로 실행\n",
    "- explicitly_wait\n",
    "    - 지정된 태그만 로딩이 완료되면, 다음 코드 실행"
   ]
  },
  {
   "cell_type": "markdown",
   "id": "165caa61",
   "metadata": {},
   "source": [
    "- 무신사 스토어\n",
    "- https://store.musinsa.com/app/\n",
    "- 인기 => 백팩\n",
    "- 단독상품, 세일상품 조건 선택\n",
    "- 최소-최대 금액 입력\n",
    "- 옷 이름, 가격, 할인율, 링크, 이미지 다운"
   ]
  },
  {
   "cell_type": "code",
   "execution_count": 1,
   "id": "a57da50f",
   "metadata": {},
   "outputs": [],
   "source": [
    "import pandas as pd\n",
    "import time\n",
    "from selenium import webdriver\n",
    "\n",
    "# explicitly wait\n",
    "from selenium.webdriver.common.by import By\n",
    "from selenium.webdriver.support.ui import WebDriverWait\n",
    "from selenium.webdriver.support import expected_conditions as EC"
   ]
  },
  {
   "cell_type": "code",
   "execution_count": 52,
   "id": "fb99ac03",
   "metadata": {},
   "outputs": [
    {
     "name": "stderr",
     "output_type": "stream",
     "text": [
      "C:\\Users\\JUNGSU~1\\AppData\\Local\\Temp/ipykernel_35264/2587585125.py:2: DeprecationWarning: executable_path has been deprecated, please pass in a Service object\n",
      "  driver = webdriver.Chrome(\"chromedriver.exe\")\n"
     ]
    }
   ],
   "source": [
    "url = \"https://store.musinsa.com/app/\"\n",
    "driver = webdriver.Chrome(\"chromedriver.exe\")\n",
    "driver.implicitly_wait(10) # 웹 페이지 전체가 로딩 될 때까지 10초간 대기하고, 10초 안에 로딩이 완료되면 다음 코드를 실행\n",
    "driver.get(url)"
   ]
  },
  {
   "cell_type": "markdown",
   "id": "6b79153e",
   "metadata": {},
   "source": [
    "로그인"
   ]
  },
  {
   "cell_type": "code",
   "execution_count": 4,
   "id": "5ea8b099",
   "metadata": {},
   "outputs": [
    {
     "name": "stderr",
     "output_type": "stream",
     "text": [
      "C:\\Users\\JUNGSU~1\\AppData\\Local\\Temp/ipykernel_35264/254969319.py:1: DeprecationWarning: find_element_by_css_selector is deprecated. Please use find_element(by=By.CSS_SELECTOR, value=css_selector) instead\n",
      "  driver.find_element_by_css_selector(\"#default_top > div.header-member > button\").click()\n"
     ]
    }
   ],
   "source": [
    "# 로그인 버튼 클릭\n",
    "driver.find_element_by_css_selector(\"#default_top > div.header-member > button\").click()"
   ]
  },
  {
   "cell_type": "code",
   "execution_count": 5,
   "id": "51256711",
   "metadata": {},
   "outputs": [
    {
     "name": "stderr",
     "output_type": "stream",
     "text": [
      "C:\\Users\\JUNGSU~1\\AppData\\Local\\Temp/ipykernel_35264/2807200303.py:1: DeprecationWarning: find_element_by_css_selector is deprecated. Please use find_element(by=By.CSS_SELECTOR, value=css_selector) instead\n",
      "  driver.find_element_by_css_selector(\"body > div.container.login > section > div.login-member > form > div.login-member__form > div:nth-child(10) > div > input\").send_keys(\"abc\")\n"
     ]
    }
   ],
   "source": [
    "# 아이디 입력\n",
    "driver.find_element_by_css_selector(\"body > div.container.login > section > div.login-member > form > div.login-member__form > div:nth-child(10) > div > input\").send_keys(\"abc\")"
   ]
  },
  {
   "cell_type": "code",
   "execution_count": null,
   "id": "b8e4c9f0",
   "metadata": {},
   "outputs": [],
   "source": [
    "# 비밀번호 입력\n",
    "river.find_element_by_css_selector(\"body > div.container.login > section > div.login-member > form > div.login-member__form > div:nth-child(11) > div > input\").send_keys(\"12345\")"
   ]
  },
  {
   "cell_type": "code",
   "execution_count": null,
   "id": "63030c43",
   "metadata": {},
   "outputs": [],
   "source": [
    "# 로그인 버튼 클릭\n",
    "driver.find_element_by_css_selector(\"body > div.container.login > section > div.login-member > form > div.login-button.login-button--static > button\").click()"
   ]
  },
  {
   "cell_type": "code",
   "execution_count": null,
   "id": "a8d230bf",
   "metadata": {},
   "outputs": [],
   "source": [
    "# 로그인 실패 시 alert가 뜬다면\n",
    "driver.switch_to.alert.accept()"
   ]
  },
  {
   "cell_type": "code",
   "execution_count": 10,
   "id": "e5290b66",
   "metadata": {},
   "outputs": [],
   "source": [
    "# explicitly wait 기능을 사용한다면?\n",
    "\n",
    "# 최대 5초간 기다림 # 아래 태그가 나타날 때까지\n",
    "WebDriverWait(driver, 5).until(EC.presence_of_element_located((By.CSS_SELECTOR, \"#default_top > div.header-member > button\"))).click()"
   ]
  },
  {
   "cell_type": "code",
   "execution_count": null,
   "id": "55e865c8",
   "metadata": {},
   "outputs": [],
   "source": [
    "# 아이디 입력 - wait\n",
    "WebDriverWait(driver, 5).until(EC.presence_of_element_located((By.CSS_SELECTOR, \"body > div.container.login > section > div.login-member > form > div.login-member__form > div:nth-child(10) > div > input\"))).send_keys(\"abc\")\n",
    "\n",
    "# 비밀번호 입력 - wait\n",
    "WebDriverWait(driver, 5).until(EC.presence_of_element_located((By.CSS_SELECTOR, \"body > div.container.login > section > div.login-member > form > div.login-member__form > div:nth-child(11) > div > input\"))).send_keys(\"12345\")\n",
    "\n",
    "# 로그인 버튼 클릭 - wait\n",
    "WebDriverWait(driver, 5).until(EC.presence_of_element_located((By.CSS_SELECTOR, \"body > div.container.login > section > div.login-member > form > div.login-button.login-button--static > button\"))).click()"
   ]
  },
  {
   "cell_type": "markdown",
   "id": "cee84f20",
   "metadata": {},
   "source": [
    "상품 검색"
   ]
  },
  {
   "cell_type": "code",
   "execution_count": 53,
   "id": "220d3776",
   "metadata": {},
   "outputs": [
    {
     "name": "stderr",
     "output_type": "stream",
     "text": [
      "C:\\Users\\JUNGSU~1\\AppData\\Local\\Temp/ipykernel_35264/1760444072.py:2: DeprecationWarning: find_element_by_css_selector is deprecated. Please use find_element(by=By.CSS_SELECTOR, value=css_selector) instead\n",
      "  best_link = driver.find_element_by_css_selector(\"#ui-id-2 > ul:nth-child(1) > li:nth-child(1) > a\").get_attribute(\"href\")\n"
     ]
    },
    {
     "data": {
      "text/plain": [
       "'https://search.musinsa.com/category/004001'"
      ]
     },
     "execution_count": 53,
     "metadata": {},
     "output_type": "execute_result"
    }
   ],
   "source": [
    "# 인기 => 백팩\n",
    "best_link = driver.find_element_by_css_selector(\"#ui-id-2 > ul:nth-child(1) > li:nth-child(1) > a\").get_attribute(\"href\")\n",
    "best_link"
   ]
  },
  {
   "cell_type": "code",
   "execution_count": 54,
   "id": "16c84d59",
   "metadata": {},
   "outputs": [],
   "source": [
    "# 인기 => 백팩 링크 => 새 탭으로 열기\n",
    "driver.execute_script(\"window.open('{}')\".format(best_link)) # 새로운 탭에서"
   ]
  },
  {
   "cell_type": "code",
   "execution_count": 55,
   "id": "e9b913b6",
   "metadata": {},
   "outputs": [],
   "source": [
    "# 백팩 탭으로 이동\n",
    "driver.switch_to.window(driver.window_handles[1]) # 탭 바꾸기"
   ]
  },
  {
   "cell_type": "code",
   "execution_count": 21,
   "id": "a2e2af55",
   "metadata": {},
   "outputs": [
    {
     "name": "stderr",
     "output_type": "stream",
     "text": [
      "C:\\Users\\JUNGSU~1\\AppData\\Local\\Temp/ipykernel_35264/3415644541.py:2: DeprecationWarning: find_element_by_css_selector is deprecated. Please use find_element(by=By.CSS_SELECTOR, value=css_selector) instead\n",
      "  driver.find_element_by_css_selector(\"#btn_exclusive\").click()\n"
     ]
    }
   ],
   "source": [
    "# 단독상품 옵션 클릭\n",
    "# driver.find_element_by_css_selector(\"#btn_exclusive\").click()\n",
    "\n",
    "WebDriverWait(driver, 5).until(EC.presence_of_element_located((By.CSS_SELECTOR, \"#btn_exclusive\"))).click()"
   ]
  },
  {
   "cell_type": "code",
   "execution_count": 22,
   "id": "fe365c62",
   "metadata": {},
   "outputs": [
    {
     "name": "stderr",
     "output_type": "stream",
     "text": [
      "C:\\Users\\JUNGSU~1\\AppData\\Local\\Temp/ipykernel_35264/3438230947.py:2: DeprecationWarning: find_element_by_css_selector is deprecated. Please use find_element(by=By.CSS_SELECTOR, value=css_selector) instead\n",
      "  driver.find_element_by_css_selector(\"#btn_sale\").click()\n"
     ]
    }
   ],
   "source": [
    "# 세일상품 옵션 클릭\n",
    "# driver.find_element_by_css_selector(\"#btn_sale\").click()\n",
    "\n",
    "WebDriverWait(driver, 5).until(EC.presence_of_element_located((By.CSS_SELECTOR, \"#btn_sale\"))).click()"
   ]
  },
  {
   "cell_type": "code",
   "execution_count": 56,
   "id": "d4e50460",
   "metadata": {},
   "outputs": [],
   "source": [
    "WebDriverWait(driver, 5).until(EC.presence_of_element_located((By.CSS_SELECTOR, \"#btn_exclusive\"))).click()\n",
    "WebDriverWait(driver, 5).until(EC.presence_of_element_located((By.CSS_SELECTOR, \"#btn_sale\"))).click()"
   ]
  },
  {
   "cell_type": "code",
   "execution_count": 59,
   "id": "48f000b1",
   "metadata": {},
   "outputs": [],
   "source": [
    "# 최소 - 최대 금액 설정\n",
    "WebDriverWait(driver, 5).until(EC.presence_of_element_located((By.CSS_SELECTOR, \"#minPrice\"))).send_keys(\"10000\")\n",
    "WebDriverWait(driver, 5).until(EC.presence_of_element_located((By.CSS_SELECTOR, \"#maxPrice\"))).send_keys(\"100000\")\n",
    "WebDriverWait(driver, 5).until(EC.presence_of_element_located((By.CSS_SELECTOR, \"#btn_price_search\"))).click()"
   ]
  },
  {
   "cell_type": "code",
   "execution_count": 60,
   "id": "905fb555",
   "metadata": {},
   "outputs": [
    {
     "name": "stderr",
     "output_type": "stream",
     "text": [
      "C:\\Users\\JUNGSU~1\\AppData\\Local\\Temp/ipykernel_35264/2701587712.py:2: DeprecationWarning: find_elements_by_css_selector is deprecated. Please use find_elements(by=By.CSS_SELECTOR, value=css_selector) instead\n",
      "  bags = driver.find_elements_by_css_selector(\"#searchList > li\")\n"
     ]
    },
    {
     "data": {
      "text/plain": [
       "90"
      ]
     },
     "execution_count": 60,
     "metadata": {},
     "output_type": "execute_result"
    }
   ],
   "source": [
    "# 부모 태그\n",
    "bags = driver.find_elements_by_css_selector(\"#searchList > li\")\n",
    "len(bags)"
   ]
  },
  {
   "cell_type": "code",
   "execution_count": 31,
   "id": "deac00ca",
   "metadata": {},
   "outputs": [
    {
     "data": {
      "text/plain": [
       "'THINK PACK'"
      ]
     },
     "execution_count": 31,
     "metadata": {},
     "output_type": "execute_result"
    }
   ],
   "source": [
    "# 자식 태그\n",
    "\n",
    "# 제품명\n",
    "# bags[0].find_element_by_css_selector(\"p.list_info > a\").text\n",
    "bags[0].find_element_by_css_selector(\"p.list_info > a\").get_attribute(\"title\")"
   ]
  },
  {
   "cell_type": "code",
   "execution_count": 34,
   "id": "3de021f3",
   "metadata": {},
   "outputs": [
    {
     "data": {
      "text/plain": [
       "'79,000'"
      ]
     },
     "execution_count": 34,
     "metadata": {},
     "output_type": "execute_result"
    }
   ],
   "source": [
    "# 가격\n",
    "bags[0].find_element_by_css_selector(\"p.price\").text.split(\" \")[1][:-1] # 두 개의 가격 중 세일 가격, '원' 제외"
   ]
  },
  {
   "cell_type": "code",
   "execution_count": 36,
   "id": "ccb2118c",
   "metadata": {},
   "outputs": [
    {
     "data": {
      "text/plain": [
       "'34%'"
      ]
     },
     "execution_count": 36,
     "metadata": {},
     "output_type": "execute_result"
    }
   ],
   "source": [
    "# 할인율\n",
    "bags[0].find_element_by_css_selector(\".icon_new\").text.split(\" \")[1]"
   ]
  },
  {
   "cell_type": "code",
   "execution_count": 39,
   "id": "b2216207",
   "metadata": {},
   "outputs": [
    {
     "data": {
      "text/plain": [
       "'https://www.musinsa.com/app/goods/2066837'"
      ]
     },
     "execution_count": 39,
     "metadata": {},
     "output_type": "execute_result"
    }
   ],
   "source": [
    "# 상품 세부 링크\n",
    "bags[0].find_element_by_css_selector(\"p.list_info > a\").get_attribute(\"href\")"
   ]
  },
  {
   "cell_type": "code",
   "execution_count": 48,
   "id": "8ef211ae",
   "metadata": {},
   "outputs": [
    {
     "name": "stdout",
     "output_type": "stream",
     "text": [
      "https://image.msscdn.net/images/goods_img/20210817/2066837/2066837_5_125.jpg\n"
     ]
    }
   ],
   "source": [
    "# 썸네일 이미지\n",
    "# bags[0].find_element_by_css_selector(\"img\").get_attribute(\"src\")\n",
    "\n",
    "try: \n",
    "    print(bags[0].find_element_by_css_selector(\"img\").get_attribute(\"src\"))\n",
    "except:\n",
    "    print(bags[0].find_element_by_css_selector(\"img\").get_attribute(\"data-original\"))\n",
    "\n"
   ]
  },
  {
   "cell_type": "code",
   "execution_count": 43,
   "id": "9b21116c",
   "metadata": {},
   "outputs": [],
   "source": [
    "!mkdir musinsa # 파일 만들기"
   ]
  },
  {
   "cell_type": "code",
   "execution_count": 44,
   "id": "ae5016cd",
   "metadata": {},
   "outputs": [],
   "source": [
    "import requests"
   ]
  },
  {
   "cell_type": "code",
   "execution_count": 45,
   "id": "48f3a578",
   "metadata": {},
   "outputs": [
    {
     "name": "stderr",
     "output_type": "stream",
     "text": [
      "C:\\Users\\Jungsu Ryu\\anaconda3\\lib\\site-packages\\selenium\\webdriver\\remote\\webelement.py:484: UserWarning: find_element_by_css_selector is deprecated. Please use find_element(by=By.CSS_SELECTOR, value=css_selector) instead\n",
      "  warnings.warn(\"find_element_by_css_selector is deprecated. Please use find_element(by=By.CSS_SELECTOR, value=css_selector) instead\")\n"
     ]
    },
    {
     "data": {
      "text/plain": [
       "b'\\xff\\xd8\\xff\\xe0\\x00'"
      ]
     },
     "execution_count": 45,
     "metadata": {},
     "output_type": "execute_result"
    }
   ],
   "source": [
    "res = requests.get(bags[0].find_element_by_css_selector(\"img\").get_attribute(\"src\"))\n",
    "res.content[:5]"
   ]
  },
  {
   "cell_type": "code",
   "execution_count": 46,
   "id": "97cb090b",
   "metadata": {},
   "outputs": [],
   "source": [
    "with open(\"./musinsa/bag.png\", \"wb\") as f:\n",
    "    f.write(res.content)"
   ]
  },
  {
   "cell_type": "markdown",
   "id": "9c0881fb",
   "metadata": {},
   "source": [
    "전체 데이터 크롤링"
   ]
  },
  {
   "cell_type": "code",
   "execution_count": 61,
   "id": "b151f8cb",
   "metadata": {},
   "outputs": [
    {
     "name": "stderr",
     "output_type": "stream",
     "text": [
      "C:\\Users\\JUNGSU~1\\AppData\\Local\\Temp/ipykernel_35264/474714908.py:5: TqdmDeprecationWarning: This function will be removed in tqdm==5.0.0\n",
      "Please use `tqdm.notebook.tqdm` instead of `tqdm.tqdm_notebook`\n",
      "  for bag in tqdm_notebook(bags[:3]):\n"
     ]
    },
    {
     "data": {
      "application/vnd.jupyter.widget-view+json": {
       "model_id": "0906251fae1a4931a9643a5f792d37f2",
       "version_major": 2,
       "version_minor": 0
      },
      "text/plain": [
       "  0%|          | 0/3 [00:00<?, ?it/s]"
      ]
     },
     "metadata": {},
     "output_type": "display_data"
    },
    {
     "data": {
      "text/html": [
       "<div>\n",
       "<style scoped>\n",
       "    .dataframe tbody tr th:only-of-type {\n",
       "        vertical-align: middle;\n",
       "    }\n",
       "\n",
       "    .dataframe tbody tr th {\n",
       "        vertical-align: top;\n",
       "    }\n",
       "\n",
       "    .dataframe thead th {\n",
       "        text-align: right;\n",
       "    }\n",
       "</style>\n",
       "<table border=\"1\" class=\"dataframe\">\n",
       "  <thead>\n",
       "    <tr style=\"text-align: right;\">\n",
       "      <th></th>\n",
       "      <th>title</th>\n",
       "      <th>price</th>\n",
       "      <th>sale</th>\n",
       "      <th>link</th>\n",
       "      <th>img</th>\n",
       "    </tr>\n",
       "  </thead>\n",
       "  <tbody>\n",
       "    <tr>\n",
       "      <th>0</th>\n",
       "      <td>THINK PACK</td>\n",
       "      <td>79,000</td>\n",
       "      <td>34%</td>\n",
       "      <td>https://www.musinsa.com/app/goods/2066837</td>\n",
       "      <td>https://image.msscdn.net/images/goods_img/2021...</td>\n",
       "    </tr>\n",
       "    <tr>\n",
       "      <th>1</th>\n",
       "      <td>코듀라 백팩 [블랙]</td>\n",
       "      <td>22,790</td>\n",
       "      <td>15%</td>\n",
       "      <td>https://www.musinsa.com/app/goods/937525</td>\n",
       "      <td>https://image.msscdn.net/images/goods_img/2019...</td>\n",
       "    </tr>\n",
       "    <tr>\n",
       "      <th>2</th>\n",
       "      <td>코듀라 빅 사이즈 백팩 [블랙]</td>\n",
       "      <td>30,490</td>\n",
       "      <td>10%</td>\n",
       "      <td>https://www.musinsa.com/app/goods/1604110</td>\n",
       "      <td>https://image.msscdn.net/images/goods_img/2020...</td>\n",
       "    </tr>\n",
       "  </tbody>\n",
       "</table>\n",
       "</div>"
      ],
      "text/plain": [
       "               title   price sale                                       link  \\\n",
       "0         THINK PACK  79,000  34%  https://www.musinsa.com/app/goods/2066837   \n",
       "1        코듀라 백팩 [블랙]  22,790  15%   https://www.musinsa.com/app/goods/937525   \n",
       "2  코듀라 빅 사이즈 백팩 [블랙]  30,490  10%  https://www.musinsa.com/app/goods/1604110   \n",
       "\n",
       "                                                 img  \n",
       "0  https://image.msscdn.net/images/goods_img/2021...  \n",
       "1  https://image.msscdn.net/images/goods_img/2019...  \n",
       "2  https://image.msscdn.net/images/goods_img/2020...  "
      ]
     },
     "execution_count": 61,
     "metadata": {},
     "output_type": "execute_result"
    }
   ],
   "source": [
    "from tqdm import tqdm_notebook\n",
    "\n",
    "datas = []\n",
    "\n",
    "for bag in tqdm_notebook(bags[:3]):\n",
    "    title = bag.find_element_by_css_selector(\"p.list_info > a\").get_attribute(\"title\")\n",
    "    price = bag.find_element_by_css_selector(\"p.price\").text.split(\" \")[1][:-1]\n",
    "    sale = bag.find_element_by_css_selector(\".icon_new\").text.split(\" \")[1]\n",
    "    link = bag.find_element_by_css_selector(\"p.list_info > a\").get_attribute(\"href\")\n",
    "    img = bag.find_element_by_css_selector(\"img\").get_attribute(\"src\")\n",
    "    \n",
    "    datas.append({\n",
    "        \"title\": title,\n",
    "        \"price\": price,\n",
    "        \"sale\": sale,\n",
    "        \"link\": link,\n",
    "        \"img\": img\n",
    "    })\n",
    "\n",
    "driver.quit()\n",
    "\n",
    "df = pd.DataFrame(datas)\n",
    "df"
   ]
  },
  {
   "cell_type": "code",
   "execution_count": 62,
   "id": "90763152",
   "metadata": {},
   "outputs": [
    {
     "name": "stderr",
     "output_type": "stream",
     "text": [
      "C:\\Users\\JUNGSU~1\\AppData\\Local\\Temp/ipykernel_35264/2403215988.py:3: TqdmDeprecationWarning: This function will be removed in tqdm==5.0.0\n",
      "Please use `tqdm.notebook.tqdm` instead of `tqdm.tqdm_notebook`\n",
      "  for idx, rows in tqdm_notebook(df.iterrows()):\n"
     ]
    },
    {
     "data": {
      "application/vnd.jupyter.widget-view+json": {
       "model_id": "b912ff8607564d7a8e5b4cb725e1c707",
       "version_major": 2,
       "version_minor": 0
      },
      "text/plain": [
       "0it [00:00, ?it/s]"
      ]
     },
     "metadata": {},
     "output_type": "display_data"
    }
   ],
   "source": [
    "# 이미지 다운로드\n",
    "\n",
    "for idx, rows in tqdm_notebook(df.iterrows()):\n",
    "    thumb_link = rows[\"img\"]\n",
    "    response = requests.get(thumb_link)\n",
    "    name = str(idx) + \"_\" + rows[\"title\"]\n",
    "    with open(\"./musinsa/{}.png\".format(name), \"wb\") as f:\n",
    "        f.write(response.content)"
   ]
  },
  {
   "cell_type": "markdown",
   "id": "30440242",
   "metadata": {},
   "source": [
    "코드 한꺼번에"
   ]
  },
  {
   "cell_type": "code",
   "execution_count": null,
   "id": "391ac8db",
   "metadata": {},
   "outputs": [],
   "source": [
    "%%writefile ./musinsa.py\n",
    "\n",
    "import pandas as pd\n",
    "import time\n",
    "from selenium import webdriver\n",
    "\n",
    "# explicitly wait\n",
    "from selenium.webdriver.common.by import By\n",
    "from selenium.webdriver.support.ui import WebDriverWait\n",
    "from selenium.webdriver.support import expected_conditions as EC\n",
    "\n",
    "\n",
    "print(\"#1. selenium get url\")\n",
    "\n",
    "# headless 옵션으로 작업\n",
    "options = webdriver.ChromeOptions()\n",
    "options.add_argument(\"headless\")\n",
    "\n",
    "url = \"https://store.musinsa.com/app/\"\n",
    "driver = webdriver.Chrome(\"chromedriver.exe\", options=options)\n",
    "driver.implicitly_wait(10) # 웹 페이지 전체가 로딩 될 때까지 10초간 대기하고, 10초 안에 로딩이 완료되면 다음 코드를 실행\n",
    "driver.get(url)\n",
    "\n",
    "\n",
    "print(\"#2. maximize window\")\n",
    "\n",
    "# 화면 최대화\n",
    "driver.maximize_window()\n",
    "\n",
    "print(\"#3. best item\")\n",
    "\n",
    "# 인기 => 백팩\n",
    "best_link = driver.find_element_by_css_selector(\"#ui-id-2 > ul:nth-child(1) > li:nth-child(1) > a\").get_attribute(\"href\")\n",
    "\n",
    "# 인기 => 백팩 링크 => 새 탭으로 열기\n",
    "driver.execute_script(\"window.open('{}')\".format(best_link)) # 새로운 탭에서\n",
    "\n",
    "# 백팩 탭으로 이동\n",
    "driver.switch_to.window(driver.window_handles[1]) # 탭 바꾸기\n",
    "\n",
    "print(\"#4. tab open ok! I'm waiting...\")\n",
    "\n",
    "time.sleep(3)\n",
    "\n",
    "print(\"#5. item option check\")\n",
    "\n",
    "# 단독상품, 세일상품 체크\n",
    "WebDriverWait(driver, 5).until(EC.presence_of_element_located((By.CSS_SELECTOR, \"#btn_exclusive\"))).click()\n",
    "WebDriverWait(driver, 5).until(EC.presence_of_element_located((By.CSS_SELECTOR, \"#btn_sale\"))).click()\n",
    "\n",
    "# 최소 - 최대 금액 설정\n",
    "WebDriverWait(driver, 5).until(EC.presence_of_element_located((By.CSS_SELECTOR, \"#minPrice\"))).send_keys(\"10000\")\n",
    "WebDriverWait(driver, 5).until(EC.presence_of_element_located((By.CSS_SELECTOR, \"#maxPrice\"))).send_keys(\"100000\")\n",
    "WebDriverWait(driver, 5).until(EC.presence_of_element_located((By.CSS_SELECTOR, \"#btn_price_search\"))).click()\n",
    "\n",
    "print(\"#6. item option check done! I'm waiting\")\n",
    "\n",
    "time.sleep(3)\n",
    "\n",
    "print(\"#7. items crawling start\")\n",
    "\n",
    "# 부모 태그\n",
    "bags = driver.find_elements_by_css_selector(\"#searchList > li\")\n",
    "\n",
    "\n",
    "\n",
    "datas = []\n",
    "\n",
    "for index, bag in enumerate(bags[:10]):\n",
    "    title = bag.find_element_by_css_selector(\"p.list_info > a\").get_attribute(\"title\")\n",
    "    price = bag.find_element_by_css_selector(\"p.price\").text.split(\" \")[1][:-1]\n",
    "    sale = bag.find_element_by_css_selector(\".icon_new\").text.split(\" \")[1]\n",
    "    link = bag.find_element_by_css_selector(\"p.list_info > a\").get_attribute(\"href\")\n",
    "    img = bag.find_element_by_css_selector(\"img\").get_attribute(\"data-original\")\n",
    "    \n",
    "    datas.append({\n",
    "        \"title\": title,\n",
    "        \"price\": price,\n",
    "        \"sale\": sale,\n",
    "        \"link\": link,\n",
    "        \"img\": img\n",
    "    })\n",
    "    print(\"#8. idx: {}, title: {}\".format(index, title))\n",
    "driver.quit()\n",
    "\n",
    "df = pd.DataFrame(datas)\n",
    "df.to_excel(\"./musinsa/musinsa.xlsx\", encoding=\"utf-8\")\n",
    "\n",
    "\n",
    "print(\"#9. crawling done! driver quit & excel save\")\n",
    "\n",
    "print(\"#10. img download\")\n",
    "# 이미지 다운로드\n",
    "\n",
    "for idx, rows in df.iterrows():\n",
    "    thumb_link = rows[\"img\"]\n",
    "    response = requests.get(thumb_link)\n",
    "    name = str(idx) + \"_\" + rows[\"title\"]\n",
    "    with open(\"./musinsa/{}.png\".format(name), \"wb\") as f:\n",
    "        f.write(response.content)\n",
    "        \n",
    "print(\"#11. img download done\")\n",
    "\n",
    "print(\"DONE\")"
   ]
  },
  {
   "cell_type": "code",
   "execution_count": null,
   "id": "9736c5a2",
   "metadata": {},
   "outputs": [],
   "source": [
    "!python musinsa.py"
   ]
  },
  {
   "cell_type": "code",
   "execution_count": null,
   "id": "8d6388ec",
   "metadata": {},
   "outputs": [],
   "source": [
    "# 파일 삭제했다가 다시 만들기\n",
    "!rm -rf musinsa/\n",
    "!mkdir musinsa/"
   ]
  }
 ],
 "metadata": {
  "kernelspec": {
   "display_name": "Python 3 (ipykernel)",
   "language": "python",
   "name": "python3"
  },
  "language_info": {
   "codemirror_mode": {
    "name": "ipython",
    "version": 3
   },
   "file_extension": ".py",
   "mimetype": "text/x-python",
   "name": "python",
   "nbconvert_exporter": "python",
   "pygments_lexer": "ipython3",
   "version": "3.9.7"
  }
 },
 "nbformat": 4,
 "nbformat_minor": 5
}
