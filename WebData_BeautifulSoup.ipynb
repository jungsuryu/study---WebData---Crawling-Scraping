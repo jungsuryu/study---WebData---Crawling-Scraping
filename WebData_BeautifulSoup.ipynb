{
 "cells": [
  {
   "cell_type": "markdown",
   "id": "a6b9f134",
   "metadata": {},
   "source": [
    "### 1. BeautifulSoup for web data"
   ]
  },
  {
   "cell_type": "code",
   "execution_count": 3,
   "id": "d69872d1",
   "metadata": {},
   "outputs": [],
   "source": [
    "# BeautifulSoup Basic\n",
    "from bs4 import BeautifulSoup"
   ]
  },
  {
   "cell_type": "code",
   "execution_count": 6,
   "id": "eb22674f",
   "metadata": {},
   "outputs": [
    {
     "name": "stdout",
     "output_type": "stream",
     "text": [
      "<!DOCTYPE html>\n",
      "<html>\n",
      "    <head>\n",
      "        <title>Very Simple HTML Code by ZeroBase</title>\n",
      "    </head>\n",
      "    <body>\n",
      "        <div>\n",
      "            <p class=\"inner-text first-item\" id=\"first\">\n",
      "                Happy ZeroBase.\n",
      "                <a href=\"http://www.pinkwink.kr\" id=\"pw-link\">PinkWink</a>\n",
      "            </p>\n",
      "            <p class=\"inner-text second-item\">\n",
      "                Happy Data Science.\n",
      "                <a href=\"https://www.python.org\" target=\"_blink\" id=\"py-link\">Python</a>\n",
      "            </p>\n",
      "        </div>\n",
      "        <p class=\"outer-text first-item\" id=\"second\">\n",
      "            <b>\n",
      "                Data Science is funny.\n",
      "            </b>\n",
      "        </p>\n",
      "        <p class=\"outer-text\">\n",
      "            <i>\n",
      "                All I need is Love.\n",
      "            </i>\n",
      "        </p>\n",
      "    </body>\n",
      "</html>\n"
     ]
    }
   ],
   "source": [
    "page = open('Downloads/zero_base.html', 'r').read()\n",
    "print(page)"
   ]
  },
  {
   "cell_type": "code",
   "execution_count": 10,
   "id": "94eea414",
   "metadata": {},
   "outputs": [
    {
     "name": "stdout",
     "output_type": "stream",
     "text": [
      "<!DOCTYPE html>\n",
      "<html>\n",
      " <head>\n",
      "  <title>\n",
      "   Very Simple HTML Code by ZeroBase\n",
      "  </title>\n",
      " </head>\n",
      " <body>\n",
      "  <div>\n",
      "   <p class=\"inner-text first-item\" id=\"first\">\n",
      "    Happy ZeroBase.\n",
      "    <a href=\"http://www.pinkwink.kr\" id=\"pw-link\">\n",
      "     PinkWink\n",
      "    </a>\n",
      "   </p>\n",
      "   <p class=\"inner-text second-item\">\n",
      "    Happy Data Science.\n",
      "    <a href=\"https://www.python.org\" id=\"py-link\" target=\"_blink\">\n",
      "     Python\n",
      "    </a>\n",
      "   </p>\n",
      "  </div>\n",
      "  <p class=\"outer-text first-item\" id=\"second\">\n",
      "   <b>\n",
      "    Data Science is funny.\n",
      "   </b>\n",
      "  </p>\n",
      "  <p class=\"outer-text\">\n",
      "   <i>\n",
      "    All I need is Love.\n",
      "   </i>\n",
      "  </p>\n",
      " </body>\n",
      "</html>\n"
     ]
    }
   ],
   "source": [
    "soup = BeautifulSoup(page, 'html.parser')\n",
    "print(soup.prettify())"
   ]
  },
  {
   "cell_type": "code",
   "execution_count": 11,
   "id": "95b573e1",
   "metadata": {},
   "outputs": [
    {
     "data": {
      "text/plain": [
       "<head>\n",
       "<title>Very Simple HTML Code by ZeroBase</title>\n",
       "</head>"
      ]
     },
     "execution_count": 11,
     "metadata": {},
     "output_type": "execute_result"
    }
   ],
   "source": [
    "# head 태그 가져오기\n",
    "soup.head"
   ]
  },
  {
   "cell_type": "code",
   "execution_count": 12,
   "id": "66e9a12c",
   "metadata": {},
   "outputs": [
    {
     "data": {
      "text/plain": [
       "<body>\n",
       "<div>\n",
       "<p class=\"inner-text first-item\" id=\"first\">\n",
       "                Happy ZeroBase.\n",
       "                <a href=\"http://www.pinkwink.kr\" id=\"pw-link\">PinkWink</a>\n",
       "</p>\n",
       "<p class=\"inner-text second-item\">\n",
       "                Happy Data Science.\n",
       "                <a href=\"https://www.python.org\" id=\"py-link\" target=\"_blink\">Python</a>\n",
       "</p>\n",
       "</div>\n",
       "<p class=\"outer-text first-item\" id=\"second\">\n",
       "<b>\n",
       "                Data Science is funny.\n",
       "            </b>\n",
       "</p>\n",
       "<p class=\"outer-text\">\n",
       "<i>\n",
       "                All I need is Love.\n",
       "            </i>\n",
       "</p>\n",
       "</body>"
      ]
     },
     "execution_count": 12,
     "metadata": {},
     "output_type": "execute_result"
    }
   ],
   "source": [
    "# body 태그 가져오기\n",
    "soup.body"
   ]
  },
  {
   "cell_type": "code",
   "execution_count": 13,
   "id": "449b660a",
   "metadata": {},
   "outputs": [
    {
     "data": {
      "text/plain": [
       "<p class=\"inner-text first-item\" id=\"first\">\n",
       "                Happy ZeroBase.\n",
       "                <a href=\"http://www.pinkwink.kr\" id=\"pw-link\">PinkWink</a>\n",
       "</p>"
      ]
     },
     "execution_count": 13,
     "metadata": {},
     "output_type": "execute_result"
    }
   ],
   "source": [
    "# soup.태그명\n",
    "soup.p"
   ]
  },
  {
   "cell_type": "code",
   "execution_count": 14,
   "id": "44740a2a",
   "metadata": {},
   "outputs": [
    {
     "data": {
      "text/plain": [
       "<p class=\"inner-text first-item\" id=\"first\">\n",
       "                Happy ZeroBase.\n",
       "                <a href=\"http://www.pinkwink.kr\" id=\"pw-link\">PinkWink</a>\n",
       "</p>"
      ]
     },
     "execution_count": 14,
     "metadata": {},
     "output_type": "execute_result"
    }
   ],
   "source": [
    "# 한 가지 태그 가져오기\n",
    "soup.find('p')"
   ]
  },
  {
   "cell_type": "code",
   "execution_count": 17,
   "id": "4663c290",
   "metadata": {},
   "outputs": [
    {
     "data": {
      "text/plain": [
       "<p class=\"inner-text first-item\" id=\"first\">\n",
       "                Happy ZeroBase.\n",
       "                <a href=\"http://www.pinkwink.kr\" id=\"pw-link\">PinkWink</a>\n",
       "</p>"
      ]
     },
     "execution_count": 17,
     "metadata": {},
     "output_type": "execute_result"
    }
   ],
   "source": [
    "# 조건 좁혀 들어가기\n",
    "# 파이썬 예약어 피하기 위해 class_ (언더바)\n",
    "soup.find('p', class_='inner-text first-item')"
   ]
  },
  {
   "cell_type": "code",
   "execution_count": 18,
   "id": "bcca8f87",
   "metadata": {},
   "outputs": [
    {
     "data": {
      "text/plain": [
       "<p class=\"inner-text second-item\">\n",
       "                Happy Data Science.\n",
       "                <a href=\"https://www.python.org\" id=\"py-link\" target=\"_blink\">Python</a>\n",
       "</p>"
      ]
     },
     "execution_count": 18,
     "metadata": {},
     "output_type": "execute_result"
    }
   ],
   "source": [
    "soup.find('p', class_='inner-text second-item')"
   ]
  },
  {
   "cell_type": "code",
   "execution_count": 19,
   "id": "7ce5885f",
   "metadata": {},
   "outputs": [
    {
     "data": {
      "text/plain": [
       "<p class=\"outer-text first-item\" id=\"second\">\n",
       "<b>\n",
       "                Data Science is funny.\n",
       "            </b>\n",
       "</p>"
      ]
     },
     "execution_count": 19,
     "metadata": {},
     "output_type": "execute_result"
    }
   ],
   "source": [
    "soup.find('p', {'class':'outer-text first-item'})"
   ]
  },
  {
   "cell_type": "code",
   "execution_count": 21,
   "id": "2235e621",
   "metadata": {},
   "outputs": [
    {
     "data": {
      "text/plain": [
       "'\\n\\n                Data Science is funny.\\n            \\n'"
      ]
     },
     "execution_count": 21,
     "metadata": {},
     "output_type": "execute_result"
    }
   ],
   "source": [
    "# 내용만 가져오기\n",
    "soup.find('p', {'class':'outer-text first-item'}).text"
   ]
  },
  {
   "cell_type": "code",
   "execution_count": 22,
   "id": "1a59b419",
   "metadata": {},
   "outputs": [
    {
     "data": {
      "text/plain": [
       "'Data Science is funny.'"
      ]
     },
     "execution_count": 22,
     "metadata": {},
     "output_type": "execute_result"
    }
   ],
   "source": [
    "soup.find('p', {'class':'outer-text first-item'}).text.strip()"
   ]
  },
  {
   "cell_type": "code",
   "execution_count": 23,
   "id": "93a83823",
   "metadata": {},
   "outputs": [
    {
     "data": {
      "text/plain": [
       "<p class=\"inner-text first-item\" id=\"first\">\n",
       "                Happy ZeroBase.\n",
       "                <a href=\"http://www.pinkwink.kr\" id=\"pw-link\">PinkWink</a>\n",
       "</p>"
      ]
     },
     "execution_count": 23,
     "metadata": {},
     "output_type": "execute_result"
    }
   ],
   "source": [
    "# 다중조건\n",
    "soup.find('p', {'class':'inner-text first-item'})"
   ]
  },
  {
   "cell_type": "code",
   "execution_count": 24,
   "id": "537033a2",
   "metadata": {},
   "outputs": [
    {
     "data": {
      "text/plain": [
       "<p class=\"inner-text first-item\" id=\"first\">\n",
       "                Happy ZeroBase.\n",
       "                <a href=\"http://www.pinkwink.kr\" id=\"pw-link\">PinkWink</a>\n",
       "</p>"
      ]
     },
     "execution_count": 24,
     "metadata": {},
     "output_type": "execute_result"
    }
   ],
   "source": [
    "soup.find('p', {'class':'inner-text first-item', 'id':'first'})"
   ]
  },
  {
   "cell_type": "code",
   "execution_count": 15,
   "id": "c1986390",
   "metadata": {},
   "outputs": [
    {
     "data": {
      "text/plain": [
       "[<p class=\"inner-text first-item\" id=\"first\">\n",
       "                 Happy ZeroBase.\n",
       "                 <a href=\"http://www.pinkwink.kr\" id=\"pw-link\">PinkWink</a>\n",
       " </p>,\n",
       " <p class=\"inner-text second-item\">\n",
       "                 Happy Data Science.\n",
       "                 <a href=\"https://www.python.org\" id=\"py-link\" target=\"_blink\">Python</a>\n",
       " </p>,\n",
       " <p class=\"outer-text first-item\" id=\"second\">\n",
       " <b>\n",
       "                 Data Science is funny.\n",
       "             </b>\n",
       " </p>,\n",
       " <p class=\"outer-text\">\n",
       " <i>\n",
       "                 All I need is Love.\n",
       "             </i>\n",
       " </p>]"
      ]
     },
     "execution_count": 15,
     "metadata": {},
     "output_type": "execute_result"
    }
   ],
   "source": [
    "# p 태그 여러 개 중 가장 상단에 있는 것만 나타남. 처음 발견한 p 태그만 출력 => find\n",
    "# 여러 개의 p 태그를 찾는 방법은? \n",
    "soup.find_all('p')"
   ]
  },
  {
   "cell_type": "code",
   "execution_count": 25,
   "id": "9b6d4417",
   "metadata": {},
   "outputs": [
    {
     "data": {
      "text/plain": [
       "[<p class=\"outer-text first-item\" id=\"second\">\n",
       " <b>\n",
       "                 Data Science is funny.\n",
       "             </b>\n",
       " </p>,\n",
       " <p class=\"outer-text\">\n",
       " <i>\n",
       "                 All I need is Love.\n",
       "             </i>\n",
       " </p>]"
      ]
     },
     "execution_count": 25,
     "metadata": {},
     "output_type": "execute_result"
    }
   ],
   "source": [
    "# find_all(): 여러 개의 태그를 반환하고 list 형태로 반환\n",
    "soup.find_all(class_='outer-text')"
   ]
  },
  {
   "cell_type": "code",
   "execution_count": 26,
   "id": "c9b59be9",
   "metadata": {},
   "outputs": [
    {
     "data": {
      "text/plain": [
       "[<a href=\"http://www.pinkwink.kr\" id=\"pw-link\">PinkWink</a>]"
      ]
     },
     "execution_count": 26,
     "metadata": {},
     "output_type": "execute_result"
    }
   ],
   "source": [
    "soup.find_all(id='pw-link')"
   ]
  },
  {
   "cell_type": "code",
   "execution_count": 27,
   "id": "fd366218",
   "metadata": {},
   "outputs": [
    {
     "data": {
      "text/plain": [
       "'PinkWink'"
      ]
     },
     "execution_count": 27,
     "metadata": {},
     "output_type": "execute_result"
    }
   ],
   "source": [
    "# 리스트 형태이기 때문에 인덱스로 불러와야\n",
    "soup.find_all(id='pw-link')[0].text"
   ]
  },
  {
   "cell_type": "code",
   "execution_count": 36,
   "id": "cb8a94ce",
   "metadata": {},
   "outputs": [
    {
     "name": "stdout",
     "output_type": "stream",
     "text": [
      "\n",
      "                Happy ZeroBase.\n",
      "                PinkWink\n",
      "\n",
      "None\n",
      "\n",
      "                Happy Data Science.\n",
      "                Python\n",
      "\n"
     ]
    }
   ],
   "source": [
    "print(soup.find_all('p')[0].text)\n",
    "print(soup.find_all('p')[0].string)\n",
    "print(soup.find_all('p')[1].get_text())"
   ]
  },
  {
   "cell_type": "code",
   "execution_count": 28,
   "id": "16820930",
   "metadata": {},
   "outputs": [
    {
     "data": {
      "text/plain": [
       "[<p class=\"inner-text second-item\">\n",
       "                 Happy Data Science.\n",
       "                 <a href=\"https://www.python.org\" id=\"py-link\" target=\"_blink\">Python</a>\n",
       " </p>]"
      ]
     },
     "execution_count": 28,
     "metadata": {},
     "output_type": "execute_result"
    }
   ],
   "source": [
    "soup.find_all('p', class_='inner-text second-item')"
   ]
  },
  {
   "cell_type": "code",
   "execution_count": 37,
   "id": "70daf536",
   "metadata": {},
   "outputs": [
    {
     "name": "stdout",
     "output_type": "stream",
     "text": [
      "==================================================\n",
      "\n",
      "                Happy ZeroBase.\n",
      "                PinkWink\n",
      "\n",
      "==================================================\n",
      "\n",
      "                Happy Data Science.\n",
      "                Python\n",
      "\n",
      "==================================================\n",
      "\n",
      "\n",
      "                Data Science is funny.\n",
      "            \n",
      "\n",
      "==================================================\n",
      "\n",
      "\n",
      "                All I need is Love.\n",
      "            \n",
      "\n"
     ]
    }
   ],
   "source": [
    "# p 태그 리스트에서 텍스트 속성만 출력\n",
    "for each_tag in soup.find_all('p'):\n",
    "    print('=' * 50)\n",
    "    print(each_tag.text)"
   ]
  },
  {
   "cell_type": "code",
   "execution_count": 38,
   "id": "29acabf7",
   "metadata": {},
   "outputs": [
    {
     "data": {
      "text/plain": [
       "[<a href=\"http://www.pinkwink.kr\" id=\"pw-link\">PinkWink</a>,\n",
       " <a href=\"https://www.python.org\" id=\"py-link\" target=\"_blink\">Python</a>]"
      ]
     },
     "execution_count": 38,
     "metadata": {},
     "output_type": "execute_result"
    }
   ],
   "source": [
    "# a 태그 안 링크들. a 태그에서 href 속성값에 있는 값 추출\n",
    "links = soup.find_all('a')\n",
    "links\n",
    "\n",
    "links[0].get('href')\n",
    "links[1]['href']"
   ]
  },
  {
   "cell_type": "code",
   "execution_count": 40,
   "id": "9b4fbe6f",
   "metadata": {},
   "outputs": [
    {
     "name": "stdout",
     "output_type": "stream",
     "text": [
      "PinkWink => http://www.pinkwink.kr\n",
      "Python => https://www.python.org\n"
     ]
    }
   ],
   "source": [
    "for each in links:\n",
    "    href = each.get('href') # each['href'] 도 가능\n",
    "    text = each.get_text()\n",
    "    print(text + ' => ' + href)"
   ]
  },
  {
   "cell_type": "code",
   "execution_count": null,
   "id": "5934bc94",
   "metadata": {},
   "outputs": [],
   "source": []
  }
 ],
 "metadata": {
  "kernelspec": {
   "display_name": "Python 3 (ipykernel)",
   "language": "python",
   "name": "python3"
  },
  "language_info": {
   "codemirror_mode": {
    "name": "ipython",
    "version": 3
   },
   "file_extension": ".py",
   "mimetype": "text/x-python",
   "name": "python",
   "nbconvert_exporter": "python",
   "pygments_lexer": "ipython3",
   "version": "3.9.7"
  }
 },
 "nbformat": 4,
 "nbformat_minor": 5
}
