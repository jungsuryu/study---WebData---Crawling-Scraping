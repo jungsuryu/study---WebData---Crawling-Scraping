{
 "cells": [
  {
   "cell_type": "code",
   "execution_count": 2,
   "id": "f02fd0b2",
   "metadata": {},
   "outputs": [],
   "source": [
    "import pandas as pd\n",
    "import time\n",
    "from selenium import webdriver\n",
    "import time"
   ]
  },
  {
   "cell_type": "code",
   "execution_count": null,
   "id": "36d5e0b6",
   "metadata": {},
   "outputs": [],
   "source": [
    "# 화면 안보이는 상태 (브라우저가 깔려있지 않은 경우,, )\n",
    "options = webdriver.ChromeOptions()\n",
    "options.add_argument(\"headless\")"
   ]
  },
  {
   "cell_type": "code",
   "execution_count": 4,
   "id": "fd1d1d6d",
   "metadata": {
    "scrolled": true
   },
   "outputs": [
    {
     "name": "stderr",
     "output_type": "stream",
     "text": [
      "C:\\Users\\JUNGSU~1\\AppData\\Local\\Temp/ipykernel_10452/2959220572.py:2: DeprecationWarning: executable_path has been deprecated, please pass in a Service object\n",
      "  driver = webdriver.Chrome(\"chromedriver.exe\")\n",
      "C:\\Users\\JUNGSU~1\\AppData\\Local\\Temp/ipykernel_10452/2959220572.py:13: DeprecationWarning: find_element_by_css_selector is deprecated. Please use find_element(by=By.CSS_SELECTOR, value=css_selector) instead\n",
      "  iframe = driver.find_element_by_css_selector(\"#frame_ex1\")\n",
      "C:\\Users\\JUNGSU~1\\AppData\\Local\\Temp/ipykernel_10452/2959220572.py:21: DeprecationWarning: find_elements_by_css_selector is deprecated. Please use find_elements(by=By.CSS_SELECTOR, value=css_selector) instead\n",
      "  contents = driver.find_elements_by_css_selector(\"body > div > table > tbody > tr\")\n"
     ]
    }
   ],
   "source": [
    "print(\"selenium headless.. 1\") # 어디 돌아가고 있는 지 확인 위해\n",
    "url = \"https://finance.naver.com/marketindex/\"\n",
    "driver = webdriver.Chrome(\"chromedriver.exe\", options=options)\n",
    "driver.get(url)\n",
    "driver.maximize_window()\n",
    "# driver.set_window_size(1920, 1080)\n",
    "\n",
    "time.sleep(3)\n",
    "\n",
    "print(\"selenium headless.. 2\")\n",
    "\n",
    "# 페이지 하단으로 이동\n",
    "driver.execute_script(\"window.scrollTo(0, document.body.scrollHeight);\")\n",
    "\n",
    "print(\"selenium headless.. 3\")\n",
    "# iframe 태그 지정\n",
    "iframe = driver.find_element_by_css_selector(\"#frame_ex1\")\n",
    "# driver.find_element_by_id(\"frame_ex1\")\n",
    "\n",
    "print(\"selenium headless.. 4\")\n",
    "# iframe 태그 이동\n",
    "driver.switch_to.frame(iframe) # 이제 전에 가져왔던 방법으로는 데이터 안 가져와짐\n",
    "time.sleep(3)\n",
    "\n",
    "print(\"selenium headless.. 5\")\n",
    "# 밑 페이지에 있는 매매기준율\n",
    "contents = driver.find_elements_by_css_selector(\"body > div > table > tbody > tr\")\n",
    "contents[0].find_element_by_css_selector(\".sale\").text\n",
    "\n",
    "\n",
    "print(\"selenium headless.. 6\")\n",
    "\n",
    "datas = []\n",
    "\n",
    "for content in contents[:3]:\n",
    "    title = content.find_element_by_css_selector(\".tit > a\").text\n",
    "    sale = content.find_element_by_css_selector(\".sale\").text\n",
    "    link = content.find_element_by_css_selector(\".tit > a\").get_attribute(\"href\")\n",
    "    datas.append({\n",
    "        \"title\": title,\n",
    "        \"sale\": sale,\n",
    "        \"link\": link\n",
    "    })\n",
    "    time.sleep(3)\n",
    "\n",
    "driver.quit()\n",
    "\n",
    "df = pd.DataFrame(datas)\n",
    "# df.to_excel(\"selenium_naver_finance.xlsx\", encoding=\"utf-8\")\n",
    "print(\"Selenium quit!\")"
   ]
  }
 ],
 "metadata": {
  "kernelspec": {
   "display_name": "Python 3 (ipykernel)",
   "language": "python",
   "name": "python3"
  },
  "language_info": {
   "codemirror_mode": {
    "name": "ipython",
    "version": 3
   },
   "file_extension": ".py",
   "mimetype": "text/x-python",
   "name": "python",
   "nbconvert_exporter": "python",
   "pygments_lexer": "ipython3",
   "version": "3.9.7"
  }
 },
 "nbformat": 4,
 "nbformat_minor": 5
}
