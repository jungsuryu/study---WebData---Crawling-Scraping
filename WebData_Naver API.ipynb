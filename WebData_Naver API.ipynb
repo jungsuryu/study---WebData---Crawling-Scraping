{
 "cells": [
  {
   "cell_type": "markdown",
   "id": "17a7ace6",
   "metadata": {},
   "source": [
    "### 네이버 API 사용등록\n",
    "- 네이버 개발자 센터\n",
    "- https://developers.naver.com/main/\n",
    "- Application\n",
    "    - 어플리케이션 등록\n",
    "    - 어플리케이션 이름 ds_study\n",
    "    - 사용 API\n",
    "        - 검색\n",
    "        - 데이터랩 (검색어트렌드)\n",
    "        - 데이터랩 (쇼핑인사이트)\n",
    "    - 환경추가\n",
    "        - WEB 설정\n",
    "        - http://localhost\n",
    "    - Client ID: -\n",
    "    - Client Secret: -\n",
    "    - https://developers.naver.com/apps/#/myapps/47Eld0Q2Vd7APjE2ATSR/overview"
   ]
  },
  {
   "cell_type": "markdown",
   "id": "04bb601d",
   "metadata": {},
   "source": [
    "### 네이버 검색 API 사용\n",
    "- https://developers.naver.com/docs/serviceapi/search/blog/blog.md#%EB%B8%94%EB%A1%9C%EA%B7%B8 # 개발 가이드"
   ]
  },
  {
   "cell_type": "markdown",
   "id": "bef9abd5",
   "metadata": {},
   "source": [
    "- urllib: http 프로토콜에 따라서 서버의 요청/응답을 처리하기 위한 모듈\n",
    "- urllib.request: 클라이언트의 요청을 처리하는 모듈\n",
    "- urllib.parse: url 주소에 대한 분석"
   ]
  },
  {
   "cell_type": "markdown",
   "id": "14c3740c",
   "metadata": {},
   "source": [
    "#### 블로그 검색"
   ]
  },
  {
   "cell_type": "code",
   "execution_count": 1,
   "id": "d3416121",
   "metadata": {
    "scrolled": true
   },
   "outputs": [
    {
     "name": "stdout",
     "output_type": "stream",
     "text": [
      "{\n",
      "\t\"lastBuildDate\":\"Sat, 23 Jul 2022 15:21:13 +0900\",\n",
      "\t\"total\":343021,\n",
      "\t\"start\":1,\n",
      "\t\"display\":10,\n",
      "\t\"items\":[\n",
      "\t\t{\n",
      "\t\t\t\"title\":\"<b>파이썬<\\/b>학원 실습 위주의 수업이 포인트!\",\n",
      "\t\t\t\"link\":\"https:\\/\\/blog.naver.com\\/jeongok8602?Redirect=Log&logNo=222822655599\",\n",
      "\t\t\t\"description\":\"그래서 저도 진짜 이렇게는 안되겠다싶어서 더욱 늦기전에 <b>파이썬<\\/b>학원을 다녀보기로 마음 먹었어요.... 보통 <b>파이썬<\\/b>학원을 다니는 분들은 저처럼 초보자들이 많을거에요. 많은 개발 언어중에서 해당 언어만이... \",\n",
      "\t\t\t\"bloggername\":\"호박공주맘의 시시콜콜\",\n",
      "\t\t\t\"bloggerlink\":\"https:\\/\\/blog.naver.com\\/jeongok8602\",\n",
      "\t\t\t\"postdate\":\"20220721\"\n",
      "\t\t},\n",
      "\t\t{\n",
      "\t\t\t\"title\":\"<b>파이썬<\\/b>자격증 입문자 취업준비의 좋은선택\",\n",
      "\t\t\t\"link\":\"https:\\/\\/blog.naver.com\\/dambi85?Redirect=Log&logNo=222811274814\",\n",
      "\t\t\t\"description\":\"어떻게든 되겠지 하는 마음으로 우선은 <b>파이썬<\\/b>자격증을 취득해 보기로 했는데요. 빅데이터에서 기초가 되는 부분이 <b>파이썬<\\/b>이었기 때문에 우선적으로 한 번 배워보고 가능하면 자격증까지 취득하면 좋으니... \",\n",
      "\t\t\t\"bloggername\":\"마마 리사킴의 유쾌한 일상 이야기\",\n",
      "\t\t\t\"bloggerlink\":\"https:\\/\\/blog.naver.com\\/dambi85\",\n",
      "\t\t\t\"postdate\":\"20220714\"\n",
      "\t\t},\n",
      "\t\t{\n",
      "\t\t\t\"title\":\"<b>파이썬<\\/b>학원 초보자를 위한 교육과정\",\n",
      "\t\t\t\"link\":\"https:\\/\\/blog.naver.com\\/kkpa1002?Redirect=Log&logNo=222807750795\",\n",
      "\t\t\t\"description\":\"친구에게 여러 가지 질문을 한 끝에 <b>파이썬<\\/b>학원을 저도 다녀봐야겠다는 확신을 얻을 수 있었습니다.... 그래서 <b>파이썬<\\/b>학원을 검색하기 시작했습니다. 어떤 곳이 좋은지 몰랐기에 친구에게 물어봤는데요. 제가... \",\n",
      "\t\t\t\"bloggername\":\"최신 트랜드와 지식창고\",\n",
      "\t\t\t\"bloggerlink\":\"https:\\/\\/blog.naver.com\\/kkpa1002\",\n",
      "\t\t\t\"postdate\":\"20220711\"\n",
      "\t\t},\n",
      "\t\t{\n",
      "\t\t\t\"title\":\"<b>파이썬<\\/b> 자격증 확실한 취득방법\",\n",
      "\t\t\t\"link\":\"https:\\/\\/blog.naver.com\\/monoblue01?Redirect=Log&logNo=222818937808\",\n",
      "\t\t\t\"description\":\"바로 <b>파이썬<\\/b> 자격증입니다. 이유는 요즘 가장 흔하게 쓰이는 언어였고, 취업 시 있으면 도움되기 때문이었죠. AI와 빅데이터가 갑자기 인기가 많아지고 관심을 받으면서 자연스럽게 기초 코딩인 <b>파이썬<\\/b> 또한... \",\n",
      "\t\t\t\"bloggername\":\"루윙코치 교육정보&육아일상\",\n",
      "\t\t\t\"bloggerlink\":\"https:\\/\\/blog.naver.com\\/monoblue01\",\n",
      "\t\t\t\"postdate\":\"20220719\"\n",
      "\t\t},\n",
      "\t\t{\n",
      "\t\t\t\"title\":\"<b>파이썬<\\/b> 강좌 다양한 예제 풀이 학습\",\n",
      "\t\t\t\"link\":\"https:\\/\\/blog.naver.com\\/beany99?Redirect=Log&logNo=222772758216\",\n",
      "\t\t\t\"description\":\"그러다가 IT 분야가 시간이 지나도 유용하게 쓰일 거라는 사실을 알고 난 뒤에는 <b>파이썬<\\/b>강좌 등록에 대해 고민해보게 됐어요. <b>파이썬<\\/b>은 초보자도 쉽게 공부할 수 있다는 것을 알았죠. 물론 처음 접해보는... \",\n",
      "\t\t\t\"bloggername\":\"설레이는오늘\",\n",
      "\t\t\t\"bloggerlink\":\"https:\\/\\/blog.naver.com\\/beany99\",\n",
      "\t\t\t\"postdate\":\"20220614\"\n",
      "\t\t},\n",
      "\t\t{\n",
      "\t\t\t\"title\":\"<b>파이썬<\\/b>강의 입문자의 학습과정\",\n",
      "\t\t\t\"link\":\"https:\\/\\/blog.naver.com\\/qghkfwjf?Redirect=Log&logNo=222774486771\",\n",
      "\t\t\t\"description\":\"<b>파이썬<\\/b>이라는 언어는 프로그램밍 입문자가 많이 배우는 언어 중 하나인데요. 저는 머신러닝과 딥러닝에 관해서 더욱 자세히 알아보고 싶어서 <b>파이썬<\\/b>강의를 수강하게 됐죠. 처음 프로그래밍을 배우려고 생각했을... \",\n",
      "\t\t\t\"bloggername\":\"가넹이네\",\n",
      "\t\t\t\"bloggerlink\":\"https:\\/\\/blog.naver.com\\/qghkfwjf\",\n",
      "\t\t\t\"postdate\":\"20220615\"\n",
      "\t\t},\n",
      "\t\t{\n",
      "\t\t\t\"title\":\"<b>파이썬<\\/b>학원 기본 프로그래밍 학습 절차\",\n",
      "\t\t\t\"link\":\"https:\\/\\/blog.naver.com\\/sweety4338?Redirect=Log&logNo=222809775225\",\n",
      "\t\t\t\"description\":\"걸맞은 <b>파이썬<\\/b>학원을 염두에 두게 되었죠. 짧은 시간 소모로도 충분히 결과를 낼 수 있었던 것은... 자연스레 <b>파이썬<\\/b>학원을 찾게 되었죠. 이 분야를 다루는 학원이 많아 여러 차례에 걸쳐 카운슬링을 받으며... \",\n",
      "\t\t\t\"bloggername\":\"MY 지식@\",\n",
      "\t\t\t\"bloggerlink\":\"https:\\/\\/blog.naver.com\\/sweety4338\",\n",
      "\t\t\t\"postdate\":\"20220713\"\n",
      "\t\t},\n",
      "\t\t{\n",
      "\t\t\t\"title\":\"<b>파이썬<\\/b>기초 폭 넓은 개념 파악하기\",\n",
      "\t\t\t\"link\":\"https:\\/\\/blog.naver.com\\/redsdains?Redirect=Log&logNo=222757634260\",\n",
      "\t\t\t\"description\":\"요즘 <b>파이썬<\\/b>기초가 계속해서 대두가 되는 마당에 저 역시도 현재 JAVA를 배우면서 함께 이를 배우고 있어요. IT 쪽에서 전에는 JAVA가 계속해서 많이 사용되는 언어로 1위를 차지하고 있었지만 쓰기 편한 <b>파이썬<\\/b>을... \",\n",
      "\t\t\t\"bloggername\":\"재밌는 블로그\",\n",
      "\t\t\t\"bloggerlink\":\"https:\\/\\/blog.naver.com\\/redsdains\",\n",
      "\t\t\t\"postdate\":\"20220603\"\n",
      "\t\t},\n",
      "\t\t{\n",
      "\t\t\t\"title\":\"<b>파이썬<\\/b>학원 미래를 위한 학습 플랜\",\n",
      "\t\t\t\"link\":\"https:\\/\\/blog.naver.com\\/ad21cc?Redirect=Log&logNo=222808618801\",\n",
      "\t\t\t\"description\":\"하면서 <b>파이썬<\\/b>학원을 권해주더라고요. 제가 어릴 때부터 컴퓨터 게임을 좋아하기도 했지만, 그 외에도... 그런 것을 보니까 저도 <b>파이썬<\\/b>학원을 다니면서 IT 관련 기술을 습득하면 좋을 것 같다 싶었어요. 그래서... \",\n",
      "\t\t\t\"bloggername\":\"아르미안의 일기장\",\n",
      "\t\t\t\"bloggerlink\":\"https:\\/\\/blog.naver.com\\/ad21cc\",\n",
      "\t\t\t\"postdate\":\"20220712\"\n",
      "\t\t},\n",
      "\t\t{\n",
      "\t\t\t\"title\":\"<b>파이썬<\\/b>학원 입문자라면 배우는 과정이 중요\",\n",
      "\t\t\t\"link\":\"https:\\/\\/blog.naver.com\\/sow723?Redirect=Log&logNo=222737121657\",\n",
      "\t\t\t\"description\":\"<b>파이썬<\\/b>학원을 다니면서도 많은 고민을 했었는데 진로를 정하고 원하는 직업을 선택을 할 수 있어서... <b>파이썬<\\/b>, 자바, c언어, c++등등 다양한 언어들 속에서 과연 제가 뭘 할 수 있을지 내가 생각을 잘못한건 아닐까... \",\n",
      "\t\t\t\"bloggername\":\"Onelog\",\n",
      "\t\t\t\"bloggerlink\":\"https:\\/\\/blog.naver.com\\/sow723\",\n",
      "\t\t\t\"postdate\":\"20220518\"\n",
      "\t\t}\n",
      "\t]\n",
      "}\n"
     ]
    }
   ],
   "source": [
    "# 네이버 검색 API예제는 블로그를 비롯 전문자료까지 호출방법이 동일하므로 blog검색만 대표로 예제를 올렸습니다.\n",
    "# 네이버 검색 Open API 예제 - 블로그 검색\n",
    "import os\n",
    "import sys\n",
    "import urllib.request\n",
    "\n",
    "client_id = \"client-id-입력\"\n",
    "client_secret = \"client-secret-입력\"\n",
    "\n",
    "encText = urllib.parse.quote(\"파이썬\")\n",
    "url = \"https://openapi.naver.com/v1/search/blog?query=\" + encText # json 결과\n",
    "# url = \"https://openapi.naver.com/v1/search/blog.xml?query=\" + encText # xml 결과\n",
    "request = urllib.request.Request(url)\n",
    "request.add_header(\"X-Naver-Client-Id\",client_id)\n",
    "request.add_header(\"X-Naver-Client-Secret\",client_secret)\n",
    "response = urllib.request.urlopen(request)\n",
    "rescode = response.getcode()\n",
    "if(rescode==200):\n",
    "    response_body = response.read()\n",
    "    print(response_body.decode('utf-8'))\n",
    "else:\n",
    "    print(\"Error Code:\" + rescode)"
   ]
  },
  {
   "cell_type": "code",
   "execution_count": 2,
   "id": "09cbccc4",
   "metadata": {},
   "outputs": [
    {
     "data": {
      "text/plain": [
       "<http.client.HTTPResponse at 0x1f7f5eb0100>"
      ]
     },
     "execution_count": 2,
     "metadata": {},
     "output_type": "execute_result"
    }
   ],
   "source": [
    "response"
   ]
  },
  {
   "cell_type": "code",
   "execution_count": 3,
   "id": "3a0d3b64",
   "metadata": {},
   "outputs": [
    {
     "data": {
      "text/plain": [
       "200"
      ]
     },
     "execution_count": 3,
     "metadata": {},
     "output_type": "execute_result"
    }
   ],
   "source": [
    "response.getcode()"
   ]
  },
  {
   "cell_type": "code",
   "execution_count": 4,
   "id": "a74c5722",
   "metadata": {},
   "outputs": [
    {
     "data": {
      "text/plain": [
       "(<http.client.HTTPResponse at 0x1f7f5eb0100>, 200, 200, 200)"
      ]
     },
     "execution_count": 4,
     "metadata": {},
     "output_type": "execute_result"
    }
   ],
   "source": [
    "response, response.getcode(), response.code, response.status"
   ]
  },
  {
   "cell_type": "code",
   "execution_count": 6,
   "id": "e2d4173a",
   "metadata": {},
   "outputs": [
    {
     "data": {
      "text/plain": [
       "b'{\\n\\t\"lastBuildDate\":\"Sat, 23 Jul 2022 15:21:13 +0900\",\\n\\t\"total\":343021,\\n\\t\"start\":1,\\n\\t\"display\":10,\\n\\t\"items\":[\\n\\t\\t{\\n\\t\\t\\t\"title\":\"<b>\\xed\\x8c\\x8c\\xec\\x9d\\xb4\\xec\\x8d\\xac<\\\\/b>\\xed\\x95\\x99\\xec\\x9b\\x90 \\xec\\x8b\\xa4\\xec\\x8a\\xb5 \\xec\\x9c\\x84\\xec\\xa3\\xbc\\xec\\x9d\\x98 \\xec\\x88\\x98\\xec\\x97\\x85\\xec\\x9d\\xb4 \\xed\\x8f\\xac\\xec\\x9d\\xb8\\xed\\x8a\\xb8!\",\\n\\t\\t\\t\"link\":\"https:\\\\/\\\\/blog.naver.com\\\\/jeongok8602?Redirect=Log&logNo=222822655599\",\\n\\t\\t\\t\"description\":\"\\xea\\xb7\\xb8\\xeb\\x9e\\x98\\xec\\x84\\x9c \\xec\\xa0\\x80\\xeb\\x8f\\x84 \\xec\\xa7\\x84\\xec\\xa7\\x9c \\xec\\x9d\\xb4\\xeb\\xa0\\x87\\xea\\xb2\\x8c\\xeb\\x8a\\x94 \\xec\\x95\\x88\\xeb\\x90\\x98\\xea\\xb2\\xa0\\xeb\\x8b\\xa4\\xec\\x8b\\xb6\\xec\\x96\\xb4\\xec\\x84\\x9c \\xeb\\x8d\\x94\\xec\\x9a\\xb1 \\xeb\\x8a\\xa6\\xea\\xb8\\xb0\\xec\\xa0\\x84\\xec\\x97\\x90 <b>\\xed\\x8c\\x8c\\xec\\x9d\\xb4\\xec\\x8d\\xac<\\\\/b>\\xed\\x95\\x99\\xec\\x9b\\x90\\xec\\x9d\\x84 \\xeb\\x8b\\xa4\\xeb\\x85\\x80\\xeb\\xb3\\xb4\\xea\\xb8\\xb0\\xeb\\xa1\\x9c \\xeb\\xa7\\x88\\xec\\x9d\\x8c \\xeb\\xa8\\xb9\\xec\\x97\\x88\\xec\\x96\\xb4\\xec\\x9a\\x94.... \\xeb\\xb3\\xb4\\xed\\x86\\xb5 <b>\\xed\\x8c\\x8c\\xec\\x9d\\xb4\\xec\\x8d\\xac<\\\\/b>\\xed\\x95\\x99\\xec\\x9b\\x90\\xec\\x9d\\x84 \\xeb\\x8b\\xa4\\xeb\\x8b\\x88\\xeb\\x8a\\x94 \\xeb\\xb6\\x84\\xeb\\x93\\xa4\\xec\\x9d\\x80 \\xec\\xa0\\x80\\xec\\xb2\\x98\\xeb\\x9f\\xbc \\xec\\xb4\\x88\\xeb\\xb3\\xb4\\xec\\x9e\\x90\\xeb\\x93\\xa4\\xec\\x9d\\xb4 \\xeb\\xa7\\x8e\\xec\\x9d\\x84\\xea\\xb1\\xb0\\xec\\x97\\x90\\xec\\x9a\\x94. \\xeb\\xa7\\x8e\\xec\\x9d\\x80 \\xea\\xb0\\x9c\\xeb\\xb0\\x9c \\xec\\x96\\xb8\\xec\\x96\\xb4\\xec\\xa4\\x91\\xec\\x97\\x90\\xec\\x84\\x9c \\xed\\x95\\xb4\\xeb\\x8b\\xb9 \\xec\\x96\\xb8\\xec\\x96\\xb4\\xeb\\xa7\\x8c\\xec\\x9d\\xb4... \",\\n\\t\\t\\t\"bloggername\":\"\\xed\\x98\\xb8\\xeb\\xb0\\x95\\xea\\xb3\\xb5\\xec\\xa3\\xbc\\xeb\\xa7\\x98\\xec\\x9d\\x98 \\xec\\x8b\\x9c\\xec\\x8b\\x9c\\xec\\xbd\\x9c\\xec\\xbd\\x9c\",\\n\\t\\t\\t\"bloggerlink\":\"https:\\\\/\\\\/blog.naver.com\\\\/jeongok8602\",\\n\\t\\t\\t\"postdate\":\"20220721\"\\n\\t\\t},\\n\\t\\t{\\n\\t\\t\\t\"title\":\"<b>\\xed\\x8c\\x8c\\xec\\x9d\\xb4\\xec\\x8d\\xac<\\\\/b>\\xec\\x9e\\x90\\xea\\xb2\\xa9\\xec\\xa6\\x9d \\xec\\x9e\\x85\\xeb\\xac\\xb8\\xec\\x9e\\x90 \\xec\\xb7\\xa8\\xec\\x97\\x85\\xec\\xa4\\x80\\xeb\\xb9\\x84\\xec\\x9d\\x98 \\xec\\xa2\\x8b\\xec\\x9d\\x80\\xec\\x84\\xa0\\xed\\x83\\x9d\",\\n\\t\\t\\t\"link\":\"https:\\\\/\\\\/blog.naver.com\\\\/dambi85?Redirect=Log&logNo=222811274814\",\\n\\t\\t\\t\"description\":\"\\xec\\x96\\xb4\\xeb\\x96\\xbb\\xea\\xb2\\x8c\\xeb\\x93\\xa0 \\xeb\\x90\\x98\\xea\\xb2\\xa0\\xec\\xa7\\x80 \\xed\\x95\\x98\\xeb\\x8a\\x94 \\xeb\\xa7\\x88\\xec\\x9d\\x8c\\xec\\x9c\\xbc\\xeb\\xa1\\x9c \\xec\\x9a\\xb0\\xec\\x84\\xa0\\xec\\x9d\\x80 <b>\\xed\\x8c\\x8c\\xec\\x9d\\xb4\\xec\\x8d\\xac<\\\\/b>\\xec\\x9e\\x90\\xea\\xb2\\xa9\\xec\\xa6\\x9d\\xec\\x9d\\x84 \\xec\\xb7\\xa8\\xeb\\x93\\x9d\\xed\\x95\\xb4 \\xeb\\xb3\\xb4\\xea\\xb8\\xb0\\xeb\\xa1\\x9c \\xed\\x96\\x88\\xeb\\x8a\\x94\\xeb\\x8d\\xb0\\xec\\x9a\\x94. \\xeb\\xb9\\x85\\xeb\\x8d\\xb0\\xec\\x9d\\xb4\\xed\\x84\\xb0\\xec\\x97\\x90\\xec\\x84\\x9c \\xea\\xb8\\xb0\\xec\\xb4\\x88\\xea\\xb0\\x80 \\xeb\\x90\\x98\\xeb\\x8a\\x94 \\xeb\\xb6\\x80\\xeb\\xb6\\x84\\xec\\x9d\\xb4 <b>\\xed\\x8c\\x8c\\xec\\x9d\\xb4\\xec\\x8d\\xac<\\\\/b>\\xec\\x9d\\xb4\\xec\\x97\\x88\\xea\\xb8\\xb0 \\xeb\\x95\\x8c\\xeb\\xac\\xb8\\xec\\x97\\x90 \\xec\\x9a\\xb0\\xec\\x84\\xa0\\xec\\xa0\\x81\\xec\\x9c\\xbc\\xeb\\xa1\\x9c \\xed\\x95\\x9c \\xeb\\xb2\\x88 \\xeb\\xb0\\xb0\\xec\\x9b\\x8c\\xeb\\xb3\\xb4\\xea\\xb3\\xa0 \\xea\\xb0\\x80\\xeb\\x8a\\xa5\\xed\\x95\\x98\\xeb\\xa9\\xb4 \\xec\\x9e\\x90\\xea\\xb2\\xa9\\xec\\xa6\\x9d\\xea\\xb9\\x8c\\xec\\xa7\\x80 \\xec\\xb7\\xa8\\xeb\\x93\\x9d\\xed\\x95\\x98\\xeb\\xa9\\xb4 \\xec\\xa2\\x8b\\xec\\x9c\\xbc\\xeb\\x8b\\x88... \",\\n\\t\\t\\t\"bloggername\":\"\\xeb\\xa7\\x88\\xeb\\xa7\\x88 \\xeb\\xa6\\xac\\xec\\x82\\xac\\xed\\x82\\xb4\\xec\\x9d\\x98 \\xec\\x9c\\xa0\\xec\\xbe\\x8c\\xed\\x95\\x9c \\xec\\x9d\\xbc\\xec\\x83\\x81 \\xec\\x9d\\xb4\\xec\\x95\\xbc\\xea\\xb8\\xb0\",\\n\\t\\t\\t\"bloggerlink\":\"https:\\\\/\\\\/blog.naver.com\\\\/dambi85\",\\n\\t\\t\\t\"postdate\":\"20220714\"\\n\\t\\t},\\n\\t\\t{\\n\\t\\t\\t\"title\":\"<b>\\xed\\x8c\\x8c\\xec\\x9d\\xb4\\xec\\x8d\\xac<\\\\/b>\\xed\\x95\\x99\\xec\\x9b\\x90 \\xec\\xb4\\x88\\xeb\\xb3\\xb4\\xec\\x9e\\x90\\xeb\\xa5\\xbc \\xec\\x9c\\x84\\xed\\x95\\x9c \\xea\\xb5\\x90\\xec\\x9c\\xa1\\xea\\xb3\\xbc\\xec\\xa0\\x95\",\\n\\t\\t\\t\"link\":\"https:\\\\/\\\\/blog.naver.com\\\\/kkpa1002?Redirect=Log&logNo=222807750795\",\\n\\t\\t\\t\"description\":\"\\xec\\xb9\\x9c\\xea\\xb5\\xac\\xec\\x97\\x90\\xea\\xb2\\x8c \\xec\\x97\\xac\\xeb\\x9f\\xac \\xea\\xb0\\x80\\xec\\xa7\\x80 \\xec\\xa7\\x88\\xeb\\xac\\xb8\\xec\\x9d\\x84 \\xed\\x95\\x9c \\xeb\\x81\\x9d\\xec\\x97\\x90 <b>\\xed\\x8c\\x8c\\xec\\x9d\\xb4\\xec\\x8d\\xac<\\\\/b>\\xed\\x95\\x99\\xec\\x9b\\x90\\xec\\x9d\\x84 \\xec\\xa0\\x80\\xeb\\x8f\\x84 \\xeb\\x8b\\xa4\\xeb\\x85\\x80\\xeb\\xb4\\x90\\xec\\x95\\xbc\\xea\\xb2\\xa0\\xeb\\x8b\\xa4\\xeb\\x8a\\x94 \\xed\\x99\\x95\\xec\\x8b\\xa0\\xec\\x9d\\x84 \\xec\\x96\\xbb\\xec\\x9d\\x84 \\xec\\x88\\x98 \\xec\\x9e\\x88\\xec\\x97\\x88\\xec\\x8a\\xb5\\xeb\\x8b\\x88\\xeb\\x8b\\xa4.... \\xea\\xb7\\xb8\\xeb\\x9e\\x98\\xec\\x84\\x9c <b>\\xed\\x8c\\x8c\\xec\\x9d\\xb4\\xec\\x8d\\xac<\\\\/b>\\xed\\x95\\x99\\xec\\x9b\\x90\\xec\\x9d\\x84 \\xea\\xb2\\x80\\xec\\x83\\x89\\xed\\x95\\x98\\xea\\xb8\\xb0 \\xec\\x8b\\x9c\\xec\\x9e\\x91\\xed\\x96\\x88\\xec\\x8a\\xb5\\xeb\\x8b\\x88\\xeb\\x8b\\xa4. \\xec\\x96\\xb4\\xeb\\x96\\xa4 \\xea\\xb3\\xb3\\xec\\x9d\\xb4 \\xec\\xa2\\x8b\\xec\\x9d\\x80\\xec\\xa7\\x80 \\xeb\\xaa\\xb0\\xeb\\x9e\\x90\\xea\\xb8\\xb0\\xec\\x97\\x90 \\xec\\xb9\\x9c\\xea\\xb5\\xac\\xec\\x97\\x90\\xea\\xb2\\x8c \\xeb\\xac\\xbc\\xec\\x96\\xb4\\xeb\\xb4\\xa4\\xeb\\x8a\\x94\\xeb\\x8d\\xb0\\xec\\x9a\\x94. \\xec\\xa0\\x9c\\xea\\xb0\\x80... \",\\n\\t\\t\\t\"bloggername\":\"\\xec\\xb5\\x9c\\xec\\x8b\\xa0 \\xed\\x8a\\xb8\\xeb\\x9e\\x9c\\xeb\\x93\\x9c\\xec\\x99\\x80 \\xec\\xa7\\x80\\xec\\x8b\\x9d\\xec\\xb0\\xbd\\xea\\xb3\\xa0\",\\n\\t\\t\\t\"bloggerlink\":\"https:\\\\/\\\\/blog.naver.com\\\\/kkpa1002\",\\n\\t\\t\\t\"postdate\":\"20220711\"\\n\\t\\t},\\n\\t\\t{\\n\\t\\t\\t\"title\":\"<b>\\xed\\x8c\\x8c\\xec\\x9d\\xb4\\xec\\x8d\\xac<\\\\/b> \\xec\\x9e\\x90\\xea\\xb2\\xa9\\xec\\xa6\\x9d \\xed\\x99\\x95\\xec\\x8b\\xa4\\xed\\x95\\x9c \\xec\\xb7\\xa8\\xeb\\x93\\x9d\\xeb\\xb0\\xa9\\xeb\\xb2\\x95\",\\n\\t\\t\\t\"link\":\"https:\\\\/\\\\/blog.naver.com\\\\/monoblue01?Redirect=Log&logNo=222818937808\",\\n\\t\\t\\t\"description\":\"\\xeb\\xb0\\x94\\xeb\\xa1\\x9c <b>\\xed\\x8c\\x8c\\xec\\x9d\\xb4\\xec\\x8d\\xac<\\\\/b> \\xec\\x9e\\x90\\xea\\xb2\\xa9\\xec\\xa6\\x9d\\xec\\x9e\\x85\\xeb\\x8b\\x88\\xeb\\x8b\\xa4. \\xec\\x9d\\xb4\\xec\\x9c\\xa0\\xeb\\x8a\\x94 \\xec\\x9a\\x94\\xec\\xa6\\x98 \\xea\\xb0\\x80\\xec\\x9e\\xa5 \\xed\\x9d\\x94\\xed\\x95\\x98\\xea\\xb2\\x8c \\xec\\x93\\xb0\\xec\\x9d\\xb4\\xeb\\x8a\\x94 \\xec\\x96\\xb8\\xec\\x96\\xb4\\xec\\x98\\x80\\xea\\xb3\\xa0, \\xec\\xb7\\xa8\\xec\\x97\\x85 \\xec\\x8b\\x9c \\xec\\x9e\\x88\\xec\\x9c\\xbc\\xeb\\xa9\\xb4 \\xeb\\x8f\\x84\\xec\\x9b\\x80\\xeb\\x90\\x98\\xea\\xb8\\xb0 \\xeb\\x95\\x8c\\xeb\\xac\\xb8\\xec\\x9d\\xb4\\xec\\x97\\x88\\xec\\xa3\\xa0. AI\\xec\\x99\\x80 \\xeb\\xb9\\x85\\xeb\\x8d\\xb0\\xec\\x9d\\xb4\\xed\\x84\\xb0\\xea\\xb0\\x80 \\xea\\xb0\\x91\\xec\\x9e\\x90\\xea\\xb8\\xb0 \\xec\\x9d\\xb8\\xea\\xb8\\xb0\\xea\\xb0\\x80 \\xeb\\xa7\\x8e\\xec\\x95\\x84\\xec\\xa7\\x80\\xea\\xb3\\xa0 \\xea\\xb4\\x80\\xec\\x8b\\xac\\xec\\x9d\\x84 \\xeb\\xb0\\x9b\\xec\\x9c\\xbc\\xeb\\xa9\\xb4\\xec\\x84\\x9c \\xec\\x9e\\x90\\xec\\x97\\xb0\\xec\\x8a\\xa4\\xeb\\x9f\\xbd\\xea\\xb2\\x8c \\xea\\xb8\\xb0\\xec\\xb4\\x88 \\xec\\xbd\\x94\\xeb\\x94\\xa9\\xec\\x9d\\xb8 <b>\\xed\\x8c\\x8c\\xec\\x9d\\xb4\\xec\\x8d\\xac<\\\\/b> \\xeb\\x98\\x90\\xed\\x95\\x9c... \",\\n\\t\\t\\t\"bloggername\":\"\\xeb\\xa3\\xa8\\xec\\x9c\\x99\\xec\\xbd\\x94\\xec\\xb9\\x98 \\xea\\xb5\\x90\\xec\\x9c\\xa1\\xec\\xa0\\x95\\xeb\\xb3\\xb4&\\xec\\x9c\\xa1\\xec\\x95\\x84\\xec\\x9d\\xbc\\xec\\x83\\x81\",\\n\\t\\t\\t\"bloggerlink\":\"https:\\\\/\\\\/blog.naver.com\\\\/monoblue01\",\\n\\t\\t\\t\"postdate\":\"20220719\"\\n\\t\\t},\\n\\t\\t{\\n\\t\\t\\t\"title\":\"<b>\\xed\\x8c\\x8c\\xec\\x9d\\xb4\\xec\\x8d\\xac<\\\\/b> \\xea\\xb0\\x95\\xec\\xa2\\x8c \\xeb\\x8b\\xa4\\xec\\x96\\x91\\xed\\x95\\x9c \\xec\\x98\\x88\\xec\\xa0\\x9c \\xed\\x92\\x80\\xec\\x9d\\xb4 \\xed\\x95\\x99\\xec\\x8a\\xb5\",\\n\\t\\t\\t\"link\":\"https:\\\\/\\\\/blog.naver.com\\\\/beany99?Redirect=Log&logNo=222772758216\",\\n\\t\\t\\t\"description\":\"\\xea\\xb7\\xb8\\xeb\\x9f\\xac\\xeb\\x8b\\xa4\\xea\\xb0\\x80 IT \\xeb\\xb6\\x84\\xec\\x95\\xbc\\xea\\xb0\\x80 \\xec\\x8b\\x9c\\xea\\xb0\\x84\\xec\\x9d\\xb4 \\xec\\xa7\\x80\\xeb\\x82\\x98\\xeb\\x8f\\x84 \\xec\\x9c\\xa0\\xec\\x9a\\xa9\\xed\\x95\\x98\\xea\\xb2\\x8c \\xec\\x93\\xb0\\xec\\x9d\\xbc \\xea\\xb1\\xb0\\xeb\\x9d\\xbc\\xeb\\x8a\\x94 \\xec\\x82\\xac\\xec\\x8b\\xa4\\xec\\x9d\\x84 \\xec\\x95\\x8c\\xea\\xb3\\xa0 \\xeb\\x82\\x9c \\xeb\\x92\\xa4\\xec\\x97\\x90\\xeb\\x8a\\x94 <b>\\xed\\x8c\\x8c\\xec\\x9d\\xb4\\xec\\x8d\\xac<\\\\/b>\\xea\\xb0\\x95\\xec\\xa2\\x8c \\xeb\\x93\\xb1\\xeb\\xa1\\x9d\\xec\\x97\\x90 \\xeb\\x8c\\x80\\xed\\x95\\xb4 \\xea\\xb3\\xa0\\xeb\\xaf\\xbc\\xed\\x95\\xb4\\xeb\\xb3\\xb4\\xea\\xb2\\x8c \\xeb\\x90\\x90\\xec\\x96\\xb4\\xec\\x9a\\x94. <b>\\xed\\x8c\\x8c\\xec\\x9d\\xb4\\xec\\x8d\\xac<\\\\/b>\\xec\\x9d\\x80 \\xec\\xb4\\x88\\xeb\\xb3\\xb4\\xec\\x9e\\x90\\xeb\\x8f\\x84 \\xec\\x89\\xbd\\xea\\xb2\\x8c \\xea\\xb3\\xb5\\xeb\\xb6\\x80\\xed\\x95\\xa0 \\xec\\x88\\x98 \\xec\\x9e\\x88\\xeb\\x8b\\xa4\\xeb\\x8a\\x94 \\xea\\xb2\\x83\\xec\\x9d\\x84 \\xec\\x95\\x8c\\xec\\x95\\x98\\xec\\xa3\\xa0. \\xeb\\xac\\xbc\\xeb\\xa1\\xa0 \\xec\\xb2\\x98\\xec\\x9d\\x8c \\xec\\xa0\\x91\\xed\\x95\\xb4\\xeb\\xb3\\xb4\\xeb\\x8a\\x94... \",\\n\\t\\t\\t\"bloggername\":\"\\xec\\x84\\xa4\\xeb\\xa0\\x88\\xec\\x9d\\xb4\\xeb\\x8a\\x94\\xec\\x98\\xa4\\xeb\\x8a\\x98\",\\n\\t\\t\\t\"bloggerlink\":\"https:\\\\/\\\\/blog.naver.com\\\\/beany99\",\\n\\t\\t\\t\"postdate\":\"20220614\"\\n\\t\\t},\\n\\t\\t{\\n\\t\\t\\t\"title\":\"<b>\\xed\\x8c\\x8c\\xec\\x9d\\xb4\\xec\\x8d\\xac<\\\\/b>\\xea\\xb0\\x95\\xec\\x9d\\x98 \\xec\\x9e\\x85\\xeb\\xac\\xb8\\xec\\x9e\\x90\\xec\\x9d\\x98 \\xed\\x95\\x99\\xec\\x8a\\xb5\\xea\\xb3\\xbc\\xec\\xa0\\x95\",\\n\\t\\t\\t\"link\":\"https:\\\\/\\\\/blog.naver.com\\\\/qghkfwjf?Redirect=Log&logNo=222774486771\",\\n\\t\\t\\t\"description\":\"<b>\\xed\\x8c\\x8c\\xec\\x9d\\xb4\\xec\\x8d\\xac<\\\\/b>\\xec\\x9d\\xb4\\xeb\\x9d\\xbc\\xeb\\x8a\\x94 \\xec\\x96\\xb8\\xec\\x96\\xb4\\xeb\\x8a\\x94 \\xed\\x94\\x84\\xeb\\xa1\\x9c\\xea\\xb7\\xb8\\xeb\\x9e\\xa8\\xeb\\xb0\\x8d \\xec\\x9e\\x85\\xeb\\xac\\xb8\\xec\\x9e\\x90\\xea\\xb0\\x80 \\xeb\\xa7\\x8e\\xec\\x9d\\xb4 \\xeb\\xb0\\xb0\\xec\\x9a\\xb0\\xeb\\x8a\\x94 \\xec\\x96\\xb8\\xec\\x96\\xb4 \\xec\\xa4\\x91 \\xed\\x95\\x98\\xeb\\x82\\x98\\xec\\x9d\\xb8\\xeb\\x8d\\xb0\\xec\\x9a\\x94. \\xec\\xa0\\x80\\xeb\\x8a\\x94 \\xeb\\xa8\\xb8\\xec\\x8b\\xa0\\xeb\\x9f\\xac\\xeb\\x8b\\x9d\\xea\\xb3\\xbc \\xeb\\x94\\xa5\\xeb\\x9f\\xac\\xeb\\x8b\\x9d\\xec\\x97\\x90 \\xea\\xb4\\x80\\xed\\x95\\xb4\\xec\\x84\\x9c \\xeb\\x8d\\x94\\xec\\x9a\\xb1 \\xec\\x9e\\x90\\xec\\x84\\xb8\\xed\\x9e\\x88 \\xec\\x95\\x8c\\xec\\x95\\x84\\xeb\\xb3\\xb4\\xea\\xb3\\xa0 \\xec\\x8b\\xb6\\xec\\x96\\xb4\\xec\\x84\\x9c <b>\\xed\\x8c\\x8c\\xec\\x9d\\xb4\\xec\\x8d\\xac<\\\\/b>\\xea\\xb0\\x95\\xec\\x9d\\x98\\xeb\\xa5\\xbc \\xec\\x88\\x98\\xea\\xb0\\x95\\xed\\x95\\x98\\xea\\xb2\\x8c \\xeb\\x90\\x90\\xec\\xa3\\xa0. \\xec\\xb2\\x98\\xec\\x9d\\x8c \\xed\\x94\\x84\\xeb\\xa1\\x9c\\xea\\xb7\\xb8\\xeb\\x9e\\x98\\xeb\\xb0\\x8d\\xec\\x9d\\x84 \\xeb\\xb0\\xb0\\xec\\x9a\\xb0\\xeb\\xa0\\xa4\\xea\\xb3\\xa0 \\xec\\x83\\x9d\\xea\\xb0\\x81\\xed\\x96\\x88\\xec\\x9d\\x84... \",\\n\\t\\t\\t\"bloggername\":\"\\xea\\xb0\\x80\\xeb\\x84\\xb9\\xec\\x9d\\xb4\\xeb\\x84\\xa4\",\\n\\t\\t\\t\"bloggerlink\":\"https:\\\\/\\\\/blog.naver.com\\\\/qghkfwjf\",\\n\\t\\t\\t\"postdate\":\"20220615\"\\n\\t\\t},\\n\\t\\t{\\n\\t\\t\\t\"title\":\"<b>\\xed\\x8c\\x8c\\xec\\x9d\\xb4\\xec\\x8d\\xac<\\\\/b>\\xed\\x95\\x99\\xec\\x9b\\x90 \\xea\\xb8\\xb0\\xeb\\xb3\\xb8 \\xed\\x94\\x84\\xeb\\xa1\\x9c\\xea\\xb7\\xb8\\xeb\\x9e\\x98\\xeb\\xb0\\x8d \\xed\\x95\\x99\\xec\\x8a\\xb5 \\xec\\xa0\\x88\\xec\\xb0\\xa8\",\\n\\t\\t\\t\"link\":\"https:\\\\/\\\\/blog.naver.com\\\\/sweety4338?Redirect=Log&logNo=222809775225\",\\n\\t\\t\\t\"description\":\"\\xea\\xb1\\xb8\\xeb\\xa7\\x9e\\xec\\x9d\\x80 <b>\\xed\\x8c\\x8c\\xec\\x9d\\xb4\\xec\\x8d\\xac<\\\\/b>\\xed\\x95\\x99\\xec\\x9b\\x90\\xec\\x9d\\x84 \\xec\\x97\\xbc\\xeb\\x91\\x90\\xec\\x97\\x90 \\xeb\\x91\\x90\\xea\\xb2\\x8c \\xeb\\x90\\x98\\xec\\x97\\x88\\xec\\xa3\\xa0. \\xec\\xa7\\xa7\\xec\\x9d\\x80 \\xec\\x8b\\x9c\\xea\\xb0\\x84 \\xec\\x86\\x8c\\xeb\\xaa\\xa8\\xeb\\xa1\\x9c\\xeb\\x8f\\x84 \\xec\\xb6\\xa9\\xeb\\xb6\\x84\\xed\\x9e\\x88 \\xea\\xb2\\xb0\\xea\\xb3\\xbc\\xeb\\xa5\\xbc \\xeb\\x82\\xbc \\xec\\x88\\x98 \\xec\\x9e\\x88\\xec\\x97\\x88\\xeb\\x8d\\x98 \\xea\\xb2\\x83\\xec\\x9d\\x80... \\xec\\x9e\\x90\\xec\\x97\\xb0\\xec\\x8a\\xa4\\xeb\\xa0\\x88 <b>\\xed\\x8c\\x8c\\xec\\x9d\\xb4\\xec\\x8d\\xac<\\\\/b>\\xed\\x95\\x99\\xec\\x9b\\x90\\xec\\x9d\\x84 \\xec\\xb0\\xbe\\xea\\xb2\\x8c \\xeb\\x90\\x98\\xec\\x97\\x88\\xec\\xa3\\xa0. \\xec\\x9d\\xb4 \\xeb\\xb6\\x84\\xec\\x95\\xbc\\xeb\\xa5\\xbc \\xeb\\x8b\\xa4\\xeb\\xa3\\xa8\\xeb\\x8a\\x94 \\xed\\x95\\x99\\xec\\x9b\\x90\\xec\\x9d\\xb4 \\xeb\\xa7\\x8e\\xec\\x95\\x84 \\xec\\x97\\xac\\xeb\\x9f\\xac \\xec\\xb0\\xa8\\xeb\\xa1\\x80\\xec\\x97\\x90 \\xea\\xb1\\xb8\\xec\\xb3\\x90 \\xec\\xb9\\xb4\\xec\\x9a\\xb4\\xec\\x8a\\xac\\xeb\\xa7\\x81\\xec\\x9d\\x84 \\xeb\\xb0\\x9b\\xec\\x9c\\xbc\\xeb\\xa9\\xb0... \",\\n\\t\\t\\t\"bloggername\":\"MY \\xec\\xa7\\x80\\xec\\x8b\\x9d@\",\\n\\t\\t\\t\"bloggerlink\":\"https:\\\\/\\\\/blog.naver.com\\\\/sweety4338\",\\n\\t\\t\\t\"postdate\":\"20220713\"\\n\\t\\t},\\n\\t\\t{\\n\\t\\t\\t\"title\":\"<b>\\xed\\x8c\\x8c\\xec\\x9d\\xb4\\xec\\x8d\\xac<\\\\/b>\\xea\\xb8\\xb0\\xec\\xb4\\x88 \\xed\\x8f\\xad \\xeb\\x84\\x93\\xec\\x9d\\x80 \\xea\\xb0\\x9c\\xeb\\x85\\x90 \\xed\\x8c\\x8c\\xec\\x95\\x85\\xed\\x95\\x98\\xea\\xb8\\xb0\",\\n\\t\\t\\t\"link\":\"https:\\\\/\\\\/blog.naver.com\\\\/redsdains?Redirect=Log&logNo=222757634260\",\\n\\t\\t\\t\"description\":\"\\xec\\x9a\\x94\\xec\\xa6\\x98 <b>\\xed\\x8c\\x8c\\xec\\x9d\\xb4\\xec\\x8d\\xac<\\\\/b>\\xea\\xb8\\xb0\\xec\\xb4\\x88\\xea\\xb0\\x80 \\xea\\xb3\\x84\\xec\\x86\\x8d\\xed\\x95\\xb4\\xec\\x84\\x9c \\xeb\\x8c\\x80\\xeb\\x91\\x90\\xea\\xb0\\x80 \\xeb\\x90\\x98\\xeb\\x8a\\x94 \\xeb\\xa7\\x88\\xeb\\x8b\\xb9\\xec\\x97\\x90 \\xec\\xa0\\x80 \\xec\\x97\\xad\\xec\\x8b\\x9c\\xeb\\x8f\\x84 \\xed\\x98\\x84\\xec\\x9e\\xac JAVA\\xeb\\xa5\\xbc \\xeb\\xb0\\xb0\\xec\\x9a\\xb0\\xeb\\xa9\\xb4\\xec\\x84\\x9c \\xed\\x95\\xa8\\xea\\xbb\\x98 \\xec\\x9d\\xb4\\xeb\\xa5\\xbc \\xeb\\xb0\\xb0\\xec\\x9a\\xb0\\xea\\xb3\\xa0 \\xec\\x9e\\x88\\xec\\x96\\xb4\\xec\\x9a\\x94. IT \\xec\\xaa\\xbd\\xec\\x97\\x90\\xec\\x84\\x9c \\xec\\xa0\\x84\\xec\\x97\\x90\\xeb\\x8a\\x94 JAVA\\xea\\xb0\\x80 \\xea\\xb3\\x84\\xec\\x86\\x8d\\xed\\x95\\xb4\\xec\\x84\\x9c \\xeb\\xa7\\x8e\\xec\\x9d\\xb4 \\xec\\x82\\xac\\xec\\x9a\\xa9\\xeb\\x90\\x98\\xeb\\x8a\\x94 \\xec\\x96\\xb8\\xec\\x96\\xb4\\xeb\\xa1\\x9c 1\\xec\\x9c\\x84\\xeb\\xa5\\xbc \\xec\\xb0\\xa8\\xec\\xa7\\x80\\xed\\x95\\x98\\xea\\xb3\\xa0 \\xec\\x9e\\x88\\xec\\x97\\x88\\xec\\xa7\\x80\\xeb\\xa7\\x8c \\xec\\x93\\xb0\\xea\\xb8\\xb0 \\xed\\x8e\\xb8\\xed\\x95\\x9c <b>\\xed\\x8c\\x8c\\xec\\x9d\\xb4\\xec\\x8d\\xac<\\\\/b>\\xec\\x9d\\x84... \",\\n\\t\\t\\t\"bloggername\":\"\\xec\\x9e\\xac\\xeb\\xb0\\x8c\\xeb\\x8a\\x94 \\xeb\\xb8\\x94\\xeb\\xa1\\x9c\\xea\\xb7\\xb8\",\\n\\t\\t\\t\"bloggerlink\":\"https:\\\\/\\\\/blog.naver.com\\\\/redsdains\",\\n\\t\\t\\t\"postdate\":\"20220603\"\\n\\t\\t},\\n\\t\\t{\\n\\t\\t\\t\"title\":\"<b>\\xed\\x8c\\x8c\\xec\\x9d\\xb4\\xec\\x8d\\xac<\\\\/b>\\xed\\x95\\x99\\xec\\x9b\\x90 \\xeb\\xaf\\xb8\\xeb\\x9e\\x98\\xeb\\xa5\\xbc \\xec\\x9c\\x84\\xed\\x95\\x9c \\xed\\x95\\x99\\xec\\x8a\\xb5 \\xed\\x94\\x8c\\xeb\\x9e\\x9c\",\\n\\t\\t\\t\"link\":\"https:\\\\/\\\\/blog.naver.com\\\\/ad21cc?Redirect=Log&logNo=222808618801\",\\n\\t\\t\\t\"description\":\"\\xed\\x95\\x98\\xeb\\xa9\\xb4\\xec\\x84\\x9c <b>\\xed\\x8c\\x8c\\xec\\x9d\\xb4\\xec\\x8d\\xac<\\\\/b>\\xed\\x95\\x99\\xec\\x9b\\x90\\xec\\x9d\\x84 \\xea\\xb6\\x8c\\xed\\x95\\xb4\\xec\\xa3\\xbc\\xeb\\x8d\\x94\\xeb\\x9d\\xbc\\xea\\xb3\\xa0\\xec\\x9a\\x94. \\xec\\xa0\\x9c\\xea\\xb0\\x80 \\xec\\x96\\xb4\\xeb\\xa6\\xb4 \\xeb\\x95\\x8c\\xeb\\xb6\\x80\\xed\\x84\\xb0 \\xec\\xbb\\xb4\\xed\\x93\\xa8\\xed\\x84\\xb0 \\xea\\xb2\\x8c\\xec\\x9e\\x84\\xec\\x9d\\x84 \\xec\\xa2\\x8b\\xec\\x95\\x84\\xed\\x95\\x98\\xea\\xb8\\xb0\\xeb\\x8f\\x84 \\xed\\x96\\x88\\xec\\xa7\\x80\\xeb\\xa7\\x8c, \\xea\\xb7\\xb8 \\xec\\x99\\xb8\\xec\\x97\\x90\\xeb\\x8f\\x84... \\xea\\xb7\\xb8\\xeb\\x9f\\xb0 \\xea\\xb2\\x83\\xec\\x9d\\x84 \\xeb\\xb3\\xb4\\xeb\\x8b\\x88\\xea\\xb9\\x8c \\xec\\xa0\\x80\\xeb\\x8f\\x84 <b>\\xed\\x8c\\x8c\\xec\\x9d\\xb4\\xec\\x8d\\xac<\\\\/b>\\xed\\x95\\x99\\xec\\x9b\\x90\\xec\\x9d\\x84 \\xeb\\x8b\\xa4\\xeb\\x8b\\x88\\xeb\\xa9\\xb4\\xec\\x84\\x9c IT \\xea\\xb4\\x80\\xeb\\xa0\\xa8 \\xea\\xb8\\xb0\\xec\\x88\\xa0\\xec\\x9d\\x84 \\xec\\x8a\\xb5\\xeb\\x93\\x9d\\xed\\x95\\x98\\xeb\\xa9\\xb4 \\xec\\xa2\\x8b\\xec\\x9d\\x84 \\xea\\xb2\\x83 \\xea\\xb0\\x99\\xeb\\x8b\\xa4 \\xec\\x8b\\xb6\\xec\\x97\\x88\\xec\\x96\\xb4\\xec\\x9a\\x94. \\xea\\xb7\\xb8\\xeb\\x9e\\x98\\xec\\x84\\x9c... \",\\n\\t\\t\\t\"bloggername\":\"\\xec\\x95\\x84\\xeb\\xa5\\xb4\\xeb\\xaf\\xb8\\xec\\x95\\x88\\xec\\x9d\\x98 \\xec\\x9d\\xbc\\xea\\xb8\\xb0\\xec\\x9e\\xa5\",\\n\\t\\t\\t\"bloggerlink\":\"https:\\\\/\\\\/blog.naver.com\\\\/ad21cc\",\\n\\t\\t\\t\"postdate\":\"20220712\"\\n\\t\\t},\\n\\t\\t{\\n\\t\\t\\t\"title\":\"<b>\\xed\\x8c\\x8c\\xec\\x9d\\xb4\\xec\\x8d\\xac<\\\\/b>\\xed\\x95\\x99\\xec\\x9b\\x90 \\xec\\x9e\\x85\\xeb\\xac\\xb8\\xec\\x9e\\x90\\xeb\\x9d\\xbc\\xeb\\xa9\\xb4 \\xeb\\xb0\\xb0\\xec\\x9a\\xb0\\xeb\\x8a\\x94 \\xea\\xb3\\xbc\\xec\\xa0\\x95\\xec\\x9d\\xb4 \\xec\\xa4\\x91\\xec\\x9a\\x94\",\\n\\t\\t\\t\"link\":\"https:\\\\/\\\\/blog.naver.com\\\\/sow723?Redirect=Log&logNo=222737121657\",\\n\\t\\t\\t\"description\":\"<b>\\xed\\x8c\\x8c\\xec\\x9d\\xb4\\xec\\x8d\\xac<\\\\/b>\\xed\\x95\\x99\\xec\\x9b\\x90\\xec\\x9d\\x84 \\xeb\\x8b\\xa4\\xeb\\x8b\\x88\\xeb\\xa9\\xb4\\xec\\x84\\x9c\\xeb\\x8f\\x84 \\xeb\\xa7\\x8e\\xec\\x9d\\x80 \\xea\\xb3\\xa0\\xeb\\xaf\\xbc\\xec\\x9d\\x84 \\xed\\x96\\x88\\xec\\x97\\x88\\xeb\\x8a\\x94\\xeb\\x8d\\xb0 \\xec\\xa7\\x84\\xeb\\xa1\\x9c\\xeb\\xa5\\xbc \\xec\\xa0\\x95\\xed\\x95\\x98\\xea\\xb3\\xa0 \\xec\\x9b\\x90\\xed\\x95\\x98\\xeb\\x8a\\x94 \\xec\\xa7\\x81\\xec\\x97\\x85\\xec\\x9d\\x84 \\xec\\x84\\xa0\\xed\\x83\\x9d\\xec\\x9d\\x84 \\xed\\x95\\xa0 \\xec\\x88\\x98 \\xec\\x9e\\x88\\xec\\x96\\xb4\\xec\\x84\\x9c... <b>\\xed\\x8c\\x8c\\xec\\x9d\\xb4\\xec\\x8d\\xac<\\\\/b>, \\xec\\x9e\\x90\\xeb\\xb0\\x94, c\\xec\\x96\\xb8\\xec\\x96\\xb4, c++\\xeb\\x93\\xb1\\xeb\\x93\\xb1 \\xeb\\x8b\\xa4\\xec\\x96\\x91\\xed\\x95\\x9c \\xec\\x96\\xb8\\xec\\x96\\xb4\\xeb\\x93\\xa4 \\xec\\x86\\x8d\\xec\\x97\\x90\\xec\\x84\\x9c \\xea\\xb3\\xbc\\xec\\x97\\xb0 \\xec\\xa0\\x9c\\xea\\xb0\\x80 \\xeb\\xad\\x98 \\xed\\x95\\xa0 \\xec\\x88\\x98 \\xec\\x9e\\x88\\xec\\x9d\\x84\\xec\\xa7\\x80 \\xeb\\x82\\xb4\\xea\\xb0\\x80 \\xec\\x83\\x9d\\xea\\xb0\\x81\\xec\\x9d\\x84 \\xec\\x9e\\x98\\xeb\\xaa\\xbb\\xed\\x95\\x9c\\xea\\xb1\\xb4 \\xec\\x95\\x84\\xeb\\x8b\\x90\\xea\\xb9\\x8c... \",\\n\\t\\t\\t\"bloggername\":\"Onelog\",\\n\\t\\t\\t\"bloggerlink\":\"https:\\\\/\\\\/blog.naver.com\\\\/sow723\",\\n\\t\\t\\t\"postdate\":\"20220518\"\\n\\t\\t}\\n\\t]\\n}'"
      ]
     },
     "execution_count": 6,
     "metadata": {},
     "output_type": "execute_result"
    }
   ],
   "source": [
    "# 글자로 읽을 경우, decode utf-8 설정\n",
    "response_body"
   ]
  },
  {
   "cell_type": "code",
   "execution_count": 8,
   "id": "36946dd6",
   "metadata": {
    "scrolled": false
   },
   "outputs": [
    {
     "name": "stdout",
     "output_type": "stream",
     "text": [
      "{\n",
      "\t\"lastBuildDate\":\"Sat, 23 Jul 2022 15:21:13 +0900\",\n",
      "\t\"total\":343021,\n",
      "\t\"start\":1,\n",
      "\t\"display\":10,\n",
      "\t\"items\":[\n",
      "\t\t{\n",
      "\t\t\t\"title\":\"<b>파이썬<\\/b>학원 실습 위주의 수업이 포인트!\",\n",
      "\t\t\t\"link\":\"https:\\/\\/blog.naver.com\\/jeongok8602?Redirect=Log&logNo=222822655599\",\n",
      "\t\t\t\"description\":\"그래서 저도 진짜 이렇게는 안되겠다싶어서 더욱 늦기전에 <b>파이썬<\\/b>학원을 다녀보기로 마음 먹었어요.... 보통 <b>파이썬<\\/b>학원을 다니는 분들은 저처럼 초보자들이 많을거에요. 많은 개발 언어중에서 해당 언어만이... \",\n",
      "\t\t\t\"bloggername\":\"호박공주맘의 시시콜콜\",\n",
      "\t\t\t\"bloggerlink\":\"https:\\/\\/blog.naver.com\\/jeongok8602\",\n",
      "\t\t\t\"postdate\":\"20220721\"\n",
      "\t\t},\n",
      "\t\t{\n",
      "\t\t\t\"title\":\"<b>파이썬<\\/b>자격증 입문자 취업준비의 좋은선택\",\n",
      "\t\t\t\"link\":\"https:\\/\\/blog.naver.com\\/dambi85?Redirect=Log&logNo=222811274814\",\n",
      "\t\t\t\"description\":\"어떻게든 되겠지 하는 마음으로 우선은 <b>파이썬<\\/b>자격증을 취득해 보기로 했는데요. 빅데이터에서 기초가 되는 부분이 <b>파이썬<\\/b>이었기 때문에 우선적으로 한 번 배워보고 가능하면 자격증까지 취득하면 좋으니... \",\n",
      "\t\t\t\"bloggername\":\"마마 리사킴의 유쾌한 일상 이야기\",\n",
      "\t\t\t\"bloggerlink\":\"https:\\/\\/blog.naver.com\\/dambi85\",\n",
      "\t\t\t\"postdate\":\"20220714\"\n",
      "\t\t},\n",
      "\t\t{\n",
      "\t\t\t\"title\":\"<b>파이썬<\\/b>학원 초보자를 위한 교육과정\",\n",
      "\t\t\t\"link\":\"https:\\/\\/blog.naver.com\\/kkpa1002?Redirect=Log&logNo=222807750795\",\n",
      "\t\t\t\"description\":\"친구에게 여러 가지 질문을 한 끝에 <b>파이썬<\\/b>학원을 저도 다녀봐야겠다는 확신을 얻을 수 있었습니다.... 그래서 <b>파이썬<\\/b>학원을 검색하기 시작했습니다. 어떤 곳이 좋은지 몰랐기에 친구에게 물어봤는데요. 제가... \",\n",
      "\t\t\t\"bloggername\":\"최신 트랜드와 지식창고\",\n",
      "\t\t\t\"bloggerlink\":\"https:\\/\\/blog.naver.com\\/kkpa1002\",\n",
      "\t\t\t\"postdate\":\"20220711\"\n",
      "\t\t},\n",
      "\t\t{\n",
      "\t\t\t\"title\":\"<b>파이썬<\\/b> 자격증 확실한 취득방법\",\n",
      "\t\t\t\"link\":\"https:\\/\\/blog.naver.com\\/monoblue01?Redirect=Log&logNo=222818937808\",\n",
      "\t\t\t\"description\":\"바로 <b>파이썬<\\/b> 자격증입니다. 이유는 요즘 가장 흔하게 쓰이는 언어였고, 취업 시 있으면 도움되기 때문이었죠. AI와 빅데이터가 갑자기 인기가 많아지고 관심을 받으면서 자연스럽게 기초 코딩인 <b>파이썬<\\/b> 또한... \",\n",
      "\t\t\t\"bloggername\":\"루윙코치 교육정보&육아일상\",\n",
      "\t\t\t\"bloggerlink\":\"https:\\/\\/blog.naver.com\\/monoblue01\",\n",
      "\t\t\t\"postdate\":\"20220719\"\n",
      "\t\t},\n",
      "\t\t{\n",
      "\t\t\t\"title\":\"<b>파이썬<\\/b> 강좌 다양한 예제 풀이 학습\",\n",
      "\t\t\t\"link\":\"https:\\/\\/blog.naver.com\\/beany99?Redirect=Log&logNo=222772758216\",\n",
      "\t\t\t\"description\":\"그러다가 IT 분야가 시간이 지나도 유용하게 쓰일 거라는 사실을 알고 난 뒤에는 <b>파이썬<\\/b>강좌 등록에 대해 고민해보게 됐어요. <b>파이썬<\\/b>은 초보자도 쉽게 공부할 수 있다는 것을 알았죠. 물론 처음 접해보는... \",\n",
      "\t\t\t\"bloggername\":\"설레이는오늘\",\n",
      "\t\t\t\"bloggerlink\":\"https:\\/\\/blog.naver.com\\/beany99\",\n",
      "\t\t\t\"postdate\":\"20220614\"\n",
      "\t\t},\n",
      "\t\t{\n",
      "\t\t\t\"title\":\"<b>파이썬<\\/b>강의 입문자의 학습과정\",\n",
      "\t\t\t\"link\":\"https:\\/\\/blog.naver.com\\/qghkfwjf?Redirect=Log&logNo=222774486771\",\n",
      "\t\t\t\"description\":\"<b>파이썬<\\/b>이라는 언어는 프로그램밍 입문자가 많이 배우는 언어 중 하나인데요. 저는 머신러닝과 딥러닝에 관해서 더욱 자세히 알아보고 싶어서 <b>파이썬<\\/b>강의를 수강하게 됐죠. 처음 프로그래밍을 배우려고 생각했을... \",\n",
      "\t\t\t\"bloggername\":\"가넹이네\",\n",
      "\t\t\t\"bloggerlink\":\"https:\\/\\/blog.naver.com\\/qghkfwjf\",\n",
      "\t\t\t\"postdate\":\"20220615\"\n",
      "\t\t},\n",
      "\t\t{\n",
      "\t\t\t\"title\":\"<b>파이썬<\\/b>학원 기본 프로그래밍 학습 절차\",\n",
      "\t\t\t\"link\":\"https:\\/\\/blog.naver.com\\/sweety4338?Redirect=Log&logNo=222809775225\",\n",
      "\t\t\t\"description\":\"걸맞은 <b>파이썬<\\/b>학원을 염두에 두게 되었죠. 짧은 시간 소모로도 충분히 결과를 낼 수 있었던 것은... 자연스레 <b>파이썬<\\/b>학원을 찾게 되었죠. 이 분야를 다루는 학원이 많아 여러 차례에 걸쳐 카운슬링을 받으며... \",\n",
      "\t\t\t\"bloggername\":\"MY 지식@\",\n",
      "\t\t\t\"bloggerlink\":\"https:\\/\\/blog.naver.com\\/sweety4338\",\n",
      "\t\t\t\"postdate\":\"20220713\"\n",
      "\t\t},\n",
      "\t\t{\n",
      "\t\t\t\"title\":\"<b>파이썬<\\/b>기초 폭 넓은 개념 파악하기\",\n",
      "\t\t\t\"link\":\"https:\\/\\/blog.naver.com\\/redsdains?Redirect=Log&logNo=222757634260\",\n",
      "\t\t\t\"description\":\"요즘 <b>파이썬<\\/b>기초가 계속해서 대두가 되는 마당에 저 역시도 현재 JAVA를 배우면서 함께 이를 배우고 있어요. IT 쪽에서 전에는 JAVA가 계속해서 많이 사용되는 언어로 1위를 차지하고 있었지만 쓰기 편한 <b>파이썬<\\/b>을... \",\n",
      "\t\t\t\"bloggername\":\"재밌는 블로그\",\n",
      "\t\t\t\"bloggerlink\":\"https:\\/\\/blog.naver.com\\/redsdains\",\n",
      "\t\t\t\"postdate\":\"20220603\"\n",
      "\t\t},\n",
      "\t\t{\n",
      "\t\t\t\"title\":\"<b>파이썬<\\/b>학원 미래를 위한 학습 플랜\",\n",
      "\t\t\t\"link\":\"https:\\/\\/blog.naver.com\\/ad21cc?Redirect=Log&logNo=222808618801\",\n",
      "\t\t\t\"description\":\"하면서 <b>파이썬<\\/b>학원을 권해주더라고요. 제가 어릴 때부터 컴퓨터 게임을 좋아하기도 했지만, 그 외에도... 그런 것을 보니까 저도 <b>파이썬<\\/b>학원을 다니면서 IT 관련 기술을 습득하면 좋을 것 같다 싶었어요. 그래서... \",\n",
      "\t\t\t\"bloggername\":\"아르미안의 일기장\",\n",
      "\t\t\t\"bloggerlink\":\"https:\\/\\/blog.naver.com\\/ad21cc\",\n",
      "\t\t\t\"postdate\":\"20220712\"\n",
      "\t\t},\n",
      "\t\t{\n",
      "\t\t\t\"title\":\"<b>파이썬<\\/b>학원 입문자라면 배우는 과정이 중요\",\n",
      "\t\t\t\"link\":\"https:\\/\\/blog.naver.com\\/sow723?Redirect=Log&logNo=222737121657\",\n",
      "\t\t\t\"description\":\"<b>파이썬<\\/b>학원을 다니면서도 많은 고민을 했었는데 진로를 정하고 원하는 직업을 선택을 할 수 있어서... <b>파이썬<\\/b>, 자바, c언어, c++등등 다양한 언어들 속에서 과연 제가 뭘 할 수 있을지 내가 생각을 잘못한건 아닐까... \",\n",
      "\t\t\t\"bloggername\":\"Onelog\",\n",
      "\t\t\t\"bloggerlink\":\"https:\\/\\/blog.naver.com\\/sow723\",\n",
      "\t\t\t\"postdate\":\"20220518\"\n",
      "\t\t}\n",
      "\t]\n",
      "}\n"
     ]
    }
   ],
   "source": [
    "print(response_body.decode(\"utf-8\"))"
   ]
  },
  {
   "cell_type": "markdown",
   "id": "93b11687",
   "metadata": {},
   "source": [
    "#### 검색: 책 (book)"
   ]
  },
  {
   "cell_type": "code",
   "execution_count": 10,
   "id": "c11a8c2f",
   "metadata": {},
   "outputs": [
    {
     "name": "stdout",
     "output_type": "stream",
     "text": [
      "{\n",
      "\t\"lastBuildDate\":\"Sat, 23 Jul 2022 15:24:49 +0900\",\n",
      "\t\"total\":1614,\n",
      "\t\"start\":1,\n",
      "\t\"display\":10,\n",
      "\t\"items\":[\n",
      "\t\t{\n",
      "\t\t\t\"title\":\"혼자 공부하는 <b>파이썬<\\/b> (1:1 과외하듯 배우는 프로그래밍 자습서)\",\n",
      "\t\t\t\"link\":\"http:\\/\\/book.naver.com\\/bookdb\\/book_detail.php?bid=22479436\",\n",
      "\t\t\t\"image\":\"https:\\/\\/bookthumb-phinf.pstatic.net\\/cover\\/224\\/794\\/22479436.jpg?type=m1&udate=20220615\",\n",
      "\t\t\t\"author\":\"윤인성\",\n",
      "\t\t\t\"price\":\"22000\",\n",
      "\t\t\t\"discount\":\"19800\",\n",
      "\t\t\t\"publisher\":\"한빛미디어\",\n",
      "\t\t\t\"pubdate\":\"20220601\",\n",
      "\t\t\t\"isbn\":\"1162245654 9791162245651\",\n",
      "\t\t\t\"description\":\"『혼자 공부하는 <b>파이썬<\\/b>』이 더욱 흥미있고 알찬 내용으로 개정되었습니다. 프로그래밍이 정말 처음인 입문자도 따라갈 수 있는 친절한 설명과 단계별... 1:1 과외하듯 배우는 <b>파이썬<\\/b> 프로그래밍 자습서이 책은 독학으로 <b>파이썬<\\/b>을 배우는 입문자가 ‘꼭 필요한 내용을 제대로 학습’할 수 있도록 구성했습니다. 뭘... \"\n",
      "\t\t},\n",
      "\t\t{\n",
      "\t\t\t\"title\":\"만들면서 배우는 <b>파이썬<\\/b>과 40개의 작품들 (자동화, 크롤링, 이미지처리, 데이터분석, 웹페이지, GUI 프로그램, 게임)\",\n",
      "\t\t\t\"link\":\"http:\\/\\/book.naver.com\\/bookdb\\/book_detail.php?bid=21982844\",\n",
      "\t\t\t\"image\":\"https:\\/\\/bookthumb-phinf.pstatic.net\\/cover\\/219\\/828\\/21982844.jpg?type=m1&udate=20220503\",\n",
      "\t\t\t\"author\":\"장문철\",\n",
      "\t\t\t\"price\":\"18800\",\n",
      "\t\t\t\"discount\":\"16920\",\n",
      "\t\t\t\"publisher\":\"앤써북\",\n",
      "\t\t\t\"pubdate\":\"20220228\",\n",
      "\t\t\t\"isbn\":\"1185553932 9791185553931\",\n",
      "\t\t\t\"description\":\"이 책은 내 업무와 생활에 바로 적용할 수 있는 40개의 프로그램을 직접 코딩해서 만들어보고, 동시에 <b>파이썬<\\/b>을 자연스럽게 이해할 수 있게 구성하였다!<b>파이썬<\\/b> 기초 문법 떼고 자동화, 크롤링, 이미지처리, 데이터분석, 웹페이지, GUI 프로그램, 게임, 인공지능 관련 40개 프로그램 직접 <b>파이썬<\\/b> 코딩하며 만들어... \"\n",
      "\t\t},\n",
      "\t\t{\n",
      "\t\t\t\"title\":\"일잘러의 비밀, 엑셀 대신 <b>파이썬<\\/b>으로 업무 자동화하기 (엑셀 반복 업무로 지친 직장인, <b>파이썬<\\/b>으로 칼퇴하자)\",\n",
      "\t\t\t\"link\":\"http:\\/\\/book.naver.com\\/bookdb\\/book_detail.php?bid=22425526\",\n",
      "\t\t\t\"image\":\"https:\\/\\/bookthumb-phinf.pstatic.net\\/cover\\/224\\/255\\/22425526.jpg?type=m1&udate=20220608\",\n",
      "\t\t\t\"author\":\"포스코인재창조원\",\n",
      "\t\t\t\"price\":\"24000\",\n",
      "\t\t\t\"discount\":\"21600\",\n",
      "\t\t\t\"publisher\":\"한빛미디어\",\n",
      "\t\t\t\"pubdate\":\"20220425\",\n",
      "\t\t\t\"isbn\":\"1162245565 9791162245569\",\n",
      "\t\t\t\"description\":\"일잘러로 거듭나려면, 이제 엑셀 대신 <b>파이썬<\\/b>이다!&#x0D;직장인들에게 날개를 달아 줄 <b>파이썬<\\/b> 업무 자동화!&#x0D;&#x0D;지금까지 엑셀을 잘만 써 왔는데, 왜 다들 <b>파이썬<\\/b>을 하라는 걸까요? 엑셀은 사무 업무에 최적화된 프로그램이지만 대용량 데이터를 처리하거나 반복 업무를 자동화하는 데는 한계가 있다.... \"\n",
      "\t\t},\n",
      "\t\t{\n",
      "\t\t\t\"title\":\"Do it! 점프 투 <b>파이썬<\\/b>\",\n",
      "\t\t\t\"link\":\"http:\\/\\/book.naver.com\\/bookdb\\/book_detail.php?bid=15052904\",\n",
      "\t\t\t\"image\":\"https:\\/\\/bookthumb-phinf.pstatic.net\\/cover\\/150\\/529\\/15052904.jpg?type=m1&udate=20220507\",\n",
      "\t\t\t\"author\":\"박응용\",\n",
      "\t\t\t\"price\":\"18800\",\n",
      "\t\t\t\"discount\":\"16920\",\n",
      "\t\t\t\"publisher\":\"이지스퍼블리싱\",\n",
      "\t\t\t\"pubdate\":\"20190620\",\n",
      "\t\t\t\"isbn\":\"1163030910 9791163030911\",\n",
      "\t\t\t\"description\":\"<b>파이썬<\\/b> 4년 연속 베스트셀러 1위!\\n《DO IT! 점프 투 <b>파이썬<\\/b>》 전면 개정판 출시!문과생도 중고등학생도 직장인도 프로그래밍에 눈뜨게 만든 바로 그 책이... 점프 투 <b>파이썬<\\/b>》으로 출간되었던 이 책은 약 4년 동안의 피드백을 반영하여 초보자가 더 빠르게 입문하고, 더 깊이 있게 공부할 수 있도록 개정되었다.... \"\n",
      "\t\t},\n",
      "\t\t{\n",
      "\t\t\t\"title\":\"이것이 취업을 위한 코딩 테스트다 with <b>파이썬<\\/b> (취업과 이직을 결정하는 알고리즘 인터뷰 완벽 가이드)\",\n",
      "\t\t\t\"link\":\"http:\\/\\/book.naver.com\\/bookdb\\/book_detail.php?bid=16439154\",\n",
      "\t\t\t\"image\":\"https:\\/\\/bookthumb-phinf.pstatic.net\\/cover\\/164\\/391\\/16439154.jpg?type=m1&udate=20200928\",\n",
      "\t\t\t\"author\":\"나동빈\",\n",
      "\t\t\t\"price\":\"34000\",\n",
      "\t\t\t\"discount\":\"30600\",\n",
      "\t\t\t\"publisher\":\"한빛미디어\",\n",
      "\t\t\t\"pubdate\":\"20200805\",\n",
      "\t\t\t\"isbn\":\"1162243074 9791162243077\",\n",
      "\t\t\t\"description\":\"8가지 핵심 알고리즘 이론을 쉽게 설명하고, 관련 실전 문제를 풀이했다. 출제 유형 분석, 이론 설명, 기출문제 풀이까지! 어떤 코딩 테스트도 이 책 한 권으로 대비할 수 있을 것이다. 코딩 테스트에서 주로 선택하는 <b>파이썬<\\/b>을 기반으로 설명되어 있으며, <b>파이썬<\\/b> 코드 외에도 C\\/C++, 자바 코드를 추가로 제공한다.\"\n",
      "\t\t},\n",
      "\t\t{\n",
      "\t\t\t\"title\":\"<b>파이썬<\\/b> 자동화 교과서 (업무 생산성을 3배 높이는 엑셀, 워드, 크롤링, 메일 자동화 기술)\",\n",
      "\t\t\t\"link\":\"http:\\/\\/book.naver.com\\/bookdb\\/book_detail.php?bid=22569825\",\n",
      "\t\t\t\"image\":\"https:\\/\\/bookthumb-phinf.pstatic.net\\/cover\\/225\\/698\\/22569825.jpg?type=m1&udate=20220721\",\n",
      "\t\t\t\"author\":\"구지라 히코즈쿠에 지음|문지현\",\n",
      "\t\t\t\"price\":\"27000\",\n",
      "\t\t\t\"discount\":\"24300\",\n",
      "\t\t\t\"publisher\":\"제이펍\",\n",
      "\t\t\t\"pubdate\":\"20220719\",\n",
      "\t\t\t\"isbn\":\"1192469194 9791192469195\",\n",
      "\t\t\t\"description\":\"매일 지루하게 반복되는 작업, 이제 안녕 정시 퇴근과 연봉 인상을 보장하는 <b>파이썬<\\/b> 업무 자동화 기술사람이 종일 작업할 반복 업무를 프로그래밍을 이용하면 2시간 만에 끝낼 수 있다. <b>파이썬<\\/b>은 누구나 입문할 수 있는 프로그래밍 언어로, 이 책은 엑셀 데이터 처리 등 일상적인 업무를 <b>파이썬<\\/b>으로... \"\n",
      "\t\t},\n",
      "\t\t{\n",
      "\t\t\t\"title\":\"<b>파이썬<\\/b> 머신러닝 완벽 가이드 (다양한 캐글 예제와 함께 기초 알고리즘부터 최신 기법까지 배우는)\",\n",
      "\t\t\t\"link\":\"http:\\/\\/book.naver.com\\/bookdb\\/book_detail.php?bid=22346673\",\n",
      "\t\t\t\"image\":\"https:\\/\\/bookthumb-phinf.pstatic.net\\/cover\\/223\\/466\\/22346673.jpg?type=m1&udate=20220421\",\n",
      "\t\t\t\"author\":\"권철민\",\n",
      "\t\t\t\"price\":\"40000\",\n",
      "\t\t\t\"discount\":\"36000\",\n",
      "\t\t\t\"publisher\":\"위키북스\",\n",
      "\t\t\t\"pubdate\":\"20220421\",\n",
      "\t\t\t\"isbn\":\"1158393229 9791158393229\",\n",
      "\t\t\t\"description\":\"자세한 이론 설명과 <b>파이썬<\\/b> 실습을 통해 머신러닝을 완벽하게 배울 수 있습니다!《<b>파이썬<\\/b> 머신러닝 완벽 가이드》는 이론 위주의 머신러닝 책에서 탈피해, 다양한 실전 예제를 직접 구현해 보면서 머신러닝을 체득할 수 있도록 만들었습니다. 캐글과 UCI 머신러닝 리포지토리에서 난이도가 있는 실습... \"\n",
      "\t\t},\n",
      "\t\t{\n",
      "\t\t\t\"title\":\"<b>파이썬<\\/b> 알고리즘 인터뷰 (95가지 알고리즘 문제 풀이로 완성하는 코딩 테스트)\",\n",
      "\t\t\t\"link\":\"http:\\/\\/book.naver.com\\/bookdb\\/book_detail.php?bid=16406247\",\n",
      "\t\t\t\"image\":\"https:\\/\\/bookthumb-phinf.pstatic.net\\/cover\\/164\\/062\\/16406247.jpg?type=m1&udate=20220323\",\n",
      "\t\t\t\"author\":\"박상길\",\n",
      "\t\t\t\"price\":\"38000\",\n",
      "\t\t\t\"discount\":\"34200\",\n",
      "\t\t\t\"publisher\":\"책만\",\n",
      "\t\t\t\"pubdate\":\"20200715\",\n",
      "\t\t\t\"isbn\":\"1189909170 9791189909178\",\n",
      "\t\t\t\"description\":\"물론, <b>파이썬<\\/b>으로 구현하는 코드 풀이를 통해 성능 최적화 기법, <b>파이썬<\\/b>의 핵심 문법과 다양한 실용 테크닉까지 배울 수 있는, 초보 개발자와 숙련 개발자... 이 책은 현업과 실무에 유용한 주요 알고리즘 이론을 깊숙이 이해하고, <b>파이썬<\\/b>의 핵심 기능과 문법까지 상세하게 이해할 수 있는 취업용 코딩 테스트를... \"\n",
      "\t\t},\n",
      "\t\t{\n",
      "\t\t\t\"title\":\"Do it! 쉽게 배우는 <b>파이썬<\\/b> 데이터 분석 (데이터 분석 프로젝트 전 과정 수록!)\",\n",
      "\t\t\t\"link\":\"http:\\/\\/book.naver.com\\/bookdb\\/book_detail.php?bid=22423722\",\n",
      "\t\t\t\"image\":\"https:\\/\\/bookthumb-phinf.pstatic.net\\/cover\\/224\\/237\\/22423722.jpg?type=m1&udate=20220614\",\n",
      "\t\t\t\"author\":\"김영우\",\n",
      "\t\t\t\"price\":\"23000\",\n",
      "\t\t\t\"discount\":\"20700\",\n",
      "\t\t\t\"publisher\":\"이지스퍼블리싱\",\n",
      "\t\t\t\"pubdate\":\"20220531\",\n",
      "\t\t\t\"isbn\":\"1163033499 9791163033493\",\n",
      "\t\t\t\"description\":\"통계, <b>파이썬<\\/b>을 1도 몰라도 데이터를 혼자서 다룰 수 있다!데이터 분석 프로젝트 전 과정 수록!데이터 분석... 쉽게 배우는 <b>파이썬<\\/b> 데이터 분석》을 통해 최근 주목받는 데이터 분석 기법을 재미있게 배울 수 있다. 데이터 분석에 필요한 <b>파이썬<\\/b> 문법은 이 책에 나온 것만 보면 된다. 이 책은 데이터 정제, 가공... \"\n",
      "\t\t},\n",
      "\t\t{\n",
      "\t\t\t\"title\":\"백엔드를 위한 Django REST Framework with <b>파이썬<\\/b>\",\n",
      "\t\t\t\"link\":\"http:\\/\\/book.naver.com\\/bookdb\\/book_detail.php?bid=22458464\",\n",
      "\t\t\t\"image\":\"https:\\/\\/bookthumb-phinf.pstatic.net\\/cover\\/224\\/584\\/22458464.jpg?type=m1&udate=20220514\",\n",
      "\t\t\t\"author\":\"권태형\",\n",
      "\t\t\t\"price\":\"18000\",\n",
      "\t\t\t\"discount\":\"16200\",\n",
      "\t\t\t\"publisher\":\"영진닷컴\",\n",
      "\t\t\t\"pubdate\":\"20220520\",\n",
      "\t\t\t\"isbn\":\"8931466196 9788931466195\",\n",
      "\t\t\t\"description\":\"<b>파이썬<\\/b>으로 배우는 실전 REST 서버 개발!수많은 기업이나 팀에서 코딩을 필수 덕목으로 특히, <b>파이썬<\\/b> 언어를 사용할 수 있는 사람들을 우대할 정도로 <b>파이썬<\\/b>의 인기는 나날이 높아지고 있다. 이는 <b>파이썬<\\/b>이 난이도가 비교적 쉽고 활용 가능한 분야가 많기 때문이다. 많은 개발자들과 개발자를 꿈꾸는 사람들이... \"\n",
      "\t\t}\n",
      "\t]\n",
      "}\n"
     ]
    }
   ],
   "source": [
    "import os\n",
    "import sys\n",
    "import urllib.request\n",
    "\n",
    "client_id = \"client-id-입력\"\n",
    "client_secret = \"client-secret-입력\"\n",
    "\n",
    "encText = urllib.parse.quote(\"파이썬\")\n",
    "url = \"https://openapi.naver.com/v1/search/book?query=\" + encText # blog -> book # json 결과\n",
    "# url = \"https://openapi.naver.com/v1/search/blog.xml?query=\" + encText # xml 결과\n",
    "request = urllib.request.Request(url)\n",
    "request.add_header(\"X-Naver-Client-Id\",client_id)\n",
    "request.add_header(\"X-Naver-Client-Secret\",client_secret)\n",
    "response = urllib.request.urlopen(request)\n",
    "rescode = response.getcode()\n",
    "if(rescode==200):\n",
    "    response_body = response.read()\n",
    "    print(response_body.decode('utf-8'))\n",
    "else:\n",
    "    print(\"Error Code:\" + rescode)"
   ]
  },
  {
   "cell_type": "markdown",
   "id": "a22340c8",
   "metadata": {},
   "source": [
    "#### 검색: 영화(movie)"
   ]
  },
  {
   "cell_type": "code",
   "execution_count": 11,
   "id": "567369a8",
   "metadata": {
    "scrolled": true
   },
   "outputs": [
    {
     "name": "stdout",
     "output_type": "stream",
     "text": [
      "{\n",
      "\t\"lastBuildDate\":\"Sat, 23 Jul 2022 15:26:21 +0900\",\n",
      "\t\"total\":1,\n",
      "\t\"start\":1,\n",
      "\t\"display\":1,\n",
      "\t\"items\":[\n",
      "\t\t{\n",
      "\t\t\t\"title\":\"<b>파이썬<\\/b> 앤 가드\",\n",
      "\t\t\t\"link\":\"https:\\/\\/movie.naver.com\\/movie\\/bi\\/mi\\/basic.nhn?code=152070\",\n",
      "\t\t\t\"image\":\"https:\\/\\/ssl.pstatic.net\\/imgmovie\\/mdi\\/mit110\\/1520\\/152070_P01_145336.jpg\",\n",
      "\t\t\t\"subtitle\":\"PYTHON AND GUARD\",\n",
      "\t\t\t\"pubDate\":\"2015\",\n",
      "\t\t\t\"director\":\"안톤 디아코프|\",\n",
      "\t\t\t\"actor\":\"\",\n",
      "\t\t\t\"userRating\":\"0.00\"\n",
      "\t\t}\n",
      "\t]\n",
      "}\n"
     ]
    }
   ],
   "source": [
    "import os\n",
    "import sys\n",
    "import urllib.request\n",
    "\n",
    "client_id = \"client-id-입력\"\n",
    "client_secret = \"client-secret-입력\"\n",
    "\n",
    "encText = urllib.parse.quote(\"파이썬\")\n",
    "url = \"https://openapi.naver.com/v1/search/movie?query=\" + encText # blog -> book # json 결과\n",
    "# url = \"https://openapi.naver.com/v1/search/blog.xml?query=\" + encText # xml 결과\n",
    "request = urllib.request.Request(url)\n",
    "request.add_header(\"X-Naver-Client-Id\",client_id)\n",
    "request.add_header(\"X-Naver-Client-Secret\",client_secret)\n",
    "response = urllib.request.urlopen(request)\n",
    "rescode = response.getcode()\n",
    "if(rescode==200):\n",
    "    response_body = response.read()\n",
    "    print(response_body.decode('utf-8'))\n",
    "else:\n",
    "    print(\"Error Code:\" + rescode)"
   ]
  },
  {
   "cell_type": "markdown",
   "id": "a58504c1",
   "metadata": {},
   "source": [
    "#### 검색: 카페 (cafearticle)"
   ]
  },
  {
   "cell_type": "code",
   "execution_count": 12,
   "id": "7982da38",
   "metadata": {
    "scrolled": true
   },
   "outputs": [
    {
     "name": "stdout",
     "output_type": "stream",
     "text": [
      "{\n",
      "\t\"lastBuildDate\":\"Sat, 23 Jul 2022 15:26:29 +0900\",\n",
      "\t\"total\":143477,\n",
      "\t\"start\":1,\n",
      "\t\"display\":10,\n",
      "\t\"items\":[\n",
      "\t\t{\n",
      "\t\t\t\"title\":\"R로 시작하든 <b>파이썬<\\/b>으로 시작하든 문제 없는 이유\",\n",
      "\t\t\t\"link\":\"http:\\/\\/cafe.naver.com\\/sqlpd\\/37043\",\n",
      "\t\t\t\"description\":\"<b>파이썬<\\/b> 판다스의 문법 R의 기본함수 문법으로 번역해 보면 간단합니다. -<b>파이썬<\\/b>: R df['a'] : d$a df.iloc[a:b,:] : d[a:b, ] df.iloc[d['a']&gt;3,:] : d[d$a&gt;3, ] 등등.. <b>파이썬<\\/b>의 판다스는 R의 기본 함수에 매칭된다고 볼 수... \",\n",
      "\t\t\t\"cafename\":\"데이터 전문가 포럼 (빅데이터분석기사...\",\n",
      "\t\t\t\"cafeurl\":\"https:\\/\\/cafe.naver.com\\/sqlpd\"\n",
      "\t\t},\n",
      "\t\t{\n",
      "\t\t\t\"title\":\"vscode <b>파이썬<\\/b> 질문입니다!!\",\n",
      "\t\t\t\"link\":\"http:\\/\\/cafe.naver.com\\/inmacbook\\/2554123\",\n",
      "\t\t\t\"description\":\"vscode에서 <b>파이썬<\\/b> 실행하면 저런 명령어로 실행이 되는데 제가 python3만 깔아놔서 그런지 python3로 실행하고 싶은데 저 pyhton을 python3으로 바꾸는방법 아시는분 계신가요 ? ㅠㅜ\",\n",
      "\t\t\t\"cafename\":\"맥 쓰는 사람들 [구 맥북을 쓰는 사람...\",\n",
      "\t\t\t\"cafeurl\":\"https:\\/\\/cafe.naver.com\\/inmacbook\"\n",
      "\t\t},\n",
      "\t\t{\n",
      "\t\t\t\"title\":\"<b>파이썬<\\/b> 질문\",\n",
      "\t\t\t\"link\":\"http:\\/\\/cafe.naver.com\\/sqlpd\\/36788\",\n",
      "\t\t\t\"description\":\"안녕하세요 <b>파이썬<\\/b>을 공부하고 있는데 if하고 ,input이 결합된 함수를 공부하고 있어요 근데, 책에서 하라는 대로 했고 input에 정수입력&gt;에 273이라고 썼는데 결과가 왜 이렇게 나오나요..?\",\n",
      "\t\t\t\"cafename\":\"데이터 전문가 포럼 (빅데이터분석기사...\",\n",
      "\t\t\t\"cafeurl\":\"https:\\/\\/cafe.naver.com\\/sqlpd\"\n",
      "\t\t},\n",
      "\t\t{\n",
      "\t\t\t\"title\":\"[공부] <b>파이썬<\\/b> 컴퓨터 사양\",\n",
      "\t\t\t\"link\":\"http:\\/\\/cafe.naver.com\\/workee\\/1005330\",\n",
      "\t\t\t\"description\":\"제가 우선 <b>파이썬<\\/b> 공부부터 시작해서 SQL까지 공부해보려고 합니다 용도는 시장조사 및 데이터 분석 정도인데요 컴퓨터 고사양은 필요없고, 기본 사양정도면 된다는데 혹시 개발자 분들 혹은 저처럼 문돌이에 공부중이신... \",\n",
      "\t\t\t\"cafename\":\"직장인 탐구생활\",\n",
      "\t\t\t\"cafeurl\":\"https:\\/\\/cafe.naver.com\\/workee\"\n",
      "\t\t},\n",
      "\t\t{\n",
      "\t\t\t\"title\":\"<b>파이썬<\\/b> 그리고 C언어\",\n",
      "\t\t\t\"link\":\"http:\\/\\/cafe.naver.com\\/mathall\\/2442055\",\n",
      "\t\t\t\"description\":\"아이가 명백한 이과성향이고 컴퓨터 쪽으로 관심이 많아 학원 다니며 <b>파이썬<\\/b>을 배우고 있고 거의 5개월 정도 걸렸네요. 이제 c언어 들어간다고 하는데 계속 쭉 해둔다면 괜찮을까.. 계속 고민되는 요즘입니다. 아무래도... \",\n",
      "\t\t\t\"cafename\":\"[상위1%카페] 대한민국 상위1% 교육정...\",\n",
      "\t\t\t\"cafeurl\":\"https:\\/\\/cafe.naver.com\\/mathall\"\n",
      "\t\t},\n",
      "\t\t{\n",
      "\t\t\t\"title\":\"c언어랑 <b>파이썬<\\/b> 같이하지마세요\",\n",
      "\t\t\t\"link\":\"http:\\/\\/cafe.naver.com\\/girlsfrontlinekr\\/4447970\",\n",
      "\t\t\t\"description\":\"naver.com\\/girlsfrontlinekr\\/4291502 )을 꼭 확인해주세요! ---------------------------------------- c에서 버그 생겨서 한참 찾아보니 print라 적음 반대로 <b>파이썬<\\/b>에선 printf라 적음 통일 좀 시켜라 매번 헷갈린다\",\n",
      "\t\t\t\"cafename\":\"소녀전선 공식카페\",\n",
      "\t\t\t\"cafeurl\":\"https:\\/\\/cafe.naver.com\\/girlsfrontlinekr\"\n",
      "\t\t},\n",
      "\t\t{\n",
      "\t\t\t\"title\":\"마이크로<b>파이썬<\\/b>은 쉬운듯 어렵네요.\",\n",
      "\t\t\t\"link\":\"http:\\/\\/cafe.naver.com\\/arduinostory\\/145579\",\n",
      "\t\t\t\"description\":\"수,목요일에 쉬게되어 오랜만에 부담없이 코딩어레이를 꺼내어 마이크로 <b>파이썬<\\/b>을 (다시 시작부터) 해보았습니다. led켜기, pwm, adc입력 - 이 세가지를 조합해서 led 밝기 조절까지는 성공했는데 lcd창에 변수값을... \",\n",
      "\t\t\t\"cafename\":\"아두이노 스토리\",\n",
      "\t\t\t\"cafeurl\":\"https:\\/\\/cafe.naver.com\\/arduinostory\"\n",
      "\t\t},\n",
      "\t\t{\n",
      "\t\t\t\"title\":\"화학공학과 <b>파이썬<\\/b> 질문\",\n",
      "\t\t\t\"link\":\"http:\\/\\/cafe.naver.com\\/specup\\/7026918\",\n",
      "\t\t\t\"description\":\"안녕하세요 화학공학을 전공하고 있는 3학년 입니다 이번 여름방학에 교내에서 <b>파이썬<\\/b> 강좌가 열려서 고민이 생겼습니다. <b>파이썬<\\/b>도 배우고 팀프로젝트도 해서 발표도 하는 좀 빡센 프로그램인데 이게 과연... \",\n",
      "\t\t\t\"cafename\":\"스펙업｜취업,대학생,인턴,대기업,공기...\",\n",
      "\t\t\t\"cafeurl\":\"https:\\/\\/cafe.naver.com\\/specup\"\n",
      "\t\t},\n",
      "\t\t{\n",
      "\t\t\t\"title\":\"<b>파이썬<\\/b> 프로그래밍\",\n",
      "\t\t\t\"link\":\"http:\\/\\/cafe.naver.com\\/inmacbook\\/2549483\",\n",
      "\t\t\t\"description\":\"온라인 쇼핑몰을 운영 기획중인데 찾아보니 가격비교 프로그램 이런게 있는 것 같아서요 <b>파이썬<\\/b>으로 프로그래밍이 가능한가요??\",\n",
      "\t\t\t\"cafename\":\"맥 쓰는 사람들 [구 맥북을 쓰는 사람...\",\n",
      "\t\t\t\"cafeurl\":\"https:\\/\\/cafe.naver.com\\/inmacbook\"\n",
      "\t\t},\n",
      "\t\t{\n",
      "\t\t\t\"title\":\"아이패드에서 <b>파이썬<\\/b> 공부하려면\",\n",
      "\t\t\t\"link\":\"http:\\/\\/cafe.naver.com\\/sqlpd\\/36734\",\n",
      "\t\t\t\"description\":\"빅분기\\/adp 실기공부를 이제 시작하려는데 <b>파이썬<\\/b>을 공부하려고 합니다. 아이패드로 공부하려는데 어떤 앱을 깔아서 공부하는 것이 좋을까요? <b>파이썬<\\/b> 쥬피터를 pc로 사용해본 적은 있는데 거의 초보입니다. 너무 기초적인... \",\n",
      "\t\t\t\"cafename\":\"데이터 전문가 포럼 (빅데이터분석기사...\",\n",
      "\t\t\t\"cafeurl\":\"https:\\/\\/cafe.naver.com\\/sqlpd\"\n",
      "\t\t}\n",
      "\t]\n",
      "}\n"
     ]
    }
   ],
   "source": [
    "import os\n",
    "import sys\n",
    "import urllib.request\n",
    "\n",
    "client_id = \"client-id-입력\"\n",
    "client_secret = \"client-secret-입력\"\n",
    "\n",
    "encText = urllib.parse.quote(\"파이썬\")\n",
    "url = \"https://openapi.naver.com/v1/search/cafearticle?query=\" + encText # blog -> book # json 결과\n",
    "# url = \"https://openapi.naver.com/v1/search/blog.xml?query=\" + encText # xml 결과\n",
    "request = urllib.request.Request(url)\n",
    "request.add_header(\"X-Naver-Client-Id\",client_id)\n",
    "request.add_header(\"X-Naver-Client-Secret\",client_secret)\n",
    "response = urllib.request.urlopen(request)\n",
    "rescode = response.getcode()\n",
    "if(rescode==200):\n",
    "    response_body = response.read()\n",
    "    print(response_body.decode('utf-8'))\n",
    "else:\n",
    "    print(\"Error Code:\" + rescode)"
   ]
  },
  {
   "cell_type": "markdown",
   "id": "127aae68",
   "metadata": {},
   "source": [
    "#### 검색: 쇼핑 (shop)"
   ]
  },
  {
   "cell_type": "code",
   "execution_count": 13,
   "id": "20e4d249",
   "metadata": {},
   "outputs": [
    {
     "name": "stdout",
     "output_type": "stream",
     "text": [
      "{\n",
      "\t\"lastBuildDate\":\"Sat, 23 Jul 2022 15:26:39 +0900\",\n",
      "\t\"total\":217606,\n",
      "\t\"start\":1,\n",
      "\t\"display\":10,\n",
      "\t\"items\":[\n",
      "\t\t{\n",
      "\t\t\t\"title\":\"<b>파이톤<\\/b> 여성가방 여성캐주얼가방 캠퍼스가방 LH KKN928006B\",\n",
      "\t\t\t\"link\":\"https:\\/\\/search.shopping.naver.com\\/gate.nhn?id=26776249651\",\n",
      "\t\t\t\"image\":\"https:\\/\\/shopping-phinf.pstatic.net\\/main_2677624\\/26776249651.20210415195625.jpg\",\n",
      "\t\t\t\"lprice\":\"12470\",\n",
      "\t\t\t\"hprice\":\"\",\n",
      "\t\t\t\"mallName\":\"네이버\",\n",
      "\t\t\t\"productId\":\"26776249651\",\n",
      "\t\t\t\"productType\":\"1\",\n",
      "\t\t\t\"brand\":\"\",\n",
      "\t\t\t\"maker\":\"\",\n",
      "\t\t\t\"category1\":\"패션잡화\",\n",
      "\t\t\t\"category2\":\"남성가방\",\n",
      "\t\t\t\"category3\":\"숄더백\",\n",
      "\t\t\t\"category4\":\"\"\n",
      "\t\t},\n",
      "\t\t{\n",
      "\t\t\t\"title\":\"일본 와코마리아 뱀피 숄더 파우치 WACKO MARIA <b>PYTHON<\\/b> SHOULDER POUCH\",\n",
      "\t\t\t\"link\":\"https:\\/\\/search.shopping.naver.com\\/gate.nhn?id=30720077835\",\n",
      "\t\t\t\"image\":\"https:\\/\\/shopping-phinf.pstatic.net\\/main_3072007\\/30720077835.20220130005020.jpg\",\n",
      "\t\t\t\"lprice\":\"190000\",\n",
      "\t\t\t\"hprice\":\"\",\n",
      "\t\t\t\"mallName\":\"네이버\",\n",
      "\t\t\t\"productId\":\"30720077835\",\n",
      "\t\t\t\"productType\":\"1\",\n",
      "\t\t\t\"brand\":\"와코마리아\",\n",
      "\t\t\t\"maker\":\"\",\n",
      "\t\t\t\"category1\":\"패션잡화\",\n",
      "\t\t\t\"category2\":\"남성가방\",\n",
      "\t\t\t\"category3\":\"숄더백\",\n",
      "\t\t\t\"category4\":\"\"\n",
      "\t\t},\n",
      "\t\t{\n",
      "\t\t\t\"title\":\"수제 가죽 소품 지갑 가방 백 맞춤 폴리싱 핸드메이드 유광 <b>파이톤<\\/b> 반지갑\",\n",
      "\t\t\t\"link\":\"https:\\/\\/search.shopping.naver.com\\/gate.nhn?id=26297688303\",\n",
      "\t\t\t\"image\":\"https:\\/\\/shopping-phinf.pstatic.net\\/main_2629768\\/26297688303.20210309224443.jpg\",\n",
      "\t\t\t\"lprice\":\"460000\",\n",
      "\t\t\t\"hprice\":\"\",\n",
      "\t\t\t\"mallName\":\"네이버\",\n",
      "\t\t\t\"productId\":\"26297688303\",\n",
      "\t\t\t\"productType\":\"1\",\n",
      "\t\t\t\"brand\":\"\",\n",
      "\t\t\t\"maker\":\"\",\n",
      "\t\t\t\"category1\":\"패션잡화\",\n",
      "\t\t\t\"category2\":\"남성가방\",\n",
      "\t\t\t\"category3\":\"숄더백\",\n",
      "\t\t\t\"category4\":\"\"\n",
      "\t\t},\n",
      "\t\t{\n",
      "\t\t\t\"title\":\"수제 가죽 소품 지갑 가방 백 맞춤 폴리싱 핸드메이드 <b>파이톤<\\/b> 클러치 여성 리얼\",\n",
      "\t\t\t\"link\":\"https:\\/\\/search.shopping.naver.com\\/gate.nhn?id=26297481769\",\n",
      "\t\t\t\"image\":\"https:\\/\\/shopping-phinf.pstatic.net\\/main_2629748\\/26297481769.20210309214507.jpg\",\n",
      "\t\t\t\"lprice\":\"240000\",\n",
      "\t\t\t\"hprice\":\"\",\n",
      "\t\t\t\"mallName\":\"네이버\",\n",
      "\t\t\t\"productId\":\"26297481769\",\n",
      "\t\t\t\"productType\":\"1\",\n",
      "\t\t\t\"brand\":\"\",\n",
      "\t\t\t\"maker\":\"\",\n",
      "\t\t\t\"category1\":\"패션잡화\",\n",
      "\t\t\t\"category2\":\"남성가방\",\n",
      "\t\t\t\"category3\":\"숄더백\",\n",
      "\t\t\t\"category4\":\"\"\n",
      "\t\t},\n",
      "\t\t{\n",
      "\t\t\t\"title\":\"수제 가죽 소품 지갑 가방 백 맞춤 폴리싱 핸드메이드 <b>파이톤<\\/b> 장지갑 여성 리얼\",\n",
      "\t\t\t\"link\":\"https:\\/\\/search.shopping.naver.com\\/gate.nhn?id=26297247550\",\n",
      "\t\t\t\"image\":\"https:\\/\\/shopping-phinf.pstatic.net\\/main_2629724\\/26297247550.20210309204551.jpg\",\n",
      "\t\t\t\"lprice\":\"860000\",\n",
      "\t\t\t\"hprice\":\"\",\n",
      "\t\t\t\"mallName\":\"네이버\",\n",
      "\t\t\t\"productId\":\"26297247550\",\n",
      "\t\t\t\"productType\":\"1\",\n",
      "\t\t\t\"brand\":\"\",\n",
      "\t\t\t\"maker\":\"\",\n",
      "\t\t\t\"category1\":\"패션잡화\",\n",
      "\t\t\t\"category2\":\"남성가방\",\n",
      "\t\t\t\"category3\":\"숄더백\",\n",
      "\t\t\t\"category4\":\"\"\n",
      "\t\t},\n",
      "\t\t{\n",
      "\t\t\t\"title\":\"아코디언카드지갑 맞춤 제작하다 폴리 퓨어 핸드메이드 가죽 플라워 <b>파이톤<\\/b>\",\n",
      "\t\t\t\"link\":\"https:\\/\\/search.shopping.naver.com\\/gate.nhn?id=30909600743\",\n",
      "\t\t\t\"image\":\"https:\\/\\/shopping-phinf.pstatic.net\\/main_3090960\\/30909600743.20220213010801.jpg\",\n",
      "\t\t\t\"lprice\":\"233100\",\n",
      "\t\t\t\"hprice\":\"\",\n",
      "\t\t\t\"mallName\":\"네이버\",\n",
      "\t\t\t\"productId\":\"30909600743\",\n",
      "\t\t\t\"productType\":\"1\",\n",
      "\t\t\t\"brand\":\"\",\n",
      "\t\t\t\"maker\":\"\",\n",
      "\t\t\t\"category1\":\"패션잡화\",\n",
      "\t\t\t\"category2\":\"남성가방\",\n",
      "\t\t\t\"category3\":\"숄더백\",\n",
      "\t\t\t\"category4\":\"\"\n",
      "\t\t},\n",
      "\t\t{\n",
      "\t\t\t\"title\":\"수제 가죽 소품 지갑 가방 백 맞춤 폴리싱 핸드메이드 <b>파이톤<\\/b> 3단 여성 리얼 커\",\n",
      "\t\t\t\"link\":\"https:\\/\\/search.shopping.naver.com\\/gate.nhn?id=29079594531\",\n",
      "\t\t\t\"image\":\"https:\\/\\/shopping-phinf.pstatic.net\\/main_2907959\\/29079594531.20211003031549.jpg\",\n",
      "\t\t\t\"lprice\":\"900000\",\n",
      "\t\t\t\"hprice\":\"\",\n",
      "\t\t\t\"mallName\":\"네이버\",\n",
      "\t\t\t\"productId\":\"29079594531\",\n",
      "\t\t\t\"productType\":\"1\",\n",
      "\t\t\t\"brand\":\"\",\n",
      "\t\t\t\"maker\":\"\",\n",
      "\t\t\t\"category1\":\"패션잡화\",\n",
      "\t\t\t\"category2\":\"남성가방\",\n",
      "\t\t\t\"category3\":\"숄더백\",\n",
      "\t\t\t\"category4\":\"\"\n",
      "\t\t},\n",
      "\t\t{\n",
      "\t\t\t\"title\":\"구찌 Gucci Horsebit 1955 <b>python<\\/b> small shoulder bag\",\n",
      "\t\t\t\"link\":\"https:\\/\\/search.shopping.naver.com\\/gate.nhn?id=32967601749\",\n",
      "\t\t\t\"image\":\"https:\\/\\/shopping-phinf.pstatic.net\\/main_3296760\\/32967601749.1.jpg\",\n",
      "\t\t\t\"lprice\":\"7700700\",\n",
      "\t\t\t\"hprice\":\"\",\n",
      "\t\t\t\"mallName\":\"하입패션\",\n",
      "\t\t\t\"productId\":\"32967601749\",\n",
      "\t\t\t\"productType\":\"2\",\n",
      "\t\t\t\"brand\":\"구찌\",\n",
      "\t\t\t\"maker\":\"\",\n",
      "\t\t\t\"category1\":\"패션잡화\",\n",
      "\t\t\t\"category2\":\"남성가방\",\n",
      "\t\t\t\"category3\":\"숄더백\",\n",
      "\t\t\t\"category4\":\"\"\n",
      "\t\t},\n",
      "\t\t{\n",
      "\t\t\t\"title\":\"구찌 Gucci Horsebit 1955 <b>python<\\/b> small shoulder bag\",\n",
      "\t\t\t\"link\":\"https:\\/\\/search.shopping.naver.com\\/gate.nhn?id=32967707706\",\n",
      "\t\t\t\"image\":\"https:\\/\\/shopping-phinf.pstatic.net\\/main_3296770\\/32967707706.1.jpg\",\n",
      "\t\t\t\"lprice\":\"7700700\",\n",
      "\t\t\t\"hprice\":\"\",\n",
      "\t\t\t\"mallName\":\"하입패션\",\n",
      "\t\t\t\"productId\":\"32967707706\",\n",
      "\t\t\t\"productType\":\"2\",\n",
      "\t\t\t\"brand\":\"구찌\",\n",
      "\t\t\t\"maker\":\"\",\n",
      "\t\t\t\"category1\":\"패션잡화\",\n",
      "\t\t\t\"category2\":\"남성가방\",\n",
      "\t\t\t\"category3\":\"숄더백\",\n",
      "\t\t\t\"category4\":\"\"\n",
      "\t\t},\n",
      "\t\t{\n",
      "\t\t\t\"title\":\"와코마리아 <b>파이썬<\\/b> 숄더백 베이지\",\n",
      "\t\t\t\"link\":\"https:\\/\\/search.shopping.naver.com\\/gate.nhn?id=83463870362\",\n",
      "\t\t\t\"image\":\"https:\\/\\/shopping-phinf.pstatic.net\\/main_8346387\\/83463870362.jpg\",\n",
      "\t\t\t\"lprice\":\"202000\",\n",
      "\t\t\t\"hprice\":\"\",\n",
      "\t\t\t\"mallName\":\"시티샵재팬\",\n",
      "\t\t\t\"productId\":\"83463870362\",\n",
      "\t\t\t\"productType\":\"2\",\n",
      "\t\t\t\"brand\":\"와코마리아\",\n",
      "\t\t\t\"maker\":\"와코마리아\",\n",
      "\t\t\t\"category1\":\"패션잡화\",\n",
      "\t\t\t\"category2\":\"남성가방\",\n",
      "\t\t\t\"category3\":\"숄더백\",\n",
      "\t\t\t\"category4\":\"\"\n",
      "\t\t}\n",
      "\t]\n",
      "}\n"
     ]
    }
   ],
   "source": [
    "import os\n",
    "import sys\n",
    "import urllib.request\n",
    "\n",
    "client_id = \"client-id-입력\"\n",
    "client_secret = \"client-secret-입력\"\n",
    "\n",
    "encText = urllib.parse.quote(\"파이썬\")\n",
    "url = \"https://openapi.naver.com/v1/search/shop?query=\" + encText # blog -> book # json 결과\n",
    "# url = \"https://openapi.naver.com/v1/search/blog.xml?query=\" + encText # xml 결과\n",
    "request = urllib.request.Request(url)\n",
    "request.add_header(\"X-Naver-Client-Id\",client_id)\n",
    "request.add_header(\"X-Naver-Client-Secret\",client_secret)\n",
    "response = urllib.request.urlopen(request)\n",
    "rescode = response.getcode()\n",
    "if(rescode==200):\n",
    "    response_body = response.read()\n",
    "    print(response_body.decode('utf-8'))\n",
    "else:\n",
    "    print(\"Error Code:\" + rescode)"
   ]
  },
  {
   "cell_type": "markdown",
   "id": "a4f3afec",
   "metadata": {},
   "source": [
    "#### 검색: 백과사전(encyc)"
   ]
  },
  {
   "cell_type": "code",
   "execution_count": 14,
   "id": "b68ce524",
   "metadata": {
    "scrolled": true
   },
   "outputs": [
    {
     "name": "stdout",
     "output_type": "stream",
     "text": [
      "{\n",
      "\t\"lastBuildDate\":\"Sat, 23 Jul 2022 15:26:46 +0900\",\n",
      "\t\"total\":478,\n",
      "\t\"start\":1,\n",
      "\t\"display\":10,\n",
      "\t\"items\":[\n",
      "\t\t{\n",
      "\t\t\t\"title\":\"<b>파이썬<\\/b>\",\n",
      "\t\t\t\"link\":\"https:\\/\\/terms.naver.com\\/entry.naver?docId=3580815&cid=59088&categoryId=59096\",\n",
      "\t\t\t\"description\":\"‘<b>파이썬<\\/b>’이다. 간결한 문법으로 입문자가 이해하기 쉽고, 다양한 분야에 활용할 수 있기 때문이다. 이 외에도 <b>파이썬<\\/b>은 머신러닝, 그래픽, 웹 개발 등 여러 업계에서 선호하는 언어로 꾸준히... \",\n",
      "\t\t\t\"thumbnail\":\"http:\\/\\/openapi-dbscthumb.phinf.naver.net\\/4749_000_1\\/20170118193349632_0CHSSS5Y6.png\\/01_16.png?type=m160_160\"\n",
      "\t\t},\n",
      "\t\t{\n",
      "\t\t\t\"title\":\"<b>파이썬<\\/b>\",\n",
      "\t\t\t\"link\":\"https:\\/\\/terms.naver.com\\/entry.naver?docId=3607513&cid=58598&categoryId=59316\",\n",
      "\t\t\t\"description\":\" 컴퓨터 언어의 일종으로 간결하고 생산성 높은 프로그래밍 언어.  <b>파이썬<\\/b>(python)은 프로그램을 설계하는 프로그래밍 언어 중 하나입니다. 컴퓨터는 0과 1을(이진수) 인식하여 작동하기 때문에 과거에는... \",\n",
      "\t\t\t\"thumbnail\":\"http:\\/\\/openapi-dbscthumb.phinf.naver.net\\/4751_000_3\\/20170710213206672_OPHLG2VOW.jpg\\/992_170575_10034.jpg?type=m160_160\"\n",
      "\t\t},\n",
      "\t\t{\n",
      "\t\t\t\"title\":\"<b>파이썬<\\/b>\",\n",
      "\t\t\t\"link\":\"https:\\/\\/terms.naver.com\\/entry.naver?docId=3533295&cid=40942&categoryId=32838\",\n",
      "\t\t\t\"description\":\" 오픈소스 고급 프로그래밍 언어 중 하나이다.  C언어를 기반으로 한 오픈소스 고급 프로그래밍 언어로, 1991년 귀도 반 로섬(Guido van Rossum)에 의해 설계 및 개발되었다. <b>파이썬<\\/b>이라는 이름은 <b>파이썬<\\/b>을... \",\n",
      "\t\t\t\"thumbnail\":\"\"\n",
      "\t\t},\n",
      "\t\t{\n",
      "\t\t\t\"title\":\"<b>파이썬<\\/b>\",\n",
      "\t\t\t\"link\":\"https:\\/\\/ko.wikipedia.org\\/wiki\\/%ED%8C%8C%EC%9D%B4%EC%8D%AC\",\n",
      "\t\t\t\"description\":\"<b>파이썬<\\/b> ( 영어: Python )은 1991년 네덜란드계 프로그래머인 귀도 반 로섬이 발표한 고급 프로그래밍 언어로, 플랫폼에 독립적이며 인터프리터식, 객체지향적, 동적 타이핑(dynamically typed) 대화형... \",\n",
      "\t\t\t\"thumbnail\":\"\"\n",
      "\t\t},\n",
      "\t\t{\n",
      "\t\t\t\"title\":\"C<b>파이썬<\\/b>\",\n",
      "\t\t\t\"link\":\"https:\\/\\/ko.wikipedia.org\\/wiki\\/C%ED%8C%8C%EC%9D%B4%EC%8D%AC\",\n",
      "\t\t\t\"description\":\"C<b>파이썬<\\/b> (CPython)은 <b>파이썬<\\/b> 프로그래밍 언어의 참조 구현체이다. C와 <b>파이썬<\\/b>으로 작성된 C<b>파이썬<\\/b>은 이 언어에 가장 널리 사용되는 기본 구현체이다. C<b>파이썬<\\/b>은 인터프리트 과정 이전에 <b>파이썬<\\/b> 코드를... \",\n",
      "\t\t\t\"thumbnail\":\"\"\n",
      "\t\t},\n",
      "\t\t{\n",
      "\t\t\t\"title\":\"바이오<b>파이썬<\\/b>\",\n",
      "\t\t\t\"link\":\"https:\\/\\/ko.wikipedia.org\\/wiki\\/%EB%B0%94%EC%9D%B4%EC%98%A4%ED%8C%8C%EC%9D%B4%EC%8D%AC\",\n",
      "\t\t\t\"description\":\"바이오<b>파이썬<\\/b> (Biopython) 프로젝트는 분자생물학 계산에 자유롭게 사용하기 위한 <b>파이썬<\\/b> 라이브러리 구축 프로젝트이다. 같이 보기 바이오자바 바이오펄 외부 링크 biopython.org\",\n",
      "\t\t\t\"thumbnail\":\"\"\n",
      "\t\t},\n",
      "\t\t{\n",
      "\t\t\t\"title\":\"<b>파이썬<\\/b>애니웨어\",\n",
      "\t\t\t\"link\":\"https:\\/\\/ko.wikipedia.org\\/wiki\\/%ED%8C%8C%EC%9D%B4%EC%8D%AC%EC%95%A0%EB%8B%88%EC%9B%A8%EC%96%B4\",\n",
      "\t\t\t\"description\":\"<b>파이썬<\\/b>애니웨어 (PythonAnywhere)는 <b>파이썬<\\/b> 프로그래밍 언어 기반의 웹 호스팅 서비스(서비스형 플랫폼)이자 온라인 통합 개발 환경이다. 2012년에 Giles Thomas와 Robert Smithson이 설립했으며 서버... \",\n",
      "\t\t\t\"thumbnail\":\"\"\n",
      "\t\t},\n",
      "\t\t{\n",
      "\t\t\t\"title\":\"<b>파이썬<\\/b>의 역사\",\n",
      "\t\t\t\"link\":\"https:\\/\\/ko.wikipedia.org\\/wiki\\/%ED%8C%8C%EC%9D%B4%EC%8D%AC%EC%9D%98_%EC%97%AD%EC%82%AC\",\n",
      "\t\t\t\"description\":\"프로그래밍 언어 <b>파이썬<\\/b>은 1980년대 말에 구상되었으며 그 구현체는 1989년 12월 예외 처리가 가능하고 아메바 운영 체제와 통신이 가능한 ABC의 후속 프로그래밍 언어로서 CWI(Centrum Wiskunde... \",\n",
      "\t\t\t\"thumbnail\":\"\"\n",
      "\t\t},\n",
      "\t\t{\n",
      "\t\t\t\"title\":\"아나콘다 (<b>파이썬<\\/b> 배포판)\",\n",
      "\t\t\t\"link\":\"https:\\/\\/ko.wikipedia.org\\/wiki\\/%EC%95%84%EB%82%98%EC%BD%98%EB%8B%A4_(%ED%8C%8C%EC%9D%B4%EC%8D%AC_%EB%B0%B0%ED%8F%AC%ED%8C%90)\",\n",
      "\t\t\t\"description\":\"아나콘다 (Anaconda)는 패키지 관리와 디플로이를 단순케 할 목적으로 과학 계산(데이터 과학, 기계 학습 애플리케이션, 대규모 데이터 처리, 예측 분석 등)을 위한 <b>파이썬<\\/b>과 R 프로그래밍 언어의 자유... \",\n",
      "\t\t\t\"thumbnail\":\"\"\n",
      "\t\t},\n",
      "\t\t{\n",
      "\t\t\t\"title\":\"<b>파이썬<\\/b> 소프트웨어 재단\",\n",
      "\t\t\t\"link\":\"https:\\/\\/ko.wikipedia.org\\/wiki\\/%ED%8C%8C%EC%9D%B4%EC%8D%AC_%EC%86%8C%ED%94%84%ED%8A%B8%EC%9B%A8%EC%96%B4_%EC%9E%AC%EB%8B%A8\",\n",
      "\t\t\t\"description\":\"<b>파이썬<\\/b> 소프트웨어 재단 (Python Software Foundation, PSF)은 <b>파이썬<\\/b> 프로그래밍 언어에 헌신하는 비영리 단체로서, 2001년 3월 6일 런칭했다. 이 단체의 임무는 <b>파이썬<\\/b> 공동체의 개발을 발전시키고... \",\n",
      "\t\t\t\"thumbnail\":\"\"\n",
      "\t\t}\n",
      "\t]\n",
      "}\n"
     ]
    }
   ],
   "source": [
    "import os\n",
    "import sys\n",
    "import urllib.request\n",
    "\n",
    "client_id = \"client-id-입력\"\n",
    "client_secret = \"client-secret-입력\"\n",
    "\n",
    "encText = urllib.parse.quote(\"파이썬\")\n",
    "url = \"https://openapi.naver.com/v1/search/encyc?query=\" + encText # blog -> book # json 결과\n",
    "# url = \"https://openapi.naver.com/v1/search/blog.xml?query=\" + encText # xml 결과\n",
    "request = urllib.request.Request(url)\n",
    "request.add_header(\"X-Naver-Client-Id\",client_id)\n",
    "request.add_header(\"X-Naver-Client-Secret\",client_secret)\n",
    "response = urllib.request.urlopen(request)\n",
    "rescode = response.getcode()\n",
    "if(rescode==200):\n",
    "    response_body = response.read()\n",
    "    print(response_body.decode('utf-8'))\n",
    "else:\n",
    "    print(\"Error Code:\" + rescode)"
   ]
  },
  {
   "cell_type": "markdown",
   "id": "4caa7cb5",
   "metadata": {},
   "source": [
    "### 상품 검색\n",
    "- \"몰스킨\""
   ]
  },
  {
   "cell_type": "code",
   "execution_count": 31,
   "id": "11391479",
   "metadata": {},
   "outputs": [
    {
     "name": "stdout",
     "output_type": "stream",
     "text": [
      "{\n",
      "\t\"lastBuildDate\":\"Sat, 23 Jul 2022 15:43:20 +0900\",\n",
      "\t\"total\":24467,\n",
      "\t\"start\":1,\n",
      "\t\"display\":10,\n",
      "\t\"items\":[\n",
      "\t\t{\n",
      "\t\t\t\"title\":\"<b>몰스킨<\\/b> 클래식 노트 소프트커버 도트 포켓 머틀그린\",\n",
      "\t\t\t\"link\":\"https:\\/\\/search.shopping.naver.com\\/gate.nhn?id=24014924801\",\n",
      "\t\t\t\"image\":\"https:\\/\\/shopping-phinf.pstatic.net\\/main_2401492\\/24014924801.20200903021703.jpg\",\n",
      "\t\t\t\"lprice\":\"20760\",\n",
      "\t\t\t\"hprice\":\"\",\n",
      "\t\t\t\"mallName\":\"네이버\",\n",
      "\t\t\t\"productId\":\"24014924801\",\n",
      "\t\t\t\"productType\":\"1\",\n",
      "\t\t\t\"brand\":\"몰스킨\",\n",
      "\t\t\t\"maker\":\"몰스킨\",\n",
      "\t\t\t\"category1\":\"생활\\/건강\",\n",
      "\t\t\t\"category2\":\"문구\\/사무용품\",\n",
      "\t\t\t\"category3\":\"노트\\/수첩\",\n",
      "\t\t\t\"category4\":\"노트\"\n",
      "\t\t},\n",
      "\t\t{\n",
      "\t\t\t\"title\":\"<b>몰스킨<\\/b> 클래식노트 익스팬디드 소프트커버 사파이어블루\",\n",
      "\t\t\t\"link\":\"https:\\/\\/search.shopping.naver.com\\/gate.nhn?id=26369214932\",\n",
      "\t\t\t\"image\":\"https:\\/\\/shopping-phinf.pstatic.net\\/main_2636921\\/26369214932.20210315185812.jpg\",\n",
      "\t\t\t\"lprice\":\"19430\",\n",
      "\t\t\t\"hprice\":\"\",\n",
      "\t\t\t\"mallName\":\"네이버\",\n",
      "\t\t\t\"productId\":\"26369214932\",\n",
      "\t\t\t\"productType\":\"1\",\n",
      "\t\t\t\"brand\":\"몰스킨\",\n",
      "\t\t\t\"maker\":\"몰스킨\",\n",
      "\t\t\t\"category1\":\"생활\\/건강\",\n",
      "\t\t\t\"category2\":\"문구\\/사무용품\",\n",
      "\t\t\t\"category3\":\"노트\\/수첩\",\n",
      "\t\t\t\"category4\":\"노트\"\n",
      "\t\t},\n",
      "\t\t{\n",
      "\t\t\t\"title\":\"<b>몰스킨<\\/b> 2023 위클리 18개월 다이어리 가로형 하드커버 포켓\",\n",
      "\t\t\t\"link\":\"https:\\/\\/search.shopping.naver.com\\/gate.nhn?id=32455855395\",\n",
      "\t\t\t\"image\":\"https:\\/\\/shopping-phinf.pstatic.net\\/main_3245585\\/32455855395.20220521042806.jpg\",\n",
      "\t\t\t\"lprice\":\"26590\",\n",
      "\t\t\t\"hprice\":\"\",\n",
      "\t\t\t\"mallName\":\"네이버\",\n",
      "\t\t\t\"productId\":\"32455855395\",\n",
      "\t\t\t\"productType\":\"1\",\n",
      "\t\t\t\"brand\":\"몰스킨\",\n",
      "\t\t\t\"maker\":\"몰스킨\",\n",
      "\t\t\t\"category1\":\"생활\\/건강\",\n",
      "\t\t\t\"category2\":\"문구\\/사무용품\",\n",
      "\t\t\t\"category3\":\"다이어리\\/플래너\",\n",
      "\t\t\t\"category4\":\"다이어리\"\n",
      "\t\t},\n",
      "\t\t{\n",
      "\t\t\t\"title\":\"<b>몰스킨<\\/b> 2023 위클리 18개월 다이어리 소프트커버 라지 색상선택\",\n",
      "\t\t\t\"link\":\"https:\\/\\/search.shopping.naver.com\\/gate.nhn?id=32456490385\",\n",
      "\t\t\t\"image\":\"https:\\/\\/shopping-phinf.pstatic.net\\/main_3245649\\/32456490385.20220521062038.jpg\",\n",
      "\t\t\t\"lprice\":\"36940\",\n",
      "\t\t\t\"hprice\":\"\",\n",
      "\t\t\t\"mallName\":\"네이버\",\n",
      "\t\t\t\"productId\":\"32456490385\",\n",
      "\t\t\t\"productType\":\"1\",\n",
      "\t\t\t\"brand\":\"몰스킨\",\n",
      "\t\t\t\"maker\":\"몰스킨\",\n",
      "\t\t\t\"category1\":\"생활\\/건강\",\n",
      "\t\t\t\"category2\":\"문구\\/사무용품\",\n",
      "\t\t\t\"category3\":\"다이어리\\/플래너\",\n",
      "\t\t\t\"category4\":\"다이어리\"\n",
      "\t\t},\n",
      "\t\t{\n",
      "\t\t\t\"title\":\"<b>몰스킨<\\/b> <b>몰스킨<\\/b> 무료각인 룰드 노트 익스팬디드 소프트 라지 -블랙\",\n",
      "\t\t\t\"link\":\"https:\\/\\/search.shopping.naver.com\\/gate.nhn?id=29051050229\",\n",
      "\t\t\t\"image\":\"https:\\/\\/shopping-phinf.pstatic.net\\/main_2905105\\/29051050229.20211001010311.jpg\",\n",
      "\t\t\t\"lprice\":\"18000\",\n",
      "\t\t\t\"hprice\":\"\",\n",
      "\t\t\t\"mallName\":\"네이버\",\n",
      "\t\t\t\"productId\":\"29051050229\",\n",
      "\t\t\t\"productType\":\"1\",\n",
      "\t\t\t\"brand\":\"\",\n",
      "\t\t\t\"maker\":\"몰스킨\",\n",
      "\t\t\t\"category1\":\"생활\\/건강\",\n",
      "\t\t\t\"category2\":\"문구\\/사무용품\",\n",
      "\t\t\t\"category3\":\"노트\\/수첩\",\n",
      "\t\t\t\"category4\":\"노트\"\n",
      "\t\t},\n",
      "\t\t{\n",
      "\t\t\t\"title\":\"<b>몰스킨<\\/b> 클래식노트 플레인 하드 L\",\n",
      "\t\t\t\"link\":\"https:\\/\\/search.shopping.naver.com\\/gate.nhn?id=24031381534\",\n",
      "\t\t\t\"image\":\"https:\\/\\/shopping-phinf.pstatic.net\\/main_2403138\\/24031381534.20200904012957.jpg\",\n",
      "\t\t\t\"lprice\":\"19440\",\n",
      "\t\t\t\"hprice\":\"\",\n",
      "\t\t\t\"mallName\":\"네이버\",\n",
      "\t\t\t\"productId\":\"24031381534\",\n",
      "\t\t\t\"productType\":\"1\",\n",
      "\t\t\t\"brand\":\"몰스킨\",\n",
      "\t\t\t\"maker\":\"몰스킨\",\n",
      "\t\t\t\"category1\":\"생활\\/건강\",\n",
      "\t\t\t\"category2\":\"문구\\/사무용품\",\n",
      "\t\t\t\"category3\":\"노트\\/수첩\",\n",
      "\t\t\t\"category4\":\"노트\"\n",
      "\t\t},\n",
      "\t\t{\n",
      "\t\t\t\"title\":\"<b>몰스킨<\\/b> 무료각인 룰드 노트 하드 포켓 -머틀그린\",\n",
      "\t\t\t\"link\":\"https:\\/\\/search.shopping.naver.com\\/gate.nhn?id=24075358671\",\n",
      "\t\t\t\"image\":\"https:\\/\\/shopping-phinf.pstatic.net\\/main_2407535\\/24075358671.20200908032927.jpg\",\n",
      "\t\t\t\"lprice\":\"19670\",\n",
      "\t\t\t\"hprice\":\"\",\n",
      "\t\t\t\"mallName\":\"네이버\",\n",
      "\t\t\t\"productId\":\"24075358671\",\n",
      "\t\t\t\"productType\":\"1\",\n",
      "\t\t\t\"brand\":\"\",\n",
      "\t\t\t\"maker\":\"몰스킨\",\n",
      "\t\t\t\"category1\":\"생활\\/건강\",\n",
      "\t\t\t\"category2\":\"문구\\/사무용품\",\n",
      "\t\t\t\"category3\":\"다이어리\\/플래너\",\n",
      "\t\t\t\"category4\":\"다이어리\"\n",
      "\t\t},\n",
      "\t\t{\n",
      "\t\t\t\"title\":\"<b>몰스킨<\\/b> 클래식 하드커버 노트 플레인 L\",\n",
      "\t\t\t\"link\":\"https:\\/\\/search.shopping.naver.com\\/gate.nhn?id=32168744460\",\n",
      "\t\t\t\"image\":\"https:\\/\\/shopping-phinf.pstatic.net\\/main_3216874\\/32168744460.20220504165419.jpg\",\n",
      "\t\t\t\"lprice\":\"16100\",\n",
      "\t\t\t\"hprice\":\"\",\n",
      "\t\t\t\"mallName\":\"네이버\",\n",
      "\t\t\t\"productId\":\"32168744460\",\n",
      "\t\t\t\"productType\":\"1\",\n",
      "\t\t\t\"brand\":\"\",\n",
      "\t\t\t\"maker\":\"\",\n",
      "\t\t\t\"category1\":\"생활\\/건강\",\n",
      "\t\t\t\"category2\":\"문구\\/사무용품\",\n",
      "\t\t\t\"category3\":\"다이어리\\/플래너\",\n",
      "\t\t\t\"category4\":\"다이어리\"\n",
      "\t\t},\n",
      "\t\t{\n",
      "\t\t\t\"title\":\"<b>몰스킨<\\/b> <b>몰스킨<\\/b> 아트 컬렉션 스케치북 하드커버 A3\",\n",
      "\t\t\t\"link\":\"https:\\/\\/search.shopping.naver.com\\/gate.nhn?id=25889091994\",\n",
      "\t\t\t\"image\":\"https:\\/\\/shopping-phinf.pstatic.net\\/main_2588909\\/25889091994.20220124044707.jpg\",\n",
      "\t\t\t\"lprice\":\"17250\",\n",
      "\t\t\t\"hprice\":\"\",\n",
      "\t\t\t\"mallName\":\"네이버\",\n",
      "\t\t\t\"productId\":\"25889091994\",\n",
      "\t\t\t\"productType\":\"1\",\n",
      "\t\t\t\"brand\":\"몰스킨\",\n",
      "\t\t\t\"maker\":\"몰스킨\",\n",
      "\t\t\t\"category1\":\"생활\\/건강\",\n",
      "\t\t\t\"category2\":\"문구\\/사무용품\",\n",
      "\t\t\t\"category3\":\"다이어리\\/플래너\",\n",
      "\t\t\t\"category4\":\"다이어리\"\n",
      "\t\t},\n",
      "\t\t{\n",
      "\t\t\t\"title\":\"<b>몰스킨<\\/b> 2023 위클리 18개월 다이어리 소프트커버 포켓 색상선택\",\n",
      "\t\t\t\"link\":\"https:\\/\\/search.shopping.naver.com\\/gate.nhn?id=32457903283\",\n",
      "\t\t\t\"image\":\"https:\\/\\/shopping-phinf.pstatic.net\\/main_3245790\\/32457903283.20220521025804.jpg\",\n",
      "\t\t\t\"lprice\":\"25880\",\n",
      "\t\t\t\"hprice\":\"\",\n",
      "\t\t\t\"mallName\":\"네이버\",\n",
      "\t\t\t\"productId\":\"32457903283\",\n",
      "\t\t\t\"productType\":\"1\",\n",
      "\t\t\t\"brand\":\"몰스킨\",\n",
      "\t\t\t\"maker\":\"몰스킨\",\n",
      "\t\t\t\"category1\":\"생활\\/건강\",\n",
      "\t\t\t\"category2\":\"문구\\/사무용품\",\n",
      "\t\t\t\"category3\":\"다이어리\\/플래너\",\n",
      "\t\t\t\"category4\":\"다이어리\"\n",
      "\t\t}\n",
      "\t]\n",
      "}\n"
     ]
    }
   ],
   "source": [
    "# shop에서 검색\n",
    "import os\n",
    "import sys\n",
    "import urllib.request\n",
    "\n",
    "client_id = \"client-id-입력\"\n",
    "client_secret = \"client-secret-입력\"\n",
    "\n",
    "encText = urllib.parse.quote(\"몰스킨\")\n",
    "url = \"https://openapi.naver.com/v1/search/shop?query=\" + encText # blog -> book # json 결과\n",
    "# url = \"https://openapi.naver.com/v1/search/blog.xml?query=\" + encText # xml 결과\n",
    "request = urllib.request.Request(url)\n",
    "request.add_header(\"X-Naver-Client-Id\",client_id)\n",
    "request.add_header(\"X-Naver-Client-Secret\",client_secret)\n",
    "response = urllib.request.urlopen(request)\n",
    "rescode = response.getcode()\n",
    "if(rescode==200):\n",
    "    response_body = response.read()\n",
    "    print(response_body.decode('utf-8'))\n",
    "else:\n",
    "    print(\"Error Code:\" + rescode)"
   ]
  },
  {
   "cell_type": "markdown",
   "id": "cb8aca65",
   "metadata": {},
   "source": [
    "#### (1) gen_search_url(): url 작성\n",
    "\n",
    "encText = urllib.parse.quote(\"몰스킨\")  \n",
    "url = \"https://openapi.naver.com/v1/search/shop?query=\" + encText"
   ]
  },
  {
   "cell_type": "code",
   "execution_count": 74,
   "id": "0f82272c",
   "metadata": {},
   "outputs": [],
   "source": [
    "# (1) gen_search_url()\n",
    "\n",
    "def gen_search_url(api_node, search_text, start_num, disp_num):\n",
    "    base = \"https://openapi.naver.com/v1/search\"\n",
    "    node = \"/\" + api_node + \".json\"\n",
    "    param_query = \"?query=\" + urllib.parse.quote(search_text)\n",
    "    param_start = \"&start=\" + str(start_num)\n",
    "    param_disp = \"&display=\" + str(disp_num)\n",
    "    \n",
    "    return base + node + param_query + param_start + param_disp"
   ]
  },
  {
   "cell_type": "code",
   "execution_count": 75,
   "id": "5184cda0",
   "metadata": {},
   "outputs": [
    {
     "data": {
      "text/plain": [
       "'https://openapi.naver.com/v1/search/shop.json?query=TEST&start=10&display=3'"
      ]
     },
     "execution_count": 75,
     "metadata": {},
     "output_type": "execute_result"
    }
   ],
   "source": [
    "gen_search_url(\"shop\", \"TEST\", 10, 3)"
   ]
  },
  {
   "cell_type": "markdown",
   "id": "e1872ec2",
   "metadata": {},
   "source": [
    "#### (2) get_result_onpage()"
   ]
  },
  {
   "cell_type": "code",
   "execution_count": 76,
   "id": "8a8a14f6",
   "metadata": {},
   "outputs": [],
   "source": [
    "import json\n",
    "import datetime\n",
    "\n",
    "client_id = \"client-id-입력\"\n",
    "client_secret = \"client-secret-입력\"\n",
    "\n",
    "def get_result_onpage(url):\n",
    "    request = urllib.request.Request(url)\n",
    "    request.add_header(\"X-Naver-Client-Id\", client_id)\n",
    "    request.add_header(\"X-Naver-Client-Secret\", client_secret)\n",
    "    response = urllib.request.urlopen(request)\n",
    "    print(\"[%s] Url Request Success\" % datetime.datetime.now()) # 현재시각\n",
    "    return json.loads(response.read().decode(\"utf-8\"))"
   ]
  },
  {
   "cell_type": "code",
   "execution_count": 77,
   "id": "c94bf2c3",
   "metadata": {},
   "outputs": [
    {
     "name": "stdout",
     "output_type": "stream",
     "text": [
      "[2022-07-23 16:02:46.602584] Url Request Success\n"
     ]
    }
   ],
   "source": [
    "url = gen_search_url(\"shop\", \"몰스킨\", 1, 5)\n",
    "one_result = get_result_onpage(url)"
   ]
  },
  {
   "cell_type": "code",
   "execution_count": 78,
   "id": "54d21885",
   "metadata": {
    "scrolled": true
   },
   "outputs": [
    {
     "data": {
      "text/plain": [
       "{'lastBuildDate': 'Sat, 23 Jul 2022 16:02:46 +0900',\n",
       " 'total': 24476,\n",
       " 'start': 1,\n",
       " 'display': 5,\n",
       " 'items': [{'title': '<b>몰스킨</b> 클래식 노트 소프트커버 도트 포켓 머틀그린',\n",
       "   'link': 'https://search.shopping.naver.com/gate.nhn?id=24014924801',\n",
       "   'image': 'https://shopping-phinf.pstatic.net/main_2401492/24014924801.20200903021703.jpg',\n",
       "   'lprice': '20760',\n",
       "   'hprice': '',\n",
       "   'mallName': '네이버',\n",
       "   'productId': '24014924801',\n",
       "   'productType': '1',\n",
       "   'brand': '몰스킨',\n",
       "   'maker': '몰스킨',\n",
       "   'category1': '생활/건강',\n",
       "   'category2': '문구/사무용품',\n",
       "   'category3': '노트/수첩',\n",
       "   'category4': '노트'},\n",
       "  {'title': '<b>몰스킨</b> 클래식노트 익스팬디드 소프트커버 사파이어블루',\n",
       "   'link': 'https://search.shopping.naver.com/gate.nhn?id=26369214932',\n",
       "   'image': 'https://shopping-phinf.pstatic.net/main_2636921/26369214932.20210315185812.jpg',\n",
       "   'lprice': '19430',\n",
       "   'hprice': '',\n",
       "   'mallName': '네이버',\n",
       "   'productId': '26369214932',\n",
       "   'productType': '1',\n",
       "   'brand': '몰스킨',\n",
       "   'maker': '몰스킨',\n",
       "   'category1': '생활/건강',\n",
       "   'category2': '문구/사무용품',\n",
       "   'category3': '노트/수첩',\n",
       "   'category4': '노트'},\n",
       "  {'title': '<b>몰스킨</b> 2023 위클리 18개월 다이어리 가로형 하드커버 포켓',\n",
       "   'link': 'https://search.shopping.naver.com/gate.nhn?id=32455855395',\n",
       "   'image': 'https://shopping-phinf.pstatic.net/main_3245585/32455855395.20220521042806.jpg',\n",
       "   'lprice': '26590',\n",
       "   'hprice': '',\n",
       "   'mallName': '네이버',\n",
       "   'productId': '32455855395',\n",
       "   'productType': '1',\n",
       "   'brand': '몰스킨',\n",
       "   'maker': '몰스킨',\n",
       "   'category1': '생활/건강',\n",
       "   'category2': '문구/사무용품',\n",
       "   'category3': '다이어리/플래너',\n",
       "   'category4': '다이어리'},\n",
       "  {'title': '<b>몰스킨</b> 2023 위클리 18개월 다이어리 소프트커버 라지 색상선택',\n",
       "   'link': 'https://search.shopping.naver.com/gate.nhn?id=32456490385',\n",
       "   'image': 'https://shopping-phinf.pstatic.net/main_3245649/32456490385.20220521062038.jpg',\n",
       "   'lprice': '36940',\n",
       "   'hprice': '',\n",
       "   'mallName': '네이버',\n",
       "   'productId': '32456490385',\n",
       "   'productType': '1',\n",
       "   'brand': '몰스킨',\n",
       "   'maker': '몰스킨',\n",
       "   'category1': '생활/건강',\n",
       "   'category2': '문구/사무용품',\n",
       "   'category3': '다이어리/플래너',\n",
       "   'category4': '다이어리'},\n",
       "  {'title': '<b>몰스킨</b> <b>몰스킨</b> 무료각인 룰드 노트 익스팬디드 소프트 라지 -블랙',\n",
       "   'link': 'https://search.shopping.naver.com/gate.nhn?id=29051050229',\n",
       "   'image': 'https://shopping-phinf.pstatic.net/main_2905105/29051050229.20211001010311.jpg',\n",
       "   'lprice': '18000',\n",
       "   'hprice': '',\n",
       "   'mallName': '네이버',\n",
       "   'productId': '29051050229',\n",
       "   'productType': '1',\n",
       "   'brand': '',\n",
       "   'maker': '몰스킨',\n",
       "   'category1': '생활/건강',\n",
       "   'category2': '문구/사무용품',\n",
       "   'category3': '노트/수첩',\n",
       "   'category4': '노트'}]}"
      ]
     },
     "execution_count": 78,
     "metadata": {},
     "output_type": "execute_result"
    }
   ],
   "source": [
    "one_result"
   ]
  },
  {
   "cell_type": "code",
   "execution_count": 69,
   "id": "afe4b648",
   "metadata": {},
   "outputs": [
    {
     "data": {
      "text/plain": [
       "{'title': '<b>몰스킨</b> 클래식 노트 소프트커버 도트 포켓 머틀그린',\n",
       " 'link': 'https://search.shopping.naver.com/gate.nhn?id=24014924801',\n",
       " 'image': 'https://shopping-phinf.pstatic.net/main_2401492/24014924801.20200903021703.jpg',\n",
       " 'lprice': '20760',\n",
       " 'hprice': '',\n",
       " 'mallName': '네이버',\n",
       " 'productId': '24014924801',\n",
       " 'productType': '1',\n",
       " 'brand': '몰스킨',\n",
       " 'maker': '몰스킨',\n",
       " 'category1': '생활/건강',\n",
       " 'category2': '문구/사무용품',\n",
       " 'category3': '노트/수첩',\n",
       " 'category4': '노트'}"
      ]
     },
     "execution_count": 69,
     "metadata": {},
     "output_type": "execute_result"
    }
   ],
   "source": [
    "one_result[\"items\"][0] # 하나의 딕셔너리"
   ]
  },
  {
   "cell_type": "code",
   "execution_count": 79,
   "id": "d0717881",
   "metadata": {},
   "outputs": [
    {
     "data": {
      "text/plain": [
       "'<b>몰스킨</b> 클래식 노트 소프트커버 도트 포켓 머틀그린'"
      ]
     },
     "execution_count": 79,
     "metadata": {},
     "output_type": "execute_result"
    }
   ],
   "source": [
    "one_result[\"items\"][0][\"title\"] # 키값"
   ]
  },
  {
   "cell_type": "code",
   "execution_count": 80,
   "id": "ce6abde6",
   "metadata": {},
   "outputs": [
    {
     "data": {
      "text/plain": [
       "'https://search.shopping.naver.com/gate.nhn?id=24014924801'"
      ]
     },
     "execution_count": 80,
     "metadata": {},
     "output_type": "execute_result"
    }
   ],
   "source": [
    "one_result[\"items\"][0][\"link\"] # 키값"
   ]
  },
  {
   "cell_type": "code",
   "execution_count": 81,
   "id": "90477587",
   "metadata": {},
   "outputs": [
    {
     "data": {
      "text/plain": [
       "'20760'"
      ]
     },
     "execution_count": 81,
     "metadata": {},
     "output_type": "execute_result"
    }
   ],
   "source": [
    "one_result[\"items\"][0][\"lprice\"] # 키값"
   ]
  },
  {
   "cell_type": "code",
   "execution_count": 82,
   "id": "6b78c1cf",
   "metadata": {},
   "outputs": [
    {
     "data": {
      "text/plain": [
       "'네이버'"
      ]
     },
     "execution_count": 82,
     "metadata": {},
     "output_type": "execute_result"
    }
   ],
   "source": [
    "one_result[\"items\"][0][\"mallName\"] # 키값"
   ]
  },
  {
   "cell_type": "markdown",
   "id": "3300eacc",
   "metadata": {},
   "source": [
    "#### (3) get_fields()"
   ]
  },
  {
   "cell_type": "code",
   "execution_count": 83,
   "id": "80d9b1e7",
   "metadata": {},
   "outputs": [],
   "source": [
    "import pandas as pd\n",
    "\n",
    "def get_fields(json_data):\n",
    "    title = [each[\"title\"] for each in json_data[\"items\"]]\n",
    "    link = [each[\"link\"] for each in json_data[\"items\"]]\n",
    "    lprice = [each[\"lprice\"] for each in json_data[\"items\"]]\n",
    "    mall_name = [each[\"mallName\"] for each in json_data[\"items\"]]\n",
    "    \n",
    "    result_pd = pd.DataFrame({\n",
    "        \"title\": title,\n",
    "        \"link\": link,\n",
    "        \"lprice\": lprice,\n",
    "        \"mall\": mall_name\n",
    "    }, columns=[\"title\", \"link\", \"lprice\", \"mall\"])\n",
    "    \n",
    "    return result_pd"
   ]
  },
  {
   "cell_type": "code",
   "execution_count": 84,
   "id": "678810da",
   "metadata": {},
   "outputs": [
    {
     "data": {
      "text/html": [
       "<div>\n",
       "<style scoped>\n",
       "    .dataframe tbody tr th:only-of-type {\n",
       "        vertical-align: middle;\n",
       "    }\n",
       "\n",
       "    .dataframe tbody tr th {\n",
       "        vertical-align: top;\n",
       "    }\n",
       "\n",
       "    .dataframe thead th {\n",
       "        text-align: right;\n",
       "    }\n",
       "</style>\n",
       "<table border=\"1\" class=\"dataframe\">\n",
       "  <thead>\n",
       "    <tr style=\"text-align: right;\">\n",
       "      <th></th>\n",
       "      <th>title</th>\n",
       "      <th>link</th>\n",
       "      <th>lprice</th>\n",
       "      <th>mall</th>\n",
       "    </tr>\n",
       "  </thead>\n",
       "  <tbody>\n",
       "    <tr>\n",
       "      <th>0</th>\n",
       "      <td>&lt;b&gt;몰스킨&lt;/b&gt; 클래식 노트 소프트커버 도트 포켓 머틀그린</td>\n",
       "      <td>https://search.shopping.naver.com/gate.nhn?id=...</td>\n",
       "      <td>20760</td>\n",
       "      <td>네이버</td>\n",
       "    </tr>\n",
       "    <tr>\n",
       "      <th>1</th>\n",
       "      <td>&lt;b&gt;몰스킨&lt;/b&gt; 클래식노트 익스팬디드 소프트커버 사파이어블루</td>\n",
       "      <td>https://search.shopping.naver.com/gate.nhn?id=...</td>\n",
       "      <td>19430</td>\n",
       "      <td>네이버</td>\n",
       "    </tr>\n",
       "    <tr>\n",
       "      <th>2</th>\n",
       "      <td>&lt;b&gt;몰스킨&lt;/b&gt; 2023 위클리 18개월 다이어리 가로형 하드커버 포켓</td>\n",
       "      <td>https://search.shopping.naver.com/gate.nhn?id=...</td>\n",
       "      <td>26590</td>\n",
       "      <td>네이버</td>\n",
       "    </tr>\n",
       "    <tr>\n",
       "      <th>3</th>\n",
       "      <td>&lt;b&gt;몰스킨&lt;/b&gt; 2023 위클리 18개월 다이어리 소프트커버 라지 색상선택</td>\n",
       "      <td>https://search.shopping.naver.com/gate.nhn?id=...</td>\n",
       "      <td>36940</td>\n",
       "      <td>네이버</td>\n",
       "    </tr>\n",
       "    <tr>\n",
       "      <th>4</th>\n",
       "      <td>&lt;b&gt;몰스킨&lt;/b&gt; &lt;b&gt;몰스킨&lt;/b&gt; 무료각인 룰드 노트 익스팬디드 소프트 라지 -블랙</td>\n",
       "      <td>https://search.shopping.naver.com/gate.nhn?id=...</td>\n",
       "      <td>18000</td>\n",
       "      <td>네이버</td>\n",
       "    </tr>\n",
       "  </tbody>\n",
       "</table>\n",
       "</div>"
      ],
      "text/plain": [
       "                                               title  \\\n",
       "0                 <b>몰스킨</b> 클래식 노트 소프트커버 도트 포켓 머틀그린   \n",
       "1                <b>몰스킨</b> 클래식노트 익스팬디드 소프트커버 사파이어블루   \n",
       "2          <b>몰스킨</b> 2023 위클리 18개월 다이어리 가로형 하드커버 포켓   \n",
       "3        <b>몰스킨</b> 2023 위클리 18개월 다이어리 소프트커버 라지 색상선택   \n",
       "4  <b>몰스킨</b> <b>몰스킨</b> 무료각인 룰드 노트 익스팬디드 소프트 라지 -블랙   \n",
       "\n",
       "                                                link lprice mall  \n",
       "0  https://search.shopping.naver.com/gate.nhn?id=...  20760  네이버  \n",
       "1  https://search.shopping.naver.com/gate.nhn?id=...  19430  네이버  \n",
       "2  https://search.shopping.naver.com/gate.nhn?id=...  26590  네이버  \n",
       "3  https://search.shopping.naver.com/gate.nhn?id=...  36940  네이버  \n",
       "4  https://search.shopping.naver.com/gate.nhn?id=...  18000  네이버  "
      ]
     },
     "execution_count": 84,
     "metadata": {},
     "output_type": "execute_result"
    }
   ],
   "source": [
    "get_fields(one_result)"
   ]
  },
  {
   "cell_type": "markdown",
   "id": "d5e57e26",
   "metadata": {},
   "source": [
    "#### (4) delete_tag()"
   ]
  },
  {
   "cell_type": "code",
   "execution_count": 95,
   "id": "7ad2526f",
   "metadata": {},
   "outputs": [],
   "source": [
    "def delete_tag(input_str):\n",
    "    input_str = input_str.replace(\"<b>\", \"\")\n",
    "    input_str = input_str.replace(\"</b>\", \"\")\n",
    "    return input_str"
   ]
  },
  {
   "cell_type": "code",
   "execution_count": 96,
   "id": "7da651db",
   "metadata": {},
   "outputs": [],
   "source": [
    "import pandas as pd\n",
    "\n",
    "def get_fields(json_data):\n",
    "    title = [delete_tag(each[\"title\"]) for each in json_data[\"items\"]]\n",
    "    link = [each[\"link\"] for each in json_data[\"items\"]]\n",
    "    lprice = [each[\"lprice\"] for each in json_data[\"items\"]]\n",
    "    mall_name = [each[\"mallName\"] for each in json_data[\"items\"]]\n",
    "    \n",
    "    result_pd = pd.DataFrame({\n",
    "        \"title\": title,\n",
    "        \"link\": link,\n",
    "        \"lprice\": lprice,\n",
    "        \"mall\": mall_name\n",
    "    }, columns=[\"title\", \"link\", \"lprice\", \"mall\"])\n",
    "    \n",
    "    return result_pd"
   ]
  },
  {
   "cell_type": "code",
   "execution_count": 97,
   "id": "55d642ec",
   "metadata": {},
   "outputs": [
    {
     "data": {
      "text/html": [
       "<div>\n",
       "<style scoped>\n",
       "    .dataframe tbody tr th:only-of-type {\n",
       "        vertical-align: middle;\n",
       "    }\n",
       "\n",
       "    .dataframe tbody tr th {\n",
       "        vertical-align: top;\n",
       "    }\n",
       "\n",
       "    .dataframe thead th {\n",
       "        text-align: right;\n",
       "    }\n",
       "</style>\n",
       "<table border=\"1\" class=\"dataframe\">\n",
       "  <thead>\n",
       "    <tr style=\"text-align: right;\">\n",
       "      <th></th>\n",
       "      <th>title</th>\n",
       "      <th>link</th>\n",
       "      <th>lprice</th>\n",
       "      <th>mall</th>\n",
       "    </tr>\n",
       "  </thead>\n",
       "  <tbody>\n",
       "    <tr>\n",
       "      <th>0</th>\n",
       "      <td>몰스킨 클래식 노트 소프트커버 도트 포켓 머틀그린</td>\n",
       "      <td>https://search.shopping.naver.com/gate.nhn?id=...</td>\n",
       "      <td>20760</td>\n",
       "      <td>네이버</td>\n",
       "    </tr>\n",
       "    <tr>\n",
       "      <th>1</th>\n",
       "      <td>몰스킨 클래식노트 익스팬디드 소프트커버 사파이어블루</td>\n",
       "      <td>https://search.shopping.naver.com/gate.nhn?id=...</td>\n",
       "      <td>19430</td>\n",
       "      <td>네이버</td>\n",
       "    </tr>\n",
       "    <tr>\n",
       "      <th>2</th>\n",
       "      <td>몰스킨 2023 위클리 18개월 다이어리 가로형 하드커버 포켓</td>\n",
       "      <td>https://search.shopping.naver.com/gate.nhn?id=...</td>\n",
       "      <td>26590</td>\n",
       "      <td>네이버</td>\n",
       "    </tr>\n",
       "    <tr>\n",
       "      <th>3</th>\n",
       "      <td>몰스킨 2023 위클리 18개월 다이어리 소프트커버 라지 색상선택</td>\n",
       "      <td>https://search.shopping.naver.com/gate.nhn?id=...</td>\n",
       "      <td>36940</td>\n",
       "      <td>네이버</td>\n",
       "    </tr>\n",
       "    <tr>\n",
       "      <th>4</th>\n",
       "      <td>몰스킨 몰스킨 무료각인 룰드 노트 익스팬디드 소프트 라지 -블랙</td>\n",
       "      <td>https://search.shopping.naver.com/gate.nhn?id=...</td>\n",
       "      <td>18000</td>\n",
       "      <td>네이버</td>\n",
       "    </tr>\n",
       "  </tbody>\n",
       "</table>\n",
       "</div>"
      ],
      "text/plain": [
       "                                  title  \\\n",
       "0           몰스킨 클래식 노트 소프트커버 도트 포켓 머틀그린   \n",
       "1          몰스킨 클래식노트 익스팬디드 소프트커버 사파이어블루   \n",
       "2    몰스킨 2023 위클리 18개월 다이어리 가로형 하드커버 포켓   \n",
       "3  몰스킨 2023 위클리 18개월 다이어리 소프트커버 라지 색상선택   \n",
       "4   몰스킨 몰스킨 무료각인 룰드 노트 익스팬디드 소프트 라지 -블랙   \n",
       "\n",
       "                                                link lprice mall  \n",
       "0  https://search.shopping.naver.com/gate.nhn?id=...  20760  네이버  \n",
       "1  https://search.shopping.naver.com/gate.nhn?id=...  19430  네이버  \n",
       "2  https://search.shopping.naver.com/gate.nhn?id=...  26590  네이버  \n",
       "3  https://search.shopping.naver.com/gate.nhn?id=...  36940  네이버  \n",
       "4  https://search.shopping.naver.com/gate.nhn?id=...  18000  네이버  "
      ]
     },
     "execution_count": 97,
     "metadata": {},
     "output_type": "execute_result"
    }
   ],
   "source": [
    "get_fields(one_result)"
   ]
  },
  {
   "cell_type": "code",
   "execution_count": 98,
   "id": "9c29262f",
   "metadata": {},
   "outputs": [
    {
     "name": "stdout",
     "output_type": "stream",
     "text": [
      "[2022-07-23 16:10:46.117108] Url Request Success\n"
     ]
    }
   ],
   "source": [
    "url = gen_search_url(\"shop\", \"몰스킨\", 1, 5)\n",
    "json_result = get_result_onpage(url)\n",
    "pd_result = get_fields(json_result)"
   ]
  },
  {
   "cell_type": "code",
   "execution_count": 99,
   "id": "17039c25",
   "metadata": {},
   "outputs": [
    {
     "data": {
      "text/html": [
       "<div>\n",
       "<style scoped>\n",
       "    .dataframe tbody tr th:only-of-type {\n",
       "        vertical-align: middle;\n",
       "    }\n",
       "\n",
       "    .dataframe tbody tr th {\n",
       "        vertical-align: top;\n",
       "    }\n",
       "\n",
       "    .dataframe thead th {\n",
       "        text-align: right;\n",
       "    }\n",
       "</style>\n",
       "<table border=\"1\" class=\"dataframe\">\n",
       "  <thead>\n",
       "    <tr style=\"text-align: right;\">\n",
       "      <th></th>\n",
       "      <th>title</th>\n",
       "      <th>link</th>\n",
       "      <th>lprice</th>\n",
       "      <th>mall</th>\n",
       "    </tr>\n",
       "  </thead>\n",
       "  <tbody>\n",
       "    <tr>\n",
       "      <th>0</th>\n",
       "      <td>몰스킨 클래식 노트 소프트커버 도트 포켓 머틀그린</td>\n",
       "      <td>https://search.shopping.naver.com/gate.nhn?id=...</td>\n",
       "      <td>20760</td>\n",
       "      <td>네이버</td>\n",
       "    </tr>\n",
       "    <tr>\n",
       "      <th>1</th>\n",
       "      <td>몰스킨 클래식노트 익스팬디드 소프트커버 사파이어블루</td>\n",
       "      <td>https://search.shopping.naver.com/gate.nhn?id=...</td>\n",
       "      <td>19430</td>\n",
       "      <td>네이버</td>\n",
       "    </tr>\n",
       "    <tr>\n",
       "      <th>2</th>\n",
       "      <td>몰스킨 2023 위클리 18개월 다이어리 가로형 하드커버 포켓</td>\n",
       "      <td>https://search.shopping.naver.com/gate.nhn?id=...</td>\n",
       "      <td>26590</td>\n",
       "      <td>네이버</td>\n",
       "    </tr>\n",
       "    <tr>\n",
       "      <th>3</th>\n",
       "      <td>몰스킨 2023 위클리 18개월 다이어리 소프트커버 라지 색상선택</td>\n",
       "      <td>https://search.shopping.naver.com/gate.nhn?id=...</td>\n",
       "      <td>36940</td>\n",
       "      <td>네이버</td>\n",
       "    </tr>\n",
       "    <tr>\n",
       "      <th>4</th>\n",
       "      <td>몰스킨 몰스킨 무료각인 룰드 노트 익스팬디드 소프트 라지 -블랙</td>\n",
       "      <td>https://search.shopping.naver.com/gate.nhn?id=...</td>\n",
       "      <td>18000</td>\n",
       "      <td>네이버</td>\n",
       "    </tr>\n",
       "  </tbody>\n",
       "</table>\n",
       "</div>"
      ],
      "text/plain": [
       "                                  title  \\\n",
       "0           몰스킨 클래식 노트 소프트커버 도트 포켓 머틀그린   \n",
       "1          몰스킨 클래식노트 익스팬디드 소프트커버 사파이어블루   \n",
       "2    몰스킨 2023 위클리 18개월 다이어리 가로형 하드커버 포켓   \n",
       "3  몰스킨 2023 위클리 18개월 다이어리 소프트커버 라지 색상선택   \n",
       "4   몰스킨 몰스킨 무료각인 룰드 노트 익스팬디드 소프트 라지 -블랙   \n",
       "\n",
       "                                                link lprice mall  \n",
       "0  https://search.shopping.naver.com/gate.nhn?id=...  20760  네이버  \n",
       "1  https://search.shopping.naver.com/gate.nhn?id=...  19430  네이버  \n",
       "2  https://search.shopping.naver.com/gate.nhn?id=...  26590  네이버  \n",
       "3  https://search.shopping.naver.com/gate.nhn?id=...  36940  네이버  \n",
       "4  https://search.shopping.naver.com/gate.nhn?id=...  18000  네이버  "
      ]
     },
     "execution_count": 99,
     "metadata": {},
     "output_type": "execute_result"
    }
   ],
   "source": [
    "pd_result"
   ]
  },
  {
   "cell_type": "markdown",
   "id": "1f559d9b",
   "metadata": {},
   "source": [
    "#### (5) actMain(): 다 모아주는 함수"
   ]
  },
  {
   "cell_type": "code",
   "execution_count": 101,
   "id": "47766972",
   "metadata": {},
   "outputs": [
    {
     "name": "stdout",
     "output_type": "stream",
     "text": [
      "1\n",
      "101\n",
      "201\n",
      "301\n",
      "401\n",
      "501\n",
      "601\n",
      "701\n",
      "801\n",
      "901\n"
     ]
    }
   ],
   "source": [
    "for n in range(1, 1000, 100):\n",
    "    print(n)"
   ]
  },
  {
   "cell_type": "code",
   "execution_count": 102,
   "id": "a5c3343a",
   "metadata": {
    "scrolled": true
   },
   "outputs": [
    {
     "name": "stdout",
     "output_type": "stream",
     "text": [
      "[2022-07-23 16:13:17.796593] Url Request Success\n",
      "[2022-07-23 16:13:18.104421] Url Request Success\n",
      "[2022-07-23 16:13:18.428915] Url Request Success\n",
      "[2022-07-23 16:13:18.748263] Url Request Success\n",
      "[2022-07-23 16:13:19.053301] Url Request Success\n",
      "[2022-07-23 16:13:19.356106] Url Request Success\n",
      "[2022-07-23 16:13:19.658681] Url Request Success\n",
      "[2022-07-23 16:13:19.978611] Url Request Success\n",
      "[2022-07-23 16:13:20.286031] Url Request Success\n",
      "[2022-07-23 16:13:20.569619] Url Request Success\n"
     ]
    }
   ],
   "source": [
    "result_mol = []\n",
    "\n",
    "for n in range(1, 1000, 100):\n",
    "    url = gen_search_url(\"shop\", \"몰스킨\", n, 100)\n",
    "    json_result = get_result_onpage(url)\n",
    "    pd_result = get_fields(json_result)\n",
    "    \n",
    "    result_mol.append(pd_result)\n",
    "    \n",
    "result_mol = pd.concat(result_mol)"
   ]
  },
  {
   "cell_type": "code",
   "execution_count": 103,
   "id": "e7865c5a",
   "metadata": {},
   "outputs": [
    {
     "name": "stdout",
     "output_type": "stream",
     "text": [
      "<class 'pandas.core.frame.DataFrame'>\n",
      "Int64Index: 1000 entries, 0 to 99\n",
      "Data columns (total 4 columns):\n",
      " #   Column  Non-Null Count  Dtype \n",
      "---  ------  --------------  ----- \n",
      " 0   title   1000 non-null   object\n",
      " 1   link    1000 non-null   object\n",
      " 2   lprice  1000 non-null   object\n",
      " 3   mall    1000 non-null   object\n",
      "dtypes: object(4)\n",
      "memory usage: 39.1+ KB\n"
     ]
    }
   ],
   "source": [
    "result_mol.info()"
   ]
  },
  {
   "cell_type": "code",
   "execution_count": 104,
   "id": "28da079a",
   "metadata": {},
   "outputs": [
    {
     "name": "stdout",
     "output_type": "stream",
     "text": [
      "<class 'pandas.core.frame.DataFrame'>\n",
      "RangeIndex: 1000 entries, 0 to 999\n",
      "Data columns (total 4 columns):\n",
      " #   Column  Non-Null Count  Dtype \n",
      "---  ------  --------------  ----- \n",
      " 0   title   1000 non-null   object\n",
      " 1   link    1000 non-null   object\n",
      " 2   lprice  1000 non-null   object\n",
      " 3   mall    1000 non-null   object\n",
      "dtypes: object(4)\n",
      "memory usage: 31.4+ KB\n"
     ]
    }
   ],
   "source": [
    "result_mol.reset_index(drop=True, inplace=True)\n",
    "result_mol.info() # index가 0부터 999까지로 잘 설정됨"
   ]
  },
  {
   "cell_type": "code",
   "execution_count": 105,
   "id": "efc4a0f6",
   "metadata": {},
   "outputs": [
    {
     "data": {
      "text/html": [
       "<div>\n",
       "<style scoped>\n",
       "    .dataframe tbody tr th:only-of-type {\n",
       "        vertical-align: middle;\n",
       "    }\n",
       "\n",
       "    .dataframe tbody tr th {\n",
       "        vertical-align: top;\n",
       "    }\n",
       "\n",
       "    .dataframe thead th {\n",
       "        text-align: right;\n",
       "    }\n",
       "</style>\n",
       "<table border=\"1\" class=\"dataframe\">\n",
       "  <thead>\n",
       "    <tr style=\"text-align: right;\">\n",
       "      <th></th>\n",
       "      <th>title</th>\n",
       "      <th>link</th>\n",
       "      <th>lprice</th>\n",
       "      <th>mall</th>\n",
       "    </tr>\n",
       "  </thead>\n",
       "  <tbody>\n",
       "    <tr>\n",
       "      <th>0</th>\n",
       "      <td>몰스킨 클래식 노트 소프트커버 도트 포켓 머틀그린</td>\n",
       "      <td>https://search.shopping.naver.com/gate.nhn?id=...</td>\n",
       "      <td>20760</td>\n",
       "      <td>네이버</td>\n",
       "    </tr>\n",
       "    <tr>\n",
       "      <th>1</th>\n",
       "      <td>몰스킨 클래식노트 익스팬디드 소프트커버 사파이어블루</td>\n",
       "      <td>https://search.shopping.naver.com/gate.nhn?id=...</td>\n",
       "      <td>19430</td>\n",
       "      <td>네이버</td>\n",
       "    </tr>\n",
       "    <tr>\n",
       "      <th>2</th>\n",
       "      <td>몰스킨 2023 위클리 18개월 다이어리 가로형 하드커버 포켓</td>\n",
       "      <td>https://search.shopping.naver.com/gate.nhn?id=...</td>\n",
       "      <td>26590</td>\n",
       "      <td>네이버</td>\n",
       "    </tr>\n",
       "    <tr>\n",
       "      <th>3</th>\n",
       "      <td>몰스킨 2023 위클리 18개월 다이어리 소프트커버 라지 색상선택</td>\n",
       "      <td>https://search.shopping.naver.com/gate.nhn?id=...</td>\n",
       "      <td>36940</td>\n",
       "      <td>네이버</td>\n",
       "    </tr>\n",
       "    <tr>\n",
       "      <th>4</th>\n",
       "      <td>몰스킨 몰스킨 무료각인 룰드 노트 익스팬디드 소프트 라지 -블랙</td>\n",
       "      <td>https://search.shopping.naver.com/gate.nhn?id=...</td>\n",
       "      <td>18000</td>\n",
       "      <td>네이버</td>\n",
       "    </tr>\n",
       "  </tbody>\n",
       "</table>\n",
       "</div>"
      ],
      "text/plain": [
       "                                  title  \\\n",
       "0           몰스킨 클래식 노트 소프트커버 도트 포켓 머틀그린   \n",
       "1          몰스킨 클래식노트 익스팬디드 소프트커버 사파이어블루   \n",
       "2    몰스킨 2023 위클리 18개월 다이어리 가로형 하드커버 포켓   \n",
       "3  몰스킨 2023 위클리 18개월 다이어리 소프트커버 라지 색상선택   \n",
       "4   몰스킨 몰스킨 무료각인 룰드 노트 익스팬디드 소프트 라지 -블랙   \n",
       "\n",
       "                                                link lprice mall  \n",
       "0  https://search.shopping.naver.com/gate.nhn?id=...  20760  네이버  \n",
       "1  https://search.shopping.naver.com/gate.nhn?id=...  19430  네이버  \n",
       "2  https://search.shopping.naver.com/gate.nhn?id=...  26590  네이버  \n",
       "3  https://search.shopping.naver.com/gate.nhn?id=...  36940  네이버  \n",
       "4  https://search.shopping.naver.com/gate.nhn?id=...  18000  네이버  "
      ]
     },
     "execution_count": 105,
     "metadata": {},
     "output_type": "execute_result"
    }
   ],
   "source": [
    "result_mol.head()"
   ]
  },
  {
   "cell_type": "code",
   "execution_count": 106,
   "id": "1e6b49ae",
   "metadata": {},
   "outputs": [
    {
     "data": {
      "text/html": [
       "<div>\n",
       "<style scoped>\n",
       "    .dataframe tbody tr th:only-of-type {\n",
       "        vertical-align: middle;\n",
       "    }\n",
       "\n",
       "    .dataframe tbody tr th {\n",
       "        vertical-align: top;\n",
       "    }\n",
       "\n",
       "    .dataframe thead th {\n",
       "        text-align: right;\n",
       "    }\n",
       "</style>\n",
       "<table border=\"1\" class=\"dataframe\">\n",
       "  <thead>\n",
       "    <tr style=\"text-align: right;\">\n",
       "      <th></th>\n",
       "      <th>title</th>\n",
       "      <th>link</th>\n",
       "      <th>lprice</th>\n",
       "      <th>mall</th>\n",
       "    </tr>\n",
       "  </thead>\n",
       "  <tbody>\n",
       "    <tr>\n",
       "      <th>995</th>\n",
       "      <td>T 클래식가죽컬렉션-위켄더 토트백 커피브라운</td>\n",
       "      <td>https://search.shopping.naver.com/gate.nhn?id=...</td>\n",
       "      <td>299200</td>\n",
       "      <td>네이버</td>\n",
       "    </tr>\n",
       "    <tr>\n",
       "      <th>996</th>\n",
       "      <td>T 클래식컬렉션-슬림 브리프케이스</td>\n",
       "      <td>https://search.shopping.naver.com/gate.nhn?id=...</td>\n",
       "      <td>209000</td>\n",
       "      <td>네이버</td>\n",
       "    </tr>\n",
       "    <tr>\n",
       "      <th>997</th>\n",
       "      <td>몰스킨 클래식노트 플레인 백지 레몬그린 하드커버 L</td>\n",
       "      <td>https://search.shopping.naver.com/gate.nhn?id=...</td>\n",
       "      <td>28900</td>\n",
       "      <td>네이버</td>\n",
       "    </tr>\n",
       "    <tr>\n",
       "      <th>998</th>\n",
       "      <td>몰스킨 패션저널 베이비 Baby 하드커버 라지</td>\n",
       "      <td>https://search.shopping.naver.com/gate.nhn?id=...</td>\n",
       "      <td>18100</td>\n",
       "      <td>네이버</td>\n",
       "    </tr>\n",
       "    <tr>\n",
       "      <th>999</th>\n",
       "      <td>ForU713 룰드 제라늄레드 포켓 달력 문구 몰스킨 다이어리 시스템</td>\n",
       "      <td>https://search.shopping.naver.com/gate.nhn?id=...</td>\n",
       "      <td>46540</td>\n",
       "      <td>네이버</td>\n",
       "    </tr>\n",
       "  </tbody>\n",
       "</table>\n",
       "</div>"
      ],
      "text/plain": [
       "                                      title  \\\n",
       "995                T 클래식가죽컬렉션-위켄더 토트백 커피브라운   \n",
       "996                      T 클래식컬렉션-슬림 브리프케이스   \n",
       "997            몰스킨 클래식노트 플레인 백지 레몬그린 하드커버 L   \n",
       "998               몰스킨 패션저널 베이비 Baby 하드커버 라지   \n",
       "999  ForU713 룰드 제라늄레드 포켓 달력 문구 몰스킨 다이어리 시스템   \n",
       "\n",
       "                                                  link  lprice mall  \n",
       "995  https://search.shopping.naver.com/gate.nhn?id=...  299200  네이버  \n",
       "996  https://search.shopping.naver.com/gate.nhn?id=...  209000  네이버  \n",
       "997  https://search.shopping.naver.com/gate.nhn?id=...   28900  네이버  \n",
       "998  https://search.shopping.naver.com/gate.nhn?id=...   18100  네이버  \n",
       "999  https://search.shopping.naver.com/gate.nhn?id=...   46540  네이버  "
      ]
     },
     "execution_count": 106,
     "metadata": {},
     "output_type": "execute_result"
    }
   ],
   "source": [
    "result_mol.tail()"
   ]
  },
  {
   "cell_type": "code",
   "execution_count": 107,
   "id": "870de22d",
   "metadata": {},
   "outputs": [
    {
     "name": "stdout",
     "output_type": "stream",
     "text": [
      "<class 'pandas.core.frame.DataFrame'>\n",
      "RangeIndex: 1000 entries, 0 to 999\n",
      "Data columns (total 4 columns):\n",
      " #   Column  Non-Null Count  Dtype  \n",
      "---  ------  --------------  -----  \n",
      " 0   title   1000 non-null   object \n",
      " 1   link    1000 non-null   object \n",
      " 2   lprice  1000 non-null   float64\n",
      " 3   mall    1000 non-null   object \n",
      "dtypes: float64(1), object(3)\n",
      "memory usage: 31.4+ KB\n"
     ]
    }
   ],
   "source": [
    "result_mol[\"lprice\"] = result_mol[\"lprice\"].astype(\"float\")\n",
    "result_mol.info()"
   ]
  },
  {
   "cell_type": "markdown",
   "id": "b646b80c",
   "metadata": {},
   "source": [
    "#### (6) to_excel()"
   ]
  },
  {
   "cell_type": "code",
   "execution_count": 109,
   "id": "ca032a96",
   "metadata": {},
   "outputs": [
    {
     "name": "stdout",
     "output_type": "stream",
     "text": [
      "Requirement already satisfied: xlsxwriter in c:\\users\\jungsu ryu\\anaconda3\\lib\\site-packages (3.0.1)\n",
      "Note: you may need to restart the kernel to use updated packages.\n"
     ]
    }
   ],
   "source": [
    "pip install xlsxwriter"
   ]
  },
  {
   "cell_type": "code",
   "execution_count": 114,
   "id": "f5de55b1",
   "metadata": {},
   "outputs": [],
   "source": [
    "# 엑셀 작업을 파이썬으로 하는 코드\n",
    "\n",
    "writer = pd.ExcelWriter(\"molskin_diary_in_naver_shop.xlsx\", engine=\"xlsxwriter\")\n",
    "result_mol.to_excel(writer, sheet_name=\"Sheet1\")\n",
    "\n",
    "workbook = writer.book\n",
    "worksheet = writer.sheets[\"Sheet1\"]\n",
    "worksheet.set_column(\"A:A\", 4)\n",
    "worksheet.set_column(\"B:B\", 60)\n",
    "worksheet.set_column(\"C:C\", 10)\n",
    "worksheet.set_column(\"D:D\", 10)\n",
    "worksheet.set_column(\"E:E\", 50)\n",
    "worksheet.set_column(\"F:F\", 10)\n",
    "\n",
    "worksheet.conditional_format(\"C2:C1001\", {\"type\": \"3_color_scale\"}) # 가격 크기에 따라서 색 구분\n",
    "writer.save()"
   ]
  },
  {
   "cell_type": "markdown",
   "id": "79b32846",
   "metadata": {},
   "source": [
    "### 시각화"
   ]
  },
  {
   "cell_type": "code",
   "execution_count": 117,
   "id": "26383da4",
   "metadata": {},
   "outputs": [],
   "source": [
    "import matplotlib.pyplot as plt\n",
    "import seaborn as sns"
   ]
  },
  {
   "cell_type": "code",
   "execution_count": 119,
   "id": "dafb8aaf",
   "metadata": {},
   "outputs": [],
   "source": [
    "from matplotlib import rc\n",
    "\n",
    "rc(\"font\", family=\"Malgun Gothic\")\n",
    "%matplotlib inline"
   ]
  },
  {
   "cell_type": "code",
   "execution_count": 120,
   "id": "73350416",
   "metadata": {},
   "outputs": [
    {
     "name": "stderr",
     "output_type": "stream",
     "text": [
      "C:\\Users\\Jungsu Ryu\\anaconda3\\lib\\site-packages\\seaborn\\_decorators.py:36: FutureWarning: Pass the following variable as a keyword arg: x. From version 0.12, the only valid positional argument will be `data`, and passing other arguments without an explicit keyword will result in an error or misinterpretation.\n",
      "  warnings.warn(\n"
     ]
    },
    {
     "data": {
      "image/png": "[encoded data removed]",
      "text/plain": [
       "<Figure size 1080x432 with 1 Axes>"
      ]
     },
     "metadata": {
      "needs_background": "light"
     },
     "output_type": "display_data"
    }
   ],
   "source": [
    "plt.figure(figsize=(15, 6))\n",
    "sns.countplot(\n",
    "    result_mol[\"mall\"],\n",
    "    data=result_mol,\n",
    "    palette=\"RdYlGn\",\n",
    "    order=result_mol[\"mall\"].value_counts().index\n",
    ")\n",
    "plt.show()"
   ]
  },
  {
   "cell_type": "code",
   "execution_count": null,
   "id": "6fd207fe",
   "metadata": {},
   "outputs": [],
   "source": []
  }
 ],
 "metadata": {
  "kernelspec": {
   "display_name": "Python 3 (ipykernel)",
   "language": "python",
   "name": "python3"
  },
  "language_info": {
   "codemirror_mode": {
    "name": "ipython",
    "version": 3
   },
   "file_extension": ".py",
   "mimetype": "text/x-python",
   "name": "python",
   "nbconvert_exporter": "python",
   "pygments_lexer": "ipython3",
   "version": "3.9.7"
  }
 },
 "nbformat": 4,
 "nbformat_minor": 5
}
