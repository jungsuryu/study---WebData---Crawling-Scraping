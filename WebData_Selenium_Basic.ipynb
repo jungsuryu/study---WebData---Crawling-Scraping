{
 "cells": [
  {
   "cell_type": "markdown",
   "id": "68c608b9",
   "metadata": {},
   "source": [
    "### 셀레니움 설치\n",
    "윈도우: conda install selenium / \n",
    "pip install selenium"
   ]
  },
  {
   "cell_type": "code",
   "execution_count": 1,
   "id": "1513eab9",
   "metadata": {
    "scrolled": true
   },
   "outputs": [
    {
     "name": "stderr",
     "output_type": "stream",
     "text": [
      "C:\\Users\\JUNGSU~1\\AppData\\Local\\Temp/ipykernel_24192/1001275658.py:2: DeprecationWarning: executable_path has been deprecated, please pass in a Service object\n",
      "  driver = webdriver.Chrome('chromedriver.exe') # 크롬 드라이버 경로 지정\n"
     ]
    }
   ],
   "source": [
    "from selenium import webdriver\n",
    "driver = webdriver.Chrome('chromedriver.exe') # 크롬 드라이버 경로 지정\n",
    "driver.get('https://pinkwink.kr/') # 접근하고 싶은 웹주소"
   ]
  },
  {
   "cell_type": "code",
   "execution_count": 2,
   "id": "cd60b551",
   "metadata": {},
   "outputs": [
    {
     "data": {
      "text/plain": [
       "{'width': 1050, 'height': 797}"
      ]
     },
     "execution_count": 2,
     "metadata": {},
     "output_type": "execute_result"
    }
   ],
   "source": [
    "# 현재 브라우저 창 크기\n",
    "driver.get_window_size() # 내가 띄워놓은 창 사이즈에 따라 결과 달라짐"
   ]
  },
  {
   "cell_type": "code",
   "execution_count": 3,
   "id": "f916292a",
   "metadata": {},
   "outputs": [
    {
     "data": {
      "text/plain": [
       "{'x': 2364, 'y': -32}"
      ]
     },
     "execution_count": 3,
     "metadata": {},
     "output_type": "execute_result"
    }
   ],
   "source": [
    "driver.get_window_position() # 현재 좌표값"
   ]
  },
  {
   "cell_type": "code",
   "execution_count": 4,
   "id": "f56f7574",
   "metadata": {},
   "outputs": [
    {
     "data": {
      "text/plain": [
       "{'height': 797, 'width': 1050, 'x': 2364, 'y': -32}"
      ]
     },
     "execution_count": 4,
     "metadata": {},
     "output_type": "execute_result"
    }
   ],
   "source": [
    "driver.get_window_rect() # 가로세로크기, 좌표 모두 보여줌"
   ]
  },
  {
   "cell_type": "code",
   "execution_count": 5,
   "id": "73488ce6",
   "metadata": {},
   "outputs": [
    {
     "data": {
      "text/plain": [
       "5673"
      ]
     },
     "execution_count": 5,
     "metadata": {},
     "output_type": "execute_result"
    }
   ],
   "source": [
    "# 스크롤 가능한 높이(길이)\n",
    "# 자바스크립트 코드 실행\n",
    "driver.execute_script('return document.body.scrollHeight') # 가장 아래 좌표값 반환"
   ]
  },
  {
   "cell_type": "code",
   "execution_count": 6,
   "id": "ed10637e",
   "metadata": {},
   "outputs": [],
   "source": [
    "# 화면 최하단으로 스크롤\n",
    "driver.execute_script(\"window.scrollTo(0, document.body.scrollHeight);\")"
   ]
  },
  {
   "cell_type": "code",
   "execution_count": 7,
   "id": "fcf73b9c",
   "metadata": {},
   "outputs": [],
   "source": [
    "# 화면 상단으로 스크롤\n",
    "driver.execute_script(\"window.scrollTo(0, 0);\")"
   ]
  },
  {
   "cell_type": "code",
   "execution_count": null,
   "id": "c9bbe772",
   "metadata": {},
   "outputs": [],
   "source": [
    "# 스크린샷\n",
    "driver.save_screenshot(\"last_height.png\") # 화면 띄우지 않고 실행할 때 사용"
   ]
  },
  {
   "cell_type": "code",
   "execution_count": 9,
   "id": "6f57b6c9",
   "metadata": {},
   "outputs": [
    {
     "name": "stderr",
     "output_type": "stream",
     "text": [
      "C:\\Users\\JUNGSU~1\\AppData\\Local\\Temp/ipykernel_24192/2468112417.py:5: DeprecationWarning: find_element_by_xpath is deprecated. Please use find_element(by=By.XPATH, value=xpath) instead\n",
      "  some_tag = driver.find_element_by_xpath('//*[@id=\"content\"]/div[3]/a[9]')\n"
     ]
    }
   ],
   "source": [
    "# 특정 태그 지점까지 스크롤\n",
    "from selenium.webdriver import ActionChains\n",
    "# driver.find_element_by_xpath('//*[@id=\"content\"]/div[3]/a[9]')\n",
    "# driver.find_element_by_css_selector('#content > div.pagination > a.btn.view-more')\n",
    "some_tag = driver.find_element_by_xpath('//*[@id=\"content\"]/div[3]/a[9]')\n",
    "\n",
    "action = ActionChains(driver)\n",
    "action.move_to_element(some_tag).perform()"
   ]
  },
  {
   "cell_type": "code",
   "execution_count": null,
   "id": "89668898",
   "metadata": {},
   "outputs": [],
   "source": [
    "# 입력창에 글자 넣기\n",
    "\n",
    "# 검색창이 화면에 보여야 실행이 정상적으로 됨\n",
    "# 셀레니움을 사용할 때 원하는 지점의 태그가 웹브라우저에서 보여야 사용 가능 (대부분)\n",
    "\n",
    "some_tag = driver.find_element_by_id('gsc-i-id1')\n",
    "some_tag.send_keys(\"data science\")\n",
    "# driver.find_element_by_id('gsc-i-id1').send_keys(\"data science\")"
   ]
  },
  {
   "cell_type": "code",
   "execution_count": null,
   "id": "d8714dba",
   "metadata": {},
   "outputs": [],
   "source": [
    "# 브라우저 창 크기 조절\n",
    "# 현재 보이는 화면에서만 액션을 취할 수 있음\n",
    "driver.set_window_size(1920, 1080)"
   ]
  },
  {
   "cell_type": "code",
   "execution_count": null,
   "id": "32c4beb9",
   "metadata": {},
   "outputs": [],
   "source": [
    "# 특정값으로 설정하는 게 아닌 화면 최대화\n",
    "driver.maximize_window()"
   ]
  },
  {
   "cell_type": "code",
   "execution_count": null,
   "id": "873e71f1",
   "metadata": {},
   "outputs": [],
   "source": [
    "# 화면 최소화\n",
    "driver.minimize_window()"
   ]
  },
  {
   "cell_type": "code",
   "execution_count": null,
   "id": "a60a4a46",
   "metadata": {},
   "outputs": [],
   "source": [
    "# 새로 입력하면 뒤에 추가로 붙음\n",
    "# 검색어 초기화 한 다음에 다시 넣어주면 됨\n",
    "some_tag.clear()\n",
    "some_tag.send_keys('python')"
   ]
  },
  {
   "cell_type": "markdown",
   "id": "7e6fbb55",
   "metadata": {},
   "source": [
    "#### xpath => css selector\n",
    "\n",
    "//: 최상위 element\n",
    "\n",
    "\n",
    "*. : 자손 태그 검색 => div form # 띄어쓰기 = 자손태그검색\n",
    "\n",
    "\n",
    "/ : 자식 태그 검색 => div > form # 꺽쇠 = 자식태그검색\n",
    "\n",
    "\n",
    "td[2]: td 태그 중에서 2번째 태그를 선택 => td:nth_child(2)\n",
    "\n"
   ]
  },
  {
   "cell_type": "markdown",
   "id": "8c30f86d",
   "metadata": {},
   "source": [
    "#### find_element => BeautifulSoup\n",
    "\n",
    "- find_element_by_css_selector => find, select_one\n",
    "- find_elements_by_css_selector => find_all, select"
   ]
  },
  {
   "cell_type": "code",
   "execution_count": null,
   "id": "21526afa",
   "metadata": {},
   "outputs": [],
   "source": [
    "# xpath\n",
    "\n",
    "xpath = '//*[@id=\"header\"]/div[2]/button'\n",
    "some_tag = driver.find_element_by_xpath(xpath)\n",
    "some_tag.click()"
   ]
  },
  {
   "cell_type": "code",
   "execution_count": null,
   "id": "e9d0e9ad",
   "metadata": {},
   "outputs": [],
   "source": [
    "# css\n",
    "\n",
    "css = '#header > div.search.on > button'\n",
    "some_tag = driver.find_element_by_css_selector(css)\n",
    "some_tag.click()"
   ]
  },
  {
   "cell_type": "code",
   "execution_count": null,
   "id": "d928d4d6",
   "metadata": {},
   "outputs": [],
   "source": [
    "driver.back()"
   ]
  },
  {
   "cell_type": "code",
   "execution_count": null,
   "id": "5ec203b7",
   "metadata": {},
   "outputs": [],
   "source": [
    "driver.forward()"
   ]
  },
  {
   "cell_type": "code",
   "execution_count": null,
   "id": "84e20a39",
   "metadata": {},
   "outputs": [],
   "source": [
    "from bs4 import BeautifulSoup\n",
    "req = driver.page_source\n",
    "soup = BeautifulSoup(req, 'html.parser') # 해석해주는 엔진: html.parser"
   ]
  },
  {
   "cell_type": "code",
   "execution_count": null,
   "id": "9a7f1de4",
   "metadata": {},
   "outputs": [],
   "source": [
    "# 여기서 원하는 태그 가져오면 됨~"
   ]
  }
 ],
 "metadata": {
  "kernelspec": {
   "display_name": "Python 3 (ipykernel)",
   "language": "python",
   "name": "python3"
  },
  "language_info": {
   "codemirror_mode": {
    "name": "ipython",
    "version": 3
   },
   "file_extension": ".py",
   "mimetype": "text/x-python",
   "name": "python",
   "nbconvert_exporter": "python",
   "pygments_lexer": "ipython3",
   "version": "3.9.7"
  }
 },
 "nbformat": 4,
 "nbformat_minor": 5
}
